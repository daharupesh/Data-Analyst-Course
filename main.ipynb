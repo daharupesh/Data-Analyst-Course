{
 "cells": [
  {
   "cell_type": "markdown",
   "metadata": {},
   "source": [
    "---------------------------------------------------Class-1----------------------------------------------------------------------------------\n",
    "What is Data Analytics?\n",
    "- Data analytics is the science of analyzing raw data to find trends and answer questions.\n",
    "- As Data Analylist we have to clean the data and only find the pattern by modeling and transformation...\n",
    "\n",
    "Source of Data:\n",
    "- excell\n",
    "- sql\n",
    "- internet\n",
    "\n",
    "Future and Scope\n",
    "\n",
    "- currently, the requirement of Data Analytics professionals is 45% in in-demand jobs.\n",
    "- With the increasing amount of data being generated every day, data analysts are expected to continue to be in demand in the future.\n",
    "\n",
    "- Everage salary in 550000\n",
    "\n",
    "\n",
    "Roadmap-\n",
    "\n",
    "-python\n",
    "-libraries numpy,pandas,Matplotlib,seaborn\n",
    "-SQL Data Analysis in Mysql\n",
    "-Excell cleaning tranforming Modeling Visualization\n",
    "-power BI\n",
    "\n",
    "\n",
    "\n",
    "Work more than 20 projects\n"
   ]
  },
  {
   "cell_type": "code",
   "execution_count": null,
   "metadata": {},
   "outputs": [],
   "source": []
  },
  {
   "cell_type": "markdown",
   "metadata": {},
   "source": []
  },
  {
   "cell_type": "markdown",
   "metadata": {},
   "source": [
    "-----------------------------------------class-2---------------------------------------------------------------------------\n",
    "Python Programming Language...\n",
    "Most Popular Language in 2023\n",
    "\n",
    "\n",
    "Python's Versality has made it a favorite among developers of all skill levels, from beginners to experts.\n",
    "\n",
    "What is python?\n",
    "\n",
    "- Python is both compiled and interpreted, Object-oriented, high-level Programming language with dynamic semantics\n",
    "\n",
    "\n",
    "Creator of Python:-\n",
    "\n",
    "Guido Van Rossum\n",
    "\n",
    "Featueres of Python\n",
    "\n",
    "- Object Oriented\n",
    "- Dynamically Typed\n",
    "- Gui Programming Support\n",
    "- Extensible\n",
    "- Large Standard Library\n",
    "- Free and open source\n",
    "- Cross platform\n",
    "- Interpreted language\n",
    "- Expressive Language\n",
    "- Easy to learn and Use\n",
    "\n",
    "\n",
    "Growth Popularity of Python:-\n",
    "\n",
    "- Application's of Python?\n",
    "  - Data Science, Web Development, Data Engineering, Machine Learning, Artificial Intelligence and Data Analytics\n",
    "  "
   ]
  },
  {
   "cell_type": "markdown",
   "metadata": {},
   "source": [
    "--------------------------------class-3-------------------------------------------------------------\n",
    "\n",
    "Python installation\n",
    "- add environment path of python\n",
    "IDE (Integrated Development Environment)\n",
    "- Smart Typing\n"
   ]
  },
  {
   "cell_type": "markdown",
   "metadata": {},
   "source": [
    "-----------------------------class-4----------------------------------\n",
    "First program in python"
   ]
  },
  {
   "cell_type": "code",
   "execution_count": 1,
   "metadata": {},
   "outputs": [
    {
     "name": "stdout",
     "output_type": "stream",
     "text": [
      "Hello world\n"
     ]
    }
   ],
   "source": [
    "print(\"Hello world\")"
   ]
  },
  {
   "cell_type": "markdown",
   "metadata": {},
   "source": [
    "How to use Multiple lines in print Statement:\n",
    "\n",
    "There are two methods to write a satement in multiple lines \n",
    " - To print multiple lines in python, triple Quotations are used.\n",
    " - \\n (backslash) is used to insert something in the next line.\n",
    " - \n"
   ]
  },
  {
   "cell_type": "code",
   "execution_count": 3,
   "metadata": {},
   "outputs": [
    {
     "name": "stdout",
     "output_type": "stream",
     "text": [
      "Helli\n",
      "      my name \n",
      "      is rupesh \n",
      "this is my first \n",
      " programming language \n",
      " i like it\n"
     ]
    }
   ],
   "source": [
    "print('''Helli\n",
    "      my name \n",
    "      is rupesh ''')\n",
    "\n",
    "print(\"this is my first \\n programming language \\n i like it\")"
   ]
  },
  {
   "cell_type": "markdown",
   "metadata": {},
   "source": []
  },
  {
   "cell_type": "markdown",
   "metadata": {},
   "source": [
    "Comments in python...\n",
    "There are two types of comments..\n",
    "- To add single line comments, # hash is used.\n",
    " - python Completely ignores anything written after #.\n",
    "- To add multiline comments in python, Triple Quotations are used.\n",
    " - \"\"\" hello boss!\"\"\" "
   ]
  },
  {
   "cell_type": "markdown",
   "metadata": {},
   "source": [
    "------------------------class-3-----------------------------\n",
    "# Variables\n",
    "\n",
    "- Variables are placeholders, Which can store a value.\n",
    "- in simple words, Variable is a container that holds data inside it as a value\n",
    "\n"
   ]
  },
  {
   "cell_type": "code",
   "execution_count": 4,
   "metadata": {},
   "outputs": [
    {
     "name": "stdout",
     "output_type": "stream",
     "text": [
      "Rupesh Kumar Daha\n"
     ]
    }
   ],
   "source": [
    "a = \"Rupesh Kumar Daha\"\n",
    "print(a)"
   ]
  },
  {
   "cell_type": "markdown",
   "metadata": {},
   "source": [
    "Rules for Writing a Variables\n",
    "\n",
    "1. Python is Case-sensitive Language, therefore the variables names are case-sensitive as well"
   ]
  },
  {
   "cell_type": "code",
   "execution_count": 10,
   "metadata": {},
   "outputs": [
    {
     "name": "stdout",
     "output_type": "stream",
     "text": [
      "python is case sensitive!!!\n"
     ]
    }
   ],
   "source": [
    "# example \n",
    "try: \n",
    " Name = \"Hello Rupesh\"\n",
    " print(name)\n",
    "except Exception as e:\n",
    "  if e:\n",
    "    print(\"python is case sensitive!!!\")\n",
    "  else:\n",
    "    print(\"error is \",e)  \n",
    "else:\n",
    " print(\"Error Does not occure\")\n",
    "finally:\n",
    " pass"
   ]
  },
  {
   "cell_type": "markdown",
   "metadata": {},
   "source": [
    "2. Make Sure to not use spaces while creating a varible. One can use (_) underscore to separate the names while writing a variable.\n",
    "\n",
    "3. A variable name should never start with a number or special symbols.\n"
   ]
  },
  {
   "cell_type": "code",
   "execution_count": 2,
   "metadata": {},
   "outputs": [
    {
     "name": "stdout",
     "output_type": "stream",
     "text": [
      "the varible you have created having space and it is incorrect. \n"
     ]
    }
   ],
   "source": [
    "# 2\n",
    "check = input(\"Enter Variable name: \")\n",
    "\n",
    "if \" \" in check:\n",
    "    print(\"the varible you have created having space and it is incorrect. \")\n",
    "\n",
    "else:\n",
    "    print(\"correct variable!\")"
   ]
  },
  {
   "cell_type": "code",
   "execution_count": 11,
   "metadata": {},
   "outputs": [
    {
     "name": "stdout",
     "output_type": "stream",
     "text": [
      "['+', '-', '*', '/', '%', '**', '//', '=', '==', '!=', '>', '<', '>=', '<=', 'and', 'or', 'not', '&', '|', '^', '~', '<<', '>>', 'in', 'is', 'not in', 'is not', '.', ':', ',', '()', '[]', '{}', '#', \"'\", '\"', \"'''\", '\"\"\"', '\\\\', '@', '$', ';', '...', '_']\n"
     ]
    }
   ],
   "source": [
    "special_characters = [\n",
    "    '+', '-', '*', '/', '%', '**', '//',\n",
    "    '=', '==', '!=', '>', '<', '>=', '<=',\n",
    "    'and', 'or', 'not',\n",
    "    '&', '|', '^', '~', '<<', '>>',\n",
    "    'in', 'is', 'not in', 'is not',\n",
    "    '.', ':', ',', '()', '[]', '{}',\n",
    "    '#', \"'\", '\"', \"'''\", '\"\"\"', '\\\\',\n",
    "    '@', '$', ';', '...', '_'\n",
    "]\n",
    "\n",
    "print(special_characters)\n"
   ]
  },
  {
   "cell_type": "markdown",
   "metadata": {},
   "source": [
    "---------------------------------class-4---------------------------------------------\n",
    "User input:\n",
    "name = input(\"Enter input\")\n",
    "type casting concept:\n",
    " number = float(input(\"Enter input\"))\n",
    " age = input(input(\"Enter input\"))\n",
    " exp1 = eval(input(\"enter any equations here: \"))"
   ]
  },
  {
   "cell_type": "code",
   "execution_count": 6,
   "metadata": {},
   "outputs": [
    {
     "name": "stdout",
     "output_type": "stream",
     "text": [
      "23\n"
     ]
    }
   ],
   "source": [
    "exp1 = eval(input(\"enter any equations here: \"))\n",
    "print(exp1)"
   ]
  },
  {
   "cell_type": "markdown",
   "metadata": {},
   "source": [
    "Datatypes:\n",
    "- Text-type: String(str)\n",
    "- Numeric Types: integer(int), floating point(float), complex\n",
    "- Sequence Types: list,tuple and range\n",
    "- Mapping Type: Dictionaries(dict)\n",
    "- Set Type: Set, frozenset\n",
    "- Boolean Type:bool\n",
    "- Binary Types: bytes,bytearray, memoryview"
   ]
  },
  {
   "cell_type": "markdown",
   "metadata": {},
   "source": [
    "# Text-type: String(str)"
   ]
  },
  {
   "cell_type": "code",
   "execution_count": 3,
   "metadata": {},
   "outputs": [
    {
     "name": "stdout",
     "output_type": "stream",
     "text": [
      "Hello, world!\n",
      "10\n",
      "3.14\n",
      "(2+3j)\n",
      "[1, 2, 3, 4, 5]\n",
      "(1, 2, 3, 4, 5)\n",
      "[1, 2, 3, 4, 5]\n",
      "{'name': 'John', 'age': 30}\n",
      "{1, 2, 3, 4, 5}\n",
      "frozenset({1, 2, 3, 4, 5})\n",
      "True\n",
      "b'Hello'\n",
      "bytearray(b'Hello')\n",
      "<memory at 0x000001F87F290580>\n"
     ]
    }
   ],
   "source": [
    "# Define a string variable\n",
    "text = \"Hello, world!\"\n",
    "\n",
    "# Print the string\n",
    "print(text)\n",
    "\n",
    "\n",
    "num_int = 10\n",
    "print(num_int)\n",
    "\n",
    "num_float = 3.14\n",
    "print(num_float)\n",
    "\n",
    "num_complex = 2 + 3j\n",
    "print(num_complex)\n",
    "\n",
    "\n",
    "my_list = [1, 2, 3, 4, 5]\n",
    "print(my_list)\n",
    "\n",
    "my_tuple = (1, 2, 3, 4, 5)\n",
    "print(my_tuple)\n",
    "\n",
    "\n",
    "my_range = range(1, 6)\n",
    "print(list(my_range))\n",
    "\n",
    "\n",
    "my_dict = {'name': 'John', 'age': 30}\n",
    "print(my_dict)\n",
    "\n",
    "\n",
    "my_set = {1, 2, 3, 4, 5}\n",
    "print(my_set)\n",
    "\n",
    "\n",
    "my_frozenset = frozenset({1, 2, 3, 4, 5})\n",
    "print(my_frozenset)\n",
    "\n",
    "is_valid = True\n",
    "print(is_valid)\n",
    "\n",
    "\n",
    "my_bytes = b'Hello'\n",
    "print(my_bytes)\n",
    "\n",
    "my_bytearray = bytearray(b'Hello')\n",
    "print(my_bytearray)\n",
    "\n",
    "\n",
    "my_memoryview = memoryview(b'Hello')\n",
    "print(my_memoryview)\n"
   ]
  },
  {
   "cell_type": "markdown",
   "metadata": {},
   "source": [
    "The main difference between a set and a frozenset lies in their mutability:\n",
    "\n",
    "1. Set: A set in Python is an unordered collection of unique elements. Sets are mutable, meaning you can add or remove elements from them after creation. However, the elements themselves must be immutable and hashable.\n",
    "2. Frozenset: A frozenset, on the other hand, is an immutable set. Once it is created, its elements cannot be changed. You cannot add or remove elements from a frozenset. Frozensets are useful in situations where you need an immutable collection of unique elements."
   ]
  },
  {
   "cell_type": "markdown",
   "metadata": {},
   "source": [
    "# User_input"
   ]
  },
  {
   "cell_type": "code",
   "execution_count": 4,
   "metadata": {},
   "outputs": [
    {
     "name": "stdout",
     "output_type": "stream",
     "text": [
      "23\n"
     ]
    }
   ],
   "source": [
    "age = int(input(\"enter user input: \"))\n",
    "print(age)"
   ]
  },
  {
   "cell_type": "markdown",
   "metadata": {},
   "source": [
    " # Type Casting\n",
    "   Conversion of one datatype to another is called as type-casting.\n",
    "   There are two types of type-casting:\n",
    "   \n",
    "    1. Implicit Type Conversion: Where python itself converts one datatype to another.\n",
    "    2. Explicit Type conversion: Where the user converts one data types to another."
   ]
  },
  {
   "cell_type": "markdown",
   "metadata": {},
   "source": [
    "Type Function use to give the types of number in python...."
   ]
  },
  {
   "cell_type": "code",
   "execution_count": 5,
   "metadata": {},
   "outputs": [
    {
     "name": "stdout",
     "output_type": "stream",
     "text": [
      "<class 'int'>\n",
      "<class 'float'>\n",
      "<class 'float'>\n"
     ]
    }
   ],
   "source": [
    "a = 123\n",
    "b = 1.23\n",
    "print(type(a))\n",
    "print(type(b))\n",
    "c= a+b\n",
    "print(type(c)) # Implicit type csting"
   ]
  },
  {
   "cell_type": "markdown",
   "metadata": {},
   "source": [
    "1. Write a program to display a person's name, age and address in three different lines.\n",
    "2. Write a program to swap two vriables.\n",
    "3. Write a program to convert a float into integer.\n",
    "4. Write a program to take details froma student for ID-card and then print it in different lines.\n",
    "5. Write a program to take an user input as integer then convert to float."
   ]
  },
  {
   "cell_type": "code",
   "execution_count": 5,
   "metadata": {},
   "outputs": [
    {
     "name": "stdout",
     "output_type": "stream",
     "text": [
      "Name: John\n",
      "Age: 30\n",
      "Address: 123 Main St, City\n"
     ]
    }
   ],
   "source": [
    "name = \"John\"\n",
    "age = 30\n",
    "address = \"123 Main St, City\"\n",
    "print(\"Name:\", name)\n",
    "print(\"Age:\", age)\n",
    "print(\"Address:\", address)\n"
   ]
  },
  {
   "cell_type": "code",
   "execution_count": 6,
   "metadata": {},
   "outputs": [
    {
     "name": "stdout",
     "output_type": "stream",
     "text": [
      "Before swapping:\n",
      "a = 5\n",
      "b = 10\n",
      "After swapping:\n",
      "a = 10\n",
      "b = 5\n"
     ]
    }
   ],
   "source": [
    "a = 5\n",
    "b = 10\n",
    "print(\"Before swapping:\")\n",
    "print(\"a =\", a)\n",
    "print(\"b =\", b)\n",
    "\n",
    "# Swapping\n",
    "a, b = b, a\n",
    "\n",
    "print(\"After swapping:\")\n",
    "print(\"a =\", a)\n",
    "print(\"b =\", b)\n"
   ]
  },
  {
   "cell_type": "code",
   "execution_count": 7,
   "metadata": {},
   "outputs": [
    {
     "name": "stdout",
     "output_type": "stream",
     "text": [
      "Float number: 3.14\n",
      "Converted to integer: 3\n"
     ]
    }
   ],
   "source": [
    "float_num = 3.14\n",
    "int_num = int(float_num)\n",
    "print(\"Float number:\", float_num)\n",
    "print(\"Converted to integer:\", int_num)\n"
   ]
  },
  {
   "cell_type": "code",
   "execution_count": 8,
   "metadata": {},
   "outputs": [
    {
     "name": "stdout",
     "output_type": "stream",
     "text": [
      "Student's ID-card details:\n",
      "Name: Rupesh Daha\n",
      "Age: 22\n",
      "Address: Rajkot\n"
     ]
    }
   ],
   "source": [
    "name = input(\"Enter student's name: \")\n",
    "age = input(\"Enter student's age: \")\n",
    "address = input(\"Enter student's address: \")\n",
    "\n",
    "print(\"Student's ID-card details:\")\n",
    "print(\"Name:\", name)\n",
    "print(\"Age:\", age)\n",
    "print(\"Address:\", address)\n"
   ]
  },
  {
   "cell_type": "code",
   "execution_count": 9,
   "metadata": {},
   "outputs": [
    {
     "name": "stdout",
     "output_type": "stream",
     "text": [
      "Converted to float: 45.0\n"
     ]
    }
   ],
   "source": [
    "num_int = int(input(\"Enter an integer: \"))\n",
    "num_float = float(num_int)\n",
    "print(\"Converted to float:\", num_float)\n"
   ]
  },
  {
   "cell_type": "code",
   "execution_count": null,
   "metadata": {},
   "outputs": [],
   "source": []
  }
 ],
 "metadata": {
  "kernelspec": {
   "display_name": "Python 3",
   "language": "python",
   "name": "python3"
  },
  "language_info": {
   "codemirror_mode": {
    "name": "ipython",
    "version": 3
   },
   "file_extension": ".py",
   "mimetype": "text/x-python",
   "name": "python",
   "nbconvert_exporter": "python",
   "pygments_lexer": "ipython3",
   "version": "3.11.0"
  }
 },
 "nbformat": 4,
 "nbformat_minor": 2
}
