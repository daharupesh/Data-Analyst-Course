{
 "cells": [
  {
   "cell_type": "markdown",
   "metadata": {},
   "source": [
    "---------------------------------------------------Class-1----------------------------------------------------------------------------------\n",
    "What is Data Analytics?\n",
    "- Data analytics is the science of analyzing raw data to find trends and answer questions.\n",
    "- As Data Analylist we have to clean the data and only find the pattern by modeling and transformation...\n",
    "\n",
    "Source of Data:\n",
    "- excell\n",
    "- sql\n",
    "- internet\n",
    "\n",
    "Future and Scope\n",
    "\n",
    "- currently, the requirement of Data Analytics professionals is 45% in in-demand jobs.\n",
    "- With the increasing amount of data being generated every day, data analysts are expected to continue to be in demand in the future.\n",
    "\n",
    "- Everage salary in 550000\n",
    "\n",
    "\n",
    "Roadmap-\n",
    "\n",
    "-python\n",
    "-libraries numpy,pandas,Matplotlib,seaborn\n",
    "-SQL Data Analysis in Mysql\n",
    "-Excell cleaning tranforming Modeling Visualization\n",
    "-power BI\n",
    "\n",
    "\n",
    "\n",
    "Work more than 20 projects\n"
   ]
  },
  {
   "cell_type": "code",
   "execution_count": null,
   "metadata": {},
   "outputs": [],
   "source": []
  },
  {
   "cell_type": "markdown",
   "metadata": {},
   "source": []
  },
  {
   "cell_type": "markdown",
   "metadata": {},
   "source": [
    "-----------------------------------------class-2---------------------------------------------------------------------------\n",
    "Python Programming Language...\n",
    "Most Popular Language in 2023\n",
    "\n",
    "\n",
    "Python's Versality has made it a favorite among developers of all skill levels, from beginners to experts.\n",
    "\n",
    "What is python?\n",
    "\n",
    "- Python is both compiled and interpreted, Object-oriented, high-level Programming language with dynamic semantics\n",
    "\n",
    "\n",
    "Creator of Python:-\n",
    "\n",
    "Guido Van Rossum\n",
    "\n",
    "Featueres of Python\n",
    "\n",
    "- Object Oriented\n",
    "- Dynamically Typed\n",
    "- Gui Programming Support\n",
    "- Extensible\n",
    "- Large Standard Library\n",
    "- Free and open source\n",
    "- Cross platform\n",
    "- Interpreted language\n",
    "- Expressive Language\n",
    "- Easy to learn and Use\n",
    "\n",
    "\n",
    "Growth Popularity of Python:-\n",
    "\n",
    "- Application's of Python?\n",
    "  - Data Science, Web Development, Data Engineering, Machine Learning, Artificial Intelligence and Data Analytics\n",
    "  "
   ]
  },
  {
   "cell_type": "markdown",
   "metadata": {},
   "source": [
    "--------------------------------class-3-------------------------------------------------------------\n",
    "\n",
    "Python installation\n",
    "- add environment path of python\n",
    "IDE (Integrated Development Environment)\n",
    "- Smart Typing\n"
   ]
  },
  {
   "cell_type": "markdown",
   "metadata": {},
   "source": [
    "-----------------------------class-4----------------------------------\n",
    "First program in python"
   ]
  },
  {
   "cell_type": "code",
   "execution_count": 1,
   "metadata": {},
   "outputs": [
    {
     "name": "stdout",
     "output_type": "stream",
     "text": [
      "Hello world\n"
     ]
    }
   ],
   "source": [
    "print(\"Hello world\")"
   ]
  },
  {
   "cell_type": "markdown",
   "metadata": {},
   "source": [
    "How to use Multiple lines in print Statement:\n",
    "\n",
    "There are two methods to write a satement in multiple lines \n",
    " - To print multiple lines in python, triple Quotations are used.\n",
    " - \\n (backslash) is used to insert something in the next line.\n",
    " - \n"
   ]
  },
  {
   "cell_type": "code",
   "execution_count": 3,
   "metadata": {},
   "outputs": [
    {
     "name": "stdout",
     "output_type": "stream",
     "text": [
      "Helli\n",
      "      my name \n",
      "      is rupesh \n",
      "this is my first \n",
      " programming language \n",
      " i like it\n"
     ]
    }
   ],
   "source": [
    "print('''Helli\n",
    "      my name \n",
    "      is rupesh ''')\n",
    "\n",
    "print(\"this is my first \\n programming language \\n i like it\")"
   ]
  },
  {
   "cell_type": "markdown",
   "metadata": {},
   "source": []
  },
  {
   "cell_type": "markdown",
   "metadata": {},
   "source": [
    "Comments in python...\n",
    "There are two types of comments..\n",
    "- To add single line comments, # hash is used.\n",
    " - python Completely ignores anything written after #.\n",
    "- To add multiline comments in python, Triple Quotations are used.\n",
    " - \"\"\" hello boss!\"\"\" "
   ]
  },
  {
   "cell_type": "markdown",
   "metadata": {},
   "source": [
    "------------------------class-3-----------------------------\n",
    "# Variables\n",
    "\n",
    "- Variables are placeholders, Which can store a value.\n",
    "- in simple words, Variable is a container that holds data inside it as a value\n",
    "\n"
   ]
  },
  {
   "cell_type": "code",
   "execution_count": 4,
   "metadata": {},
   "outputs": [
    {
     "name": "stdout",
     "output_type": "stream",
     "text": [
      "Rupesh Kumar Daha\n"
     ]
    }
   ],
   "source": [
    "a = \"Rupesh Kumar Daha\"\n",
    "print(a)"
   ]
  },
  {
   "cell_type": "markdown",
   "metadata": {},
   "source": [
    "Rules for Writing a Variables\n",
    "\n",
    "1. Python is Case-sensitive Language, therefore the variables names are case-sensitive as well"
   ]
  },
  {
   "cell_type": "code",
   "execution_count": 10,
   "metadata": {},
   "outputs": [
    {
     "name": "stdout",
     "output_type": "stream",
     "text": [
      "python is case sensitive!!!\n"
     ]
    }
   ],
   "source": [
    "# example \n",
    "try: \n",
    " Name = \"Hello Rupesh\"\n",
    " print(name)\n",
    "except Exception as e:\n",
    "  if e:\n",
    "    print(\"python is case sensitive!!!\")\n",
    "  else:\n",
    "    print(\"error is \",e)  \n",
    "else:\n",
    " print(\"Error Does not occure\")\n",
    "finally:\n",
    " pass"
   ]
  },
  {
   "cell_type": "markdown",
   "metadata": {},
   "source": [
    "2. Make Sure to not use spaces while creating a varible. One can use (_) underscore to separate the names while writing a variable.\n",
    "\n",
    "3. A variable name should never start with a number or special symbols.\n"
   ]
  },
  {
   "cell_type": "code",
   "execution_count": 2,
   "metadata": {},
   "outputs": [
    {
     "name": "stdout",
     "output_type": "stream",
     "text": [
      "the varible you have created having space and it is incorrect. \n"
     ]
    }
   ],
   "source": [
    "# 2\n",
    "check = input(\"Enter Variable name: \")\n",
    "\n",
    "if \" \" in check:\n",
    "    print(\"the varible you have created having space and it is incorrect. \")\n",
    "\n",
    "else:\n",
    "    print(\"correct variable!\")"
   ]
  },
  {
   "cell_type": "code",
   "execution_count": 11,
   "metadata": {},
   "outputs": [
    {
     "name": "stdout",
     "output_type": "stream",
     "text": [
      "['+', '-', '*', '/', '%', '**', '//', '=', '==', '!=', '>', '<', '>=', '<=', 'and', 'or', 'not', '&', '|', '^', '~', '<<', '>>', 'in', 'is', 'not in', 'is not', '.', ':', ',', '()', '[]', '{}', '#', \"'\", '\"', \"'''\", '\"\"\"', '\\\\', '@', '$', ';', '...', '_']\n"
     ]
    }
   ],
   "source": [
    "special_characters = [\n",
    "    '+', '-', '*', '/', '%', '**', '//',\n",
    "    '=', '==', '!=', '>', '<', '>=', '<=',\n",
    "    'and', 'or', 'not',\n",
    "    '&', '|', '^', '~', '<<', '>>',\n",
    "    'in', 'is', 'not in', 'is not',\n",
    "    '.', ':', ',', '()', '[]', '{}',\n",
    "    '#', \"'\", '\"', \"'''\", '\"\"\"', '\\\\',\n",
    "    '@', '$', ';', '...', '_'\n",
    "]\n",
    "\n",
    "print(special_characters)\n"
   ]
  },
  {
   "cell_type": "markdown",
   "metadata": {},
   "source": [
    "---------------------------------class-4---------------------------------------------\n",
    "User input:\n",
    "name = input(\"Enter input\")\n",
    "type casting concept:\n",
    " number = float(input(\"Enter input\"))\n",
    " age = input(input(\"Enter input\"))\n",
    " exp1 = eval(input(\"enter any equations here: \"))"
   ]
  },
  {
   "cell_type": "code",
   "execution_count": 6,
   "metadata": {},
   "outputs": [
    {
     "name": "stdout",
     "output_type": "stream",
     "text": [
      "23\n"
     ]
    }
   ],
   "source": [
    "exp1 = eval(input(\"enter any equations here: \"))\n",
    "print(exp1)"
   ]
  },
  {
   "cell_type": "markdown",
   "metadata": {},
   "source": [
    "Datatypes:\n",
    "- Text-type: String(str)\n",
    "- Numeric Types: integer(int), floating point(float), complex\n",
    "- Sequence Types: list,tuple and range\n",
    "- Mapping Type: Dictionaries(dict)\n",
    "- Set Type: Set, frozenset\n",
    "- Boolean Type:bool\n",
    "- Binary Types: bytes,bytearray, memoryview"
   ]
  },
  {
   "cell_type": "markdown",
   "metadata": {},
   "source": [
    "# Text-type: String(str)"
   ]
  },
  {
   "cell_type": "code",
   "execution_count": 3,
   "metadata": {},
   "outputs": [
    {
     "name": "stdout",
     "output_type": "stream",
     "text": [
      "Hello, world!\n",
      "10\n",
      "3.14\n",
      "(2+3j)\n",
      "[1, 2, 3, 4, 5]\n",
      "(1, 2, 3, 4, 5)\n",
      "[1, 2, 3, 4, 5]\n",
      "{'name': 'John', 'age': 30}\n",
      "{1, 2, 3, 4, 5}\n",
      "frozenset({1, 2, 3, 4, 5})\n",
      "True\n",
      "b'Hello'\n",
      "bytearray(b'Hello')\n",
      "<memory at 0x000001F87F290580>\n"
     ]
    }
   ],
   "source": [
    "# Define a string variable\n",
    "text = \"Hello, world!\"\n",
    "\n",
    "# Print the string\n",
    "print(text)\n",
    "\n",
    "\n",
    "num_int = 10\n",
    "print(num_int)\n",
    "\n",
    "num_float = 3.14\n",
    "print(num_float)\n",
    "\n",
    "num_complex = 2 + 3j\n",
    "print(num_complex)\n",
    "\n",
    "\n",
    "my_list = [1, 2, 3, 4, 5]\n",
    "print(my_list)\n",
    "\n",
    "my_tuple = (1, 2, 3, 4, 5)\n",
    "print(my_tuple)\n",
    "\n",
    "\n",
    "my_range = range(1, 6)\n",
    "print(list(my_range))\n",
    "\n",
    "\n",
    "my_dict = {'name': 'John', 'age': 30}\n",
    "print(my_dict)\n",
    "\n",
    "\n",
    "my_set = {1, 2, 3, 4, 5}\n",
    "print(my_set)\n",
    "\n",
    "\n",
    "my_frozenset = frozenset({1, 2, 3, 4, 5})\n",
    "print(my_frozenset)\n",
    "\n",
    "is_valid = True\n",
    "print(is_valid)\n",
    "\n",
    "\n",
    "my_bytes = b'Hello'\n",
    "print(my_bytes)\n",
    "\n",
    "my_bytearray = bytearray(b'Hello')\n",
    "print(my_bytearray)\n",
    "\n",
    "\n",
    "my_memoryview = memoryview(b'Hello')\n",
    "print(my_memoryview)\n"
   ]
  },
  {
   "cell_type": "markdown",
   "metadata": {},
   "source": [
    "The main difference between a set and a frozenset lies in their mutability:\n",
    "\n",
    "1. Set: A set in Python is an unordered collection of unique elements. Sets are mutable, meaning you can add or remove elements from them after creation. However, the elements themselves must be immutable and hashable.\n",
    "2. Frozenset: A frozenset, on the other hand, is an immutable set. Once it is created, its elements cannot be changed. You cannot add or remove elements from a frozenset. Frozensets are useful in situations where you need an immutable collection of unique elements."
   ]
  },
  {
   "cell_type": "markdown",
   "metadata": {},
   "source": [
    "# User_input"
   ]
  },
  {
   "cell_type": "code",
   "execution_count": 4,
   "metadata": {},
   "outputs": [
    {
     "name": "stdout",
     "output_type": "stream",
     "text": [
      "23\n"
     ]
    }
   ],
   "source": [
    "age = int(input(\"enter user input: \"))\n",
    "print(age)"
   ]
  },
  {
   "cell_type": "markdown",
   "metadata": {},
   "source": [
    " # Type Casting\n",
    "   Conversion of one datatype to another is called as type-casting.\n",
    "   There are two types of type-casting:\n",
    "   \n",
    "    1. Implicit Type Conversion: Where python itself converts one datatype to another.\n",
    "    2. Explicit Type conversion: Where the user converts one data types to another."
   ]
  },
  {
   "cell_type": "markdown",
   "metadata": {},
   "source": [
    "Type Function use to give the types of number in python...."
   ]
  },
  {
   "cell_type": "code",
   "execution_count": 5,
   "metadata": {},
   "outputs": [
    {
     "name": "stdout",
     "output_type": "stream",
     "text": [
      "<class 'int'>\n",
      "<class 'float'>\n",
      "<class 'float'>\n"
     ]
    }
   ],
   "source": [
    "a = 123\n",
    "b = 1.23\n",
    "print(type(a))\n",
    "print(type(b))\n",
    "c= a+b\n",
    "print(type(c)) # Implicit type csting"
   ]
  },
  {
   "cell_type": "markdown",
   "metadata": {},
   "source": [
    "1. Write a program to display a person's name, age and address in three different lines.\n",
    "2. Write a program to swap two vriables.\n",
    "3. Write a program to convert a float into integer.\n",
    "4. Write a program to take details froma student for ID-card and then print it in different lines.\n",
    "5. Write a program to take an user input as integer then convert to float."
   ]
  },
  {
   "cell_type": "code",
   "execution_count": 5,
   "metadata": {},
   "outputs": [
    {
     "name": "stdout",
     "output_type": "stream",
     "text": [
      "Name: John\n",
      "Age: 30\n",
      "Address: 123 Main St, City\n"
     ]
    }
   ],
   "source": [
    "name = \"John\"\n",
    "age = 30\n",
    "address = \"123 Main St, City\"\n",
    "print(\"Name:\", name)\n",
    "print(\"Age:\", age)\n",
    "print(\"Address:\", address)\n"
   ]
  },
  {
   "cell_type": "code",
   "execution_count": 6,
   "metadata": {},
   "outputs": [
    {
     "name": "stdout",
     "output_type": "stream",
     "text": [
      "Before swapping:\n",
      "a = 5\n",
      "b = 10\n",
      "After swapping:\n",
      "a = 10\n",
      "b = 5\n"
     ]
    }
   ],
   "source": [
    "a = 5\n",
    "b = 10\n",
    "print(\"Before swapping:\")\n",
    "print(\"a =\", a)\n",
    "print(\"b =\", b)\n",
    "\n",
    "# Swapping\n",
    "a, b = b, a\n",
    "\n",
    "print(\"After swapping:\")\n",
    "print(\"a =\", a)\n",
    "print(\"b =\", b)\n"
   ]
  },
  {
   "cell_type": "code",
   "execution_count": 7,
   "metadata": {},
   "outputs": [
    {
     "name": "stdout",
     "output_type": "stream",
     "text": [
      "Float number: 3.14\n",
      "Converted to integer: 3\n"
     ]
    }
   ],
   "source": [
    "float_num = 3.14\n",
    "int_num = int(float_num)\n",
    "print(\"Float number:\", float_num)\n",
    "print(\"Converted to integer:\", int_num)\n"
   ]
  },
  {
   "cell_type": "code",
   "execution_count": 8,
   "metadata": {},
   "outputs": [
    {
     "name": "stdout",
     "output_type": "stream",
     "text": [
      "Student's ID-card details:\n",
      "Name: Rupesh Daha\n",
      "Age: 22\n",
      "Address: Rajkot\n"
     ]
    }
   ],
   "source": [
    "name = input(\"Enter student's name: \")\n",
    "age = input(\"Enter student's age: \")\n",
    "address = input(\"Enter student's address: \")\n",
    "\n",
    "print(\"Student's ID-card details:\")\n",
    "print(\"Name:\", name)\n",
    "print(\"Age:\", age)\n",
    "print(\"Address:\", address)\n"
   ]
  },
  {
   "cell_type": "code",
   "execution_count": 9,
   "metadata": {},
   "outputs": [
    {
     "name": "stdout",
     "output_type": "stream",
     "text": [
      "Converted to float: 45.0\n"
     ]
    }
   ],
   "source": [
    "num_int = int(input(\"Enter an integer: \"))\n",
    "num_float = float(num_int)\n",
    "print(\"Converted to float:\", num_float)\n"
   ]
  },
  {
   "cell_type": "markdown",
   "metadata": {},
   "source": [
    "# Operators and operands in python\n",
    "\n",
    "- Operators indicates what operation is to be performed while Operands indicates on what the action or the operation should be performed.\n",
    "\n",
    "examples: \n",
    "      x +y = 0 (in this given expression , x, y and 0 are Operands and + and = is operators)"
   ]
  },
  {
   "cell_type": "markdown",
   "metadata": {},
   "source": [
    "# Types of Operators in python\n",
    "there are 7 types of operators in python\n",
    "1. Arithmetic Operators\n",
    "2. Comparison Operators\n",
    "3. Logical Operators\n",
    "4. Assignmet Operators\n",
    "5. Identity Operators\n",
    "6. Membership Operators\n",
    "7. Bitwise Operators"
   ]
  },
  {
   "cell_type": "markdown",
   "metadata": {},
   "source": [
    "#  Arithmetic Operators\n",
    "\n",
    "**Introduction to Arithmetic Operators in Python**\n",
    "\n",
    "Arithmetic operators in Python are fundamental tools for performing mathematical operations on numeric values. They enable programmers to manipulate numerical data, making Python a powerful language for numerical computing, data analysis, and scientific computing tasks. Understanding arithmetic operators is essential for writing efficient algorithms and performing calculations in Python.\n",
    "\n",
    "**Arithmetic Operators in Python:**\n",
    "\n",
    "1. **Addition (+)**: The addition operator is used to add two numbers together.\n",
    "\n",
    "   ```python\n",
    "   result = 10 + 5  # result will be 15\n",
    "   ```\n",
    "\n",
    "   **Application:** Addition is commonly used in various computational tasks, such as calculating sums, aggregating data, and performing financial calculations.\n",
    "\n",
    "2. **Subtraction (-)**: The subtraction operator is used to subtract one number from another.\n",
    "\n",
    "   ```python\n",
    "   result = 20 - 7  # result will be 13\n",
    "   ```\n",
    "\n",
    "   **Application:** Subtraction is useful for determining the difference between two values, finding changes over time, and solving mathematical problems.\n",
    "\n",
    "3. **Multiplication (\\*)**: The multiplication operator is used to multiply two numbers.\n",
    "\n",
    "   ```python\n",
    "   result = 5 * 4  # result will be 20\n",
    "   ```\n",
    "\n",
    "   **Application:** Multiplication is employed in scenarios such as calculating areas, volumes, total costs, and generating sequences.\n",
    "\n",
    "4. **Division (/)**: The division operator is used to divide one number by another.\n",
    "\n",
    "   ```python\n",
    "   result = 20 / 4  # result will be 5.0\n",
    "   ```\n",
    "\n",
    "   **Application:** Division is essential for calculating averages, proportions, rates, and solving problems involving distribution and allocation.\n",
    "\n",
    "5. **Modulus (%)**: The modulus operator returns the remainder of a division operation.\n",
    "\n",
    "   ```python\n",
    "   result = 20 % 3  # result will be 2\n",
    "   ```\n",
    "\n",
    "   **Application:** Modulus is used to determine divisibility, cyclic patterns, and to extract components from time-series data.\n",
    "\n",
    "6. **Exponentiation (\\*\\*)**: The exponentiation operator raises a number to the power of another.\n",
    "\n",
    "   ```python\n",
    "   result = 2 ** 3  # result will be 8\n",
    "   ```\n",
    "\n",
    "   **Application:** Exponentiation is employed in exponential growth/decay modeling, computing compound interest, and solving exponential equations.\n",
    "\n",
    "7. **Floor Division (//)**: Floor division performs integer division, returning the floor value.\n",
    "\n",
    "   ```python\n",
    "   result = 20 // 3  # result will be 6\n",
    "   ```\n",
    "\n",
    "   **Application:** Floor division is useful for obtaining integer quotients and truncating fractional parts, particularly in division operations.\n",
    "\n",
    "**Conclusion:**\n",
    "\n",
    "Arithmetic operators play a vital role in Python programming, enabling developers to perform a wide range of mathematical computations efficiently. Understanding how to use these operators and their applications is essential for mastering Python programming and solving diverse real-world problems."
   ]
  },
  {
   "cell_type": "markdown",
   "metadata": {},
   "source": [
    "Dividend = (Divisor*Quotient) + Remainder"
   ]
  },
  {
   "cell_type": "code",
   "execution_count": 2,
   "metadata": {},
   "outputs": [
    {
     "name": "stdout",
     "output_type": "stream",
     "text": [
      "Result of Addition (+) on 23.0 and 3.0 operation result: 26.0\n",
      "Result of Subtraction (-) on 3.0 and 1.0 operation result: 2.0\n",
      "Result of Multiplication (*) on 5.0 and 4.0 operation result: 20.0\n",
      "Result of Division (/) on 5.0 and 1.0 operation result: 5.0\n",
      "Result of Modulus (%) on 4.0 and 8.0 operation result: 4.0\n",
      "Result of Exponentiation (**) on 2.0 and 4.0 operation result: 16.0\n",
      "Result of Floor Division (//) on 56.0 and 10.0 operation result: 5.0\n"
     ]
    }
   ],
   "source": [
    "# Dictionary of arithmetic operators\n",
    "operators = {\n",
    "    '+': 'Addition',\n",
    "    '-': 'Subtraction',\n",
    "    '*': 'Multiplication',\n",
    "    '/': 'Division',\n",
    "    '%': 'Modulus',\n",
    "    '**': 'Exponentiation',\n",
    "    '//': 'Floor Division'\n",
    "}\n",
    "\n",
    "# Loop to take input for each operator\n",
    "for op_symbol, op_name in operators.items():\n",
    "    num1 = float(input(f\"Enter the first number for {op_name} ({op_symbol}): \"))\n",
    "    num2 = float(input(f\"Enter the second number for {op_name} ({op_symbol}): \"))\n",
    "\n",
    "    # Perform the operation based on the operator\n",
    "    if op_symbol == '+':\n",
    "        result = num1 + num2\n",
    "    elif op_symbol == '-':\n",
    "        result = num1 - num2\n",
    "    elif op_symbol == '*':\n",
    "        result = num1 * num2\n",
    "    elif op_symbol == '/':\n",
    "        result = num1 / num2\n",
    "    elif op_symbol == '%':\n",
    "        result = num1 % num2\n",
    "    elif op_symbol == '**':\n",
    "        result = num1 ** num2\n",
    "    elif op_symbol == '//':\n",
    "        result = num1 // num2\n",
    "\n",
    "    print(f\"Result of {op_name} ({op_symbol}) on {num1} and {num2} operation result: {result}\")\n"
   ]
  },
  {
   "cell_type": "markdown",
   "metadata": {},
   "source": [
    "**Introduction to Comparison Operators in Python**\n",
    "\n",
    "Comparison operators in Python are used to compare the values of two operands. They evaluate to either True or False depending on the relationship between the operands. These operators are fundamental for making decisions in programming and controlling the flow of execution based on conditions. Understanding comparison operators is crucial for writing logical and conditional statements in Python programs.\n",
    "\n",
    "**Comparison Operators in Python:**\n",
    "\n",
    "1. **Equal to (==)**: Checks if two operands are equal.\n",
    "\n",
    "   ```python\n",
    "   result = (5 == 5)  # result will be True\n",
    "   ```\n",
    "\n",
    "   **Application:** Used for equality checks, comparing variables, and conditionals to determine if two values are the same.\n",
    "\n",
    "2. **Not equal to (!=)**: Checks if two operands are not equal.\n",
    "\n",
    "   ```python\n",
    "   result = (5 != 3)  # result will be True\n",
    "   ```\n",
    "\n",
    "   **Application:** Useful for inequality checks, verifying if two values are different, and implementing decision-making logic.\n",
    "\n",
    "3. **Greater than (>)**: Checks if the left operand is greater than the right operand.\n",
    "\n",
    "   ```python\n",
    "   result = (10 > 5)  # result will be True\n",
    "   ```\n",
    "\n",
    "   **Application:** Employed to compare numerical values, sorting data, and implementing conditional statements based on magnitude.\n",
    "\n",
    "4. **Less than (<)**: Checks if the left operand is less than the right operand.\n",
    "\n",
    "   ```python\n",
    "   result = (3 < 8)  # result will be True\n",
    "   ```\n",
    "\n",
    "   **Application:** Useful for numerical comparisons, determining precedence, and implementing range checks.\n",
    "\n",
    "5. **Greater than or equal to (>=)**: Checks if the left operand is greater than or equal to the right operand.\n",
    "\n",
    "   ```python\n",
    "   result = (7 >= 7)  # result will be True\n",
    "   ```\n",
    "\n",
    "   **Application:** Used for inclusive comparisons, boundary checks, and ensuring minimum thresholds.\n",
    "\n",
    "6. **Less than or equal to (<=)**: Checks if the left operand is less than or equal to the right operand.\n",
    "\n",
    "   ```python\n",
    "   result = (4 <= 5)  # result will be True\n",
    "   ```\n",
    "\n",
    "   **Application:** Employed for inclusive comparisons, upper bounds checks, and ensuring maximum limits.\n",
    "\n",
    "**Conclusion:**\n",
    "\n",
    "Comparison operators are indispensable tools in Python programming for evaluating conditions and making decisions based on the relationships between values. Mastery of these operators is essential for writing robust and logical code, implementing conditional statements, and controlling program flow effectively. Understanding when and how to use comparison operators enables developers to create reliable and efficient Python programs for various applications."
   ]
  },
  {
   "cell_type": "code",
   "execution_count": 3,
   "metadata": {},
   "outputs": [
    {
     "name": "stdout",
     "output_type": "stream",
     "text": [
      "Comparison Operators Program\n",
      "Enter two numbers:\n",
      "\n",
      "Comparison Results:\n",
      "5.0 == 6.0 (Equal to): False\n",
      "5.0 != 6.0 (Not equal to): True\n",
      "5.0 > 6.0 (Greater than): False\n",
      "5.0 < 6.0 (Less than): True\n",
      "5.0 >= 6.0 (Greater than or equal to): False\n",
      "5.0 <= 6.0 (Less than or equal to): True\n"
     ]
    }
   ],
   "source": [
    "# Dictionary to store comparison operators and their corresponding expressions\n",
    "comparison_operators = {\n",
    "    '==': 'Equal to',\n",
    "    '!=': 'Not equal to',\n",
    "    '>': 'Greater than',\n",
    "    '<': 'Less than',\n",
    "    '>=': 'Greater than or equal to',\n",
    "    '<=': 'Less than or equal to'\n",
    "}\n",
    "\n",
    "# Function to evaluate comparison expressions\n",
    "def evaluate_comparison(operator, operand1, operand2):\n",
    "    if operator == '==':\n",
    "        return operand1 == operand2\n",
    "    elif operator == '!=':\n",
    "        return operand1 != operand2\n",
    "    elif operator == '>':\n",
    "        return operand1 > operand2\n",
    "    elif operator == '<':\n",
    "        return operand1 < operand2\n",
    "    elif operator == '>=':\n",
    "        return operand1 >= operand2\n",
    "    elif operator == '<=':\n",
    "        return operand1 <= operand2\n",
    "    else:\n",
    "        return False\n",
    "\n",
    "# Main function\n",
    "def main():\n",
    "    print(\"Comparison Operators Program\")\n",
    "    print(\"Enter two numbers:\")\n",
    "    num1 = float(input(\"Enter the first number: \"))\n",
    "    num2 = float(input(\"Enter the second number: \"))\n",
    "\n",
    "    print(\"\\nComparison Results:\")\n",
    "    for op_symbol, op_name in comparison_operators.items():\n",
    "        result = evaluate_comparison(op_symbol, num1, num2)\n",
    "        print(f\"{num1} {op_symbol} {num2} ({op_name}): {result}\")\n",
    "\n",
    "if __name__ == \"__main__\":\n",
    "    main()\n"
   ]
  },
  {
   "cell_type": "markdown",
   "metadata": {},
   "source": [
    "**Introduction to Logical Operators in Python**\n",
    "\n",
    "Logical operators in Python are used to combine multiple conditions and perform logical operations. They evaluate expressions and return a Boolean value (True or False) based on the truth value of the operands. Logical operators are essential for constructing complex conditions, making decisions, and controlling the flow of execution in programs. Understanding logical operators is crucial for writing effective and robust Python code.\n",
    "\n",
    "**Logical Operators in Python:**\n",
    "\n",
    "1. **Logical AND (and)**: The logical AND operator returns True if both operands are True, otherwise, it returns False.\n",
    "\n",
    "   ```python\n",
    "   result = (True and False)  # result will be False\n",
    "   ```\n",
    "\n",
    "   **Application:** Logical AND is commonly used for combining multiple conditions where all conditions must be True for an overall condition to be True. It is used for implementing conjunctive logic and ensuring that all criteria are met.\n",
    "\n",
    "2. **Logical OR (or)**: The logical OR operator returns True if at least one of the operands is True, otherwise, it returns False.\n",
    "\n",
    "   ```python\n",
    "   result = (True or False)  # result will be True\n",
    "   ```\n",
    "\n",
    "   **Application:** Logical OR is used for combining multiple conditions where at least one condition needs to be True for the overall condition to be True. It is used for implementing disjunctive logic and providing alternatives.\n",
    "\n",
    "3. **Logical NOT (not)**: The logical NOT operator negates the value of its operand. It returns True if the operand is False, and False if the operand is True.\n",
    "\n",
    "   ```python\n",
    "   result = (not True)  # result will be False\n",
    "   ```\n",
    "\n",
    "   **Application:** Logical NOT is used for inverting the truth value of a condition or expression. It is used to check for the absence of a condition or to negate the outcome of a logical expression.\n",
    "\n",
    "**Examples and Applications:**\n",
    "\n",
    "- **Example 1: User Authentication**\n",
    "  \n",
    "  ```python\n",
    "  # Check if username and password are valid\n",
    "  if (username == 'admin' and password == 'password'):\n",
    "      print(\"Login successful!\")\n",
    "  else:\n",
    "      print(\"Invalid username or password.\")\n",
    "  ```\n",
    "\n",
    "  **Application:** Logical AND is used to ensure that both the username and password provided by the user match the expected values for authentication.\n",
    "\n",
    "- **Example 2: Temperature Control System**\n",
    "  \n",
    "  ```python\n",
    "  # Check if temperature is within acceptable range\n",
    "  if (temperature >= 20 and temperature <= 25):\n",
    "      print(\"Temperature is optimal.\")\n",
    "  else:\n",
    "      print(\"Temperature needs adjustment.\")\n",
    "  ```\n",
    "\n",
    "  **Application:** Logical AND is used to verify that the temperature is within the desired range, ensuring optimal conditions for the temperature control system.\n",
    "\n",
    "- **Example 3: Product Availability Check**\n",
    "  \n",
    "  ```python\n",
    "  # Check if product is in stock or available for purchase\n",
    "  if (product_in_stock or product_available_online):\n",
    "      print(\"Product is available.\")\n",
    "  else:\n",
    "      print(\"Product is out of stock.\")\n",
    "  ```\n",
    "\n",
    "  **Application:** Logical OR is used to determine if the product is either available in stock or can be purchased online, ensuring that customers have access to the product through different channels.\n",
    "\n",
    "**Conclusion:**\n",
    "\n",
    "Logical operators are fundamental components of Python programming for combining conditions, making decisions, and controlling program flow. Mastery of logical operators enables developers to write concise and expressive code, implement complex conditions, and create robust and reliable Python programs for various applications. Understanding when and how to use logical operators is essential for writing efficient and effective code in Python."
   ]
  },
  {
   "cell_type": "code",
   "execution_count": 4,
   "metadata": {},
   "outputs": [
    {
     "name": "stdout",
     "output_type": "stream",
     "text": [
      "Logical Operators Program\n",
      "\n",
      "Performing Logical AND operation:\n",
      "Result: True\n",
      "\n",
      "Performing Logical OR operation:\n",
      "Result: True\n",
      "\n",
      "Performing Logical NOT operation:\n",
      "Result: False\n"
     ]
    }
   ],
   "source": [
    "# Dictionary of logical operators and their names\n",
    "logical_operators = {\n",
    "    'and': 'Logical AND',\n",
    "    'or': 'Logical OR',\n",
    "    'not': 'Logical NOT'\n",
    "}\n",
    "\n",
    "# Function to perform logical AND operation\n",
    "def logical_and_op(operand1, operand2):\n",
    "    return operand1 and operand2\n",
    "\n",
    "# Function to perform logical OR operation\n",
    "def logical_or_op(operand1, operand2):\n",
    "    return operand1 or operand2\n",
    "\n",
    "# Function to perform logical NOT operation\n",
    "def logical_not_op(operand):\n",
    "    return not operand\n",
    "\n",
    "# Main function\n",
    "def main():\n",
    "    print(\"Logical Operators Program\")\n",
    "\n",
    "    # Taking input operands\n",
    "    operand1 = bool(int(input(\"Enter first operand (0 for False, 1 for True): \")))\n",
    "    operand2 = bool(int(input(\"Enter second operand (0 for False, 1 for True): \")))\n",
    "\n",
    "    # Performing operations\n",
    "    for op_symbol, op_name in logical_operators.items():\n",
    "        print(f\"\\nPerforming {op_name} operation:\")\n",
    "        if op_symbol == 'and':\n",
    "            result = logical_and_op(operand1, operand2)\n",
    "        elif op_symbol == 'or':\n",
    "            result = logical_or_op(operand1, operand2)\n",
    "        elif op_symbol == 'not':\n",
    "            result = logical_not_op(operand1)\n",
    "        print(f\"Result: {result}\")\n",
    "\n",
    "if __name__ == \"__main__\":\n",
    "    main()\n"
   ]
  },
  {
   "cell_type": "markdown",
   "metadata": {},
   "source": [
    "**Introduction to Assignment Operators in Python**\n",
    "\n",
    "Assignment operators in Python are used to assign values to variables. They allow you to store data in variables and manipulate their values using various operations. Assignment operators are fundamental for working with variables and updating their values within a program. Understanding assignment operators is crucial for writing efficient and concise Python code.\n",
    "\n",
    "**Assignment Operators in Python:**\n",
    "\n",
    "1. **Assignment (=)**: The assignment operator is used to assign a value to a variable.\n",
    "\n",
    "   ```python\n",
    "   x = 10\n",
    "   ```\n",
    "\n",
    "   This assigns the value 10 to the variable x.\n",
    "\n",
    "2. **Addition Assignment (+=)**: The addition assignment operator adds the value of the right operand to the value of the left operand and assigns the result to the left operand.\n",
    "\n",
    "   ```python\n",
    "   x += 5\n",
    "   ```\n",
    "\n",
    "   This is equivalent to `x = x + 5`. It adds 5 to the current value of x and assigns the result back to x.\n",
    "\n",
    "3. **Subtraction Assignment (-=)**: The subtraction assignment operator subtracts the value of the right operand from the value of the left operand and assigns the result to the left operand.\n",
    "\n",
    "   ```python\n",
    "   x -= 3\n",
    "   ```\n",
    "\n",
    "   This is equivalent to `x = x - 3`. It subtracts 3 from the current value of x and assigns the result back to x.\n",
    "\n",
    "4. **Multiplication Assignment (*=)**: The multiplication assignment operator multiplies the value of the left operand by the value of the right operand and assigns the result to the left operand.\n",
    "\n",
    "   ```python\n",
    "   x *= 2\n",
    "   ```\n",
    "\n",
    "   This is equivalent to `x = x * 2`. It multiplies the current value of x by 2 and assigns the result back to x.\n",
    "\n",
    "5. **Division Assignment (/=)**: The division assignment operator divides the value of the left operand by the value of the right operand and assigns the result to the left operand.\n",
    "\n",
    "   ```python\n",
    "   x /= 4\n",
    "   ```\n",
    "\n",
    "   This is equivalent to `x = x / 4`. It divides the current value of x by 4 and assigns the result back to x.\n",
    "\n",
    "6. **Modulus Assignment (%=)**: The modulus assignment operator calculates the remainder when the value of the left operand is divided by the value of the right operand and assigns the result to the left operand.\n",
    "\n",
    "   ```python\n",
    "   x %= 3\n",
    "   ```\n",
    "\n",
    "   This is equivalent to `x = x % 3`. It calculates the remainder when the current value of x is divided by 3 and assigns the result back to x.\n",
    "\n",
    "7. **Exponentiation Assignment (**=)**: The exponentiation assignment operator raises the value of the left operand to the power of the value of the right operand and assigns the result to the left operand.\n",
    "\n",
    "   ```python\n",
    "   x **= 2\n",
    "   ```\n",
    "\n",
    "   This is equivalent to `x = x ** 2`. It raises the current value of x to the power of 2 and assigns the result back to x.\n",
    "\n",
    "8. **Floor Division Assignment (//=)**: The floor division assignment operator divides the value of the left operand by the value of the right operand and assigns the floor value of the result to the left operand.\n",
    "\n",
    "   ```python\n",
    "   x //= 3\n",
    "   ```\n",
    "\n",
    "   This is equivalent to `x = x // 3`. It divides the current value of x by 3 and assigns the floor value of the result back to x.\n",
    "\n",
    "**Application of Assignment Operators:**\n",
    "\n",
    "- **Variable Initialization and Updates**: Assignment operators are used to initialize variables with initial values and update their values during program execution.\n",
    "\n",
    "  ```python\n",
    "  x = 10  # Variable initialization\n",
    "  x += 5  # Variable update using addition assignment\n",
    "  ```\n",
    "\n",
    "- **Accumulation and Aggregation**: Assignment operators are used to accumulate values or aggregate data by repeatedly updating variables.\n",
    "\n",
    "  ```python\n",
    "  total = 0\n",
    "  total += 10  # Accumulate values\n",
    "  ```\n",
    "\n",
    "- **Increment and Decrement**: Assignment operators are used to increment or decrement the value of variables.\n",
    "\n",
    "  ```python\n",
    "  count = 0\n",
    "  count += 1  # Increment count\n",
    "  ```\n",
    "\n",
    "- **Loop Control**: Assignment operators are used within loops for controlling iterations and updating loop variables.\n",
    "\n",
    "  ```python\n",
    "  for i in range(5):\n",
    "      total += i  # Update total within loop\n",
    "  ```\n",
    "\n",
    "- **Algorithm Implementation**: Assignment operators are used in various algorithms for storing intermediate results and updating state variables.\n",
    "\n",
    "  ```python\n",
    "  result = 1\n",
    "  for i in range(1, n + 1):\n",
    "      result *= i  # Update result for factorial calculation\n",
    "  ```\n",
    "\n",
    "**Conclusion:**\n",
    "\n",
    "Assignment operators are essential components of Python programming for initializing variables, updating their values, and performing various operations on them. Mastery of assignment operators enables developers to write concise and efficient code, implement algorithms, and manipulate data effectively within Python programs. Understanding when and how to use assignment operators is essential for writing robust and reliable Python code for diverse applications."
   ]
  },
  {
   "cell_type": "code",
   "execution_count": 5,
   "metadata": {},
   "outputs": [
    {
     "name": "stdout",
     "output_type": "stream",
     "text": [
      "Assignment Operators Program\n",
      "Initial value of x: 10\n",
      "\n",
      "Performing Assignment operation:\n",
      "Result after Assignment: 5\n",
      "\n",
      "Performing Addition Assignment operation:\n",
      "Result after Addition Assignment: 10\n",
      "\n",
      "Performing Subtraction Assignment operation:\n",
      "Result after Subtraction Assignment: 5\n",
      "\n",
      "Performing Multiplication Assignment operation:\n",
      "Result after Multiplication Assignment: 25\n",
      "\n",
      "Performing Division Assignment operation:\n",
      "Result after Division Assignment: 5.0\n",
      "\n",
      "Performing Modulus Assignment operation:\n",
      "Result after Modulus Assignment: 0.0\n",
      "\n",
      "Performing Exponentiation Assignment operation:\n",
      "Result after Exponentiation Assignment: 0.0\n",
      "\n",
      "Performing Floor Division Assignment operation:\n",
      "Result after Floor Division Assignment: 0.0\n"
     ]
    }
   ],
   "source": [
    "# Dictionary of assignment operators and their names\n",
    "assignment_operators = {\n",
    "    '=': 'Assignment',\n",
    "    '+=': 'Addition Assignment',\n",
    "    '-=': 'Subtraction Assignment',\n",
    "    '*=': 'Multiplication Assignment',\n",
    "    '/=': 'Division Assignment',\n",
    "    '%=': 'Modulus Assignment',\n",
    "    '**=': 'Exponentiation Assignment',\n",
    "    '//=': 'Floor Division Assignment'\n",
    "}\n",
    "\n",
    "# Main function\n",
    "def main():\n",
    "    print(\"Assignment Operators Program\")\n",
    "\n",
    "    # Initialize a variable\n",
    "    x = 10\n",
    "    print(\"Initial value of x:\", x)\n",
    "\n",
    "    # Taking input for operand (right-hand side value)\n",
    "    operand = int(input(\"Enter operand value: \"))\n",
    "\n",
    "    # Performing operations using loop\n",
    "    for op_symbol, op_name in assignment_operators.items():\n",
    "        print(f\"\\nPerforming {op_name} operation:\")\n",
    "        if op_symbol == '=':\n",
    "            x = operand\n",
    "        elif op_symbol == '+=':\n",
    "            x += operand\n",
    "        elif op_symbol == '-=':\n",
    "            x -= operand\n",
    "        elif op_symbol == '*=':\n",
    "            x *= operand\n",
    "        elif op_symbol == '/=':\n",
    "            x /= operand\n",
    "        elif op_symbol == '%=':\n",
    "            x %= operand\n",
    "        elif op_symbol == '**=':\n",
    "            x **= operand\n",
    "        elif op_symbol == '//=':\n",
    "            x //= operand\n",
    "        print(f\"Result after {op_name}: {x}\")\n",
    "\n",
    "if __name__ == \"__main__\":\n",
    "    main()\n"
   ]
  },
  {
   "cell_type": "markdown",
   "metadata": {},
   "source": [
    "# Identity Operators\n",
    "- identity operators are used to compare items to see if they are the same objet with the same memory address.\n",
    "\n",
    "**Introduction to Identity Operators in Python**\n",
    "\n",
    "Identity operators in Python are used to compare the memory addresses of two objects to determine whether they refer to the same object in memory. These operators evaluate to either True or False based on the identity of the objects being compared. Identity operators are essential for checking object identity and determining if two variables refer to the same object. Understanding identity operators is crucial for working with object references and managing memory efficiently in Python.\n",
    "\n",
    "**Identity Operators types in Python:**\n",
    "\n",
    "1. **is**: The `is` operator returns True if two variables refer to the same object in memory, otherwise, it returns False.\n",
    "\n",
    "   ```python\n",
    "   x = [1, 2, 3]\n",
    "   y = [1, 2, 3]\n",
    "   result = (x is y)  # result will be False\n",
    "   ```\n",
    "\n",
    "   In this example, even though `x` and `y` have the same values, they are distinct objects in memory, so `x is y` evaluates to False.\n",
    "\n",
    "2. **is not**: The `is not` operator returns True if two variables refer to different objects in memory, otherwise, it returns False.\n",
    "\n",
    "   ```python\n",
    "   x = [1, 2, 3]\n",
    "   y = [1, 2, 3]\n",
    "   result = (x is not y)  # result will be True\n",
    "   ```\n",
    "\n",
    "   Here, `x` and `y` are distinct objects, so `x is not y` evaluates to True.\n",
    "\n",
    "**Application of Identity Operators:**\n",
    "\n",
    "- **Object Comparison**: Identity operators are used to compare objects to determine if they are the same object in memory.\n",
    "\n",
    "  ```python\n",
    "  x = [1, 2, 3]\n",
    "  y = x\n",
    "  if x is y:\n",
    "      print(\"x and y refer to the same object.\")\n",
    "  ```\n",
    "\n",
    "  This is commonly used in programming to check whether two variables reference the same object, especially in cases where mutable objects like lists and dictionaries are involved.\n",
    "\n",
    "- **Optimization**: Identity operators can be used to optimize code by avoiding unnecessary object creation or duplication.\n",
    "\n",
    "  ```python\n",
    "  if some_object is None:\n",
    "      some_object = create_new_object()\n",
    "  ```\n",
    "\n",
    "  Here, the `is None` check ensures that a new object is only created if the existing object is not already assigned.\n",
    "\n",
    "- **Memory Management**: Identity operators help in managing memory efficiently by identifying object references and preventing memory leaks.\n",
    "\n",
    "  ```python\n",
    "  # Free up memory by deleting objects when they are no longer needed\n",
    "  del some_object\n",
    "  ```\n",
    "\n",
    "  Using identity operators, you can determine when an object is no longer needed and free up memory by deleting the object explicitly.\n",
    "\n",
    "**Conclusion:**\n",
    "\n",
    "Identity operators play a crucial role in Python programming for comparing object references and determining object identity. Mastery of identity operators enables developers to write efficient and optimized code, manage memory effectively, and prevent potential issues related to object duplication and memory leaks. Understanding when and how to use identity operators is essential for writing reliable and high-performance Python code for a wide range of applications."
   ]
  },
  {
   "cell_type": "code",
   "execution_count": 6,
   "metadata": {},
   "outputs": [
    {
     "name": "stdout",
     "output_type": "stream",
     "text": [
      "Identity Operators Program\n",
      "\n",
      "Performing Identity Operator (is) operation:\n",
      "Result: False\n",
      "\n",
      "Performing Identity Operator (is not) operation:\n",
      "Result: True\n"
     ]
    }
   ],
   "source": [
    "# Dictionary of identity operators and their names\n",
    "identity_operators = {\n",
    "    'is': 'Identity Operator (is)',\n",
    "    'is not': 'Identity Operator (is not)'\n",
    "}\n",
    "\n",
    "# Main function\n",
    "def main():\n",
    "    print(\"Identity Operators Program\")\n",
    "\n",
    "    # Create two lists with the same values\n",
    "    list1 = [1, 2, 3]\n",
    "    list2 = [1, 2, 3]\n",
    "\n",
    "    # Perform operations using loop\n",
    "    for op_symbol, op_name in identity_operators.items():\n",
    "        print(f\"\\nPerforming {op_name} operation:\")\n",
    "        if op_symbol == 'is':\n",
    "            result = (list1 is list2)\n",
    "        elif op_symbol == 'is not':\n",
    "            result = (list1 is not list2)\n",
    "        print(f\"Result: {result}\")\n",
    "\n",
    "if __name__ == \"__main__\":\n",
    "    main()\n"
   ]
  },
  {
   "cell_type": "markdown",
   "metadata": {},
   "source": [
    "# Bitwise Operators\n",
    "- These Operators are used to compare the Binary numbers\n",
    "\n",
    "**Introduction to Bitwise Operators in Python**\n",
    "\n",
    "Bitwise operators in Python are used to perform operations at the bit-level. They manipulate individual bits of operands, making them useful for low-level programming, binary manipulation, and optimization. Bitwise operators treat operands as sequences of binary digits and perform bitwise operations on corresponding bits. Understanding bitwise operators is essential for working with binary data, optimizing code, and implementing bitwise algorithms.\n",
    "\n",
    "**Bitwise Operators in Python:**\n",
    "\n",
    "1. **Bitwise AND (&)**: The bitwise AND operator performs a bitwise AND operation between corresponding bits of two operands. It sets each bit of the result to 1 if both corresponding bits of the operands are 1, otherwise, it sets the bit to 0.\n",
    "\n",
    "   ```python\n",
    "   result = 5 & 3  # result will be 1\n",
    "   ```\n",
    "\n",
    "2. **Bitwise OR (|)**: The bitwise OR operator performs a bitwise OR operation between corresponding bits of two operands. It sets each bit of the result to 1 if at least one of the corresponding bits of the operands is 1.\n",
    "\n",
    "   ```python\n",
    "   result = 5 | 3  # result will be 7\n",
    "   ```\n",
    "\n",
    "3. **Bitwise XOR (^)**: The bitwise XOR (exclusive OR) operator performs a bitwise XOR operation between corresponding bits of two operands. It sets each bit of the result to 1 if the corresponding bits of the operands are different, otherwise, it sets the bit to 0.\n",
    "\n",
    "   ```python\n",
    "   result = 5 ^ 3  # result will be 6\n",
    "   ```\n",
    "\n",
    "4. **Bitwise NOT (~)**: The bitwise NOT (complement) operator inverts the bits of its operand. It changes each 1 to 0 and each 0 to 1.\n",
    "\n",
    "   ```python\n",
    "   result = ~5  # result will be -6 (in 2's complement representation)\n",
    "   ```\n",
    "\n",
    "5. **Left Shift (<<)**: The left shift operator shifts the bits of the left operand to the left by a specified number of positions. It fills the shifted-in bits with zeros.\n",
    "\n",
    "   ```python\n",
    "   result = 5 << 1  # result will be 10\n",
    "   ```\n",
    "\n",
    "6. **Right Shift (>>)**: The right shift operator shifts the bits of the left operand to the right by a specified number of positions. It fills the shifted-in bits with the sign bit for signed integers or with zeros for unsigned integers.\n",
    "\n",
    "   ```python\n",
    "   result = 5 >> 1  # result will be 2\n",
    "   ```\n",
    "\n",
    "**Examples of Bitwise Operators:**\n",
    "\n",
    "- **Bitwise AND (&)**:\n",
    "\n",
    "  ```python\n",
    "  result = 5 & 3  # 101 & 011 = 001 (binary), result will be 1 (decimal)\n",
    "  ```\n",
    "\n",
    "- **Bitwise OR (|)**:\n",
    "\n",
    "  ```python\n",
    "  result = 5 | 3  # 101 | 011 = 111 (binary), result will be 7 (decimal)\n",
    "  ```\n",
    "\n",
    "- **Bitwise XOR (^)**:\n",
    "\n",
    "  ```python\n",
    "  result = 5 ^ 3  # 101 ^ 011 = 110 (binary), result will be 6 (decimal)\n",
    "  ```\n",
    "\n",
    "- **Bitwise NOT (~)**:\n",
    "\n",
    "  ```python\n",
    "  result = ~5  # ~0101 = 1010 (binary), result will be -6 (in 2's complement representation)\n",
    "  ```\n",
    "\n",
    "- **Left Shift (<<)**:\n",
    "\n",
    "  ```python\n",
    "  result = 5 << 1  # 101 << 1 = 1010 (binary), result will be 10 (decimal)\n",
    "  ```\n",
    "\n",
    "- **Right Shift (>>)**:\n",
    "\n",
    "  ```python\n",
    "  result = 5 >> 1  # 101 >> 1 = 10 (binary), result will be 2 (decimal)\n",
    "  ```\n",
    "\n",
    "**Conclusion:**\n",
    "\n",
    "Bitwise operators are essential tools for working with binary data and performing low-level operations in Python. Mastery of bitwise operators enables developers to manipulate individual bits of data efficiently, optimize code for performance, and implement bitwise algorithms for various applications such as cryptography, networking, and embedded systems programming. Understanding bitwise operators expands the capabilities of Python programming and enables developers to work with binary data effectively."
   ]
  },
  {
   "cell_type": "code",
   "execution_count": 7,
   "metadata": {},
   "outputs": [
    {
     "name": "stdout",
     "output_type": "stream",
     "text": [
      "0b1010\n"
     ]
    }
   ],
   "source": [
    "# find the binary number in python\n",
    "print(bin(10))"
   ]
  },
  {
   "cell_type": "code",
   "execution_count": 14,
   "metadata": {},
   "outputs": [
    {
     "name": "stdout",
     "output_type": "stream",
     "text": [
      "8\n",
      "0b1000\n"
     ]
    }
   ],
   "source": [
    "# And Bitwise operators\n",
    "a = 10 # 1010\n",
    "b = 8  # 1000\n",
    "\n",
    "print(a & b)\n",
    "print(bin(a & b))"
   ]
  },
  {
   "cell_type": "code",
   "execution_count": 18,
   "metadata": {},
   "outputs": [
    {
     "name": "stdout",
     "output_type": "stream",
     "text": [
      "10\n",
      "0b1010\n",
      "0b1000\n",
      "0b1010\n"
     ]
    }
   ],
   "source": [
    "# Or bitwise operators\n",
    "a = 10 \n",
    "b = 8 \n",
    "c = a | b\n",
    "\n",
    "print(c)\n",
    "print(bin(a))\n",
    "print(bin(b))\n",
    "print(bin(c))\n"
   ]
  },
  {
   "cell_type": "code",
   "execution_count": 19,
   "metadata": {},
   "outputs": [
    {
     "name": "stdout",
     "output_type": "stream",
     "text": [
      "2\n",
      "0b1010\n",
      "0b1000\n",
      "0b10\n"
     ]
    }
   ],
   "source": [
    "# xor bitwise operators\n",
    "# if the similar  bit then result 0 otherwise, result 1\n",
    "\n",
    "a = 10\n",
    "b = 8\n",
    "c = a ^ b\n",
    "print(c)\n",
    "print(bin(a))\n",
    "print(bin(b))\n",
    "print(bin(c))"
   ]
  },
  {
   "cell_type": "code",
   "execution_count": 26,
   "metadata": {},
   "outputs": [
    {
     "name": "stdout",
     "output_type": "stream",
     "text": [
      "2\n",
      "5\n",
      "3\n",
      "40\n",
      "640\n"
     ]
    }
   ],
   "source": [
    "# Zerofill left shift (>>)\n",
    "print(10>>2)  # if (number1 >> number2) then equal to  floor(number1/2^(number2))\n",
    "print(10>>1) \n",
    "print(50>>4) \n",
    "# Zerofill Right shift (<<)\n",
    "print(10<<2)  # if (number1 << number2) then equal to floor(number * 2^(number2))\n",
    "\n",
    "print(20 << 5)\n"
   ]
  },
  {
   "cell_type": "code",
   "execution_count": 29,
   "metadata": {},
   "outputs": [
    {
     "name": "stdout",
     "output_type": "stream",
     "text": [
      "Left shift result: 2\n"
     ]
    }
   ],
   "source": [
    "# program based on logic of bitwise operators\n",
    "def left_shift(number1, number2):\n",
    "    result = number1 / (2 ** number2)\n",
    "    return result\n",
    "\n",
    "def main_left_shift():\n",
    "    number1 = int(input(\"Enter the first number: \"))\n",
    "    number2 = int(input(\"Enter the second number: \"))\n",
    "    result = left_shift(number1, number2)\n",
    "    print(f\"Left shift result: {int(result)}\")\n",
    "\n",
    "if __name__ == \"__main__\":\n",
    "    main_left_shift()\n"
   ]
  },
  {
   "cell_type": "code",
   "execution_count": 30,
   "metadata": {},
   "outputs": [
    {
     "name": "stdout",
     "output_type": "stream",
     "text": [
      "Right shift result: 40\n"
     ]
    }
   ],
   "source": [
    "def right_shift(number1, number2):\n",
    "    result = number1 * (2 ** number2)\n",
    "    return result\n",
    "\n",
    "def main_right_shift():\n",
    "    number1 = int(input(\"Enter the first number: \"))\n",
    "    number2 = int(input(\"Enter the second number: \"))\n",
    "    result = right_shift(number1, number2)\n",
    "    print(f\"Right shift result: {result}\")\n",
    "\n",
    "if __name__ == \"__main__\":\n",
    "    main_right_shift()\n"
   ]
  },
  {
   "cell_type": "code",
   "execution_count": 31,
   "metadata": {},
   "outputs": [
    {
     "name": "stdout",
     "output_type": "stream",
     "text": [
      "Bitwise complement result: 2\n"
     ]
    }
   ],
   "source": [
    "# Bitwise NOT (~) (2's complements)\n",
    "\n",
    "def bitwise_complement(number, num_bits):\n",
    "    result = (1 << num_bits) - 1 - number\n",
    "    return result\n",
    "\n",
    "def main_bitwise_complement():\n",
    "    number = int(input(\"Enter the number: \"))\n",
    "    num_bits = number.bit_length()  # Determine the number of bits in the input number\n",
    "    result = bitwise_complement(number, num_bits)\n",
    "    print(f\"Bitwise complement result: {result}\")\n",
    "\n",
    "if __name__ == \"__main__\":\n",
    "    main_bitwise_complement()\n"
   ]
  },
  {
   "cell_type": "markdown",
   "metadata": {},
   "source": [
    "# Membership Operators\n",
    "- Membership operators are used to check the presence of a sequenc in an object\n",
    "\n",
    "**Introduction to Membership Operators in Python**\n",
    "\n",
    "Membership operators in Python are used to test whether a value belongs to a sequence or a mapping. They are used to check for the presence of a value in a collection such as a list, tuple, set, dictionary, or string. Python provides two membership operators: `in` and `not in`. Membership operators are commonly used in conditional statements and loops to check if a value exists in a container or not.\n",
    "\n",
    "**Membership Operators in Python:**\n",
    "\n",
    "1. **in**: The `in` operator returns True if a value exists in a sequence or a mapping, otherwise, it returns False.\n",
    "\n",
    "   ```python\n",
    "   sequence = [1, 2, 3, 4, 5]\n",
    "   print(3 in sequence)  # True\n",
    "   print(6 in sequence)  # False\n",
    "   ```\n",
    "\n",
    "2. **not in**: The `not in` operator returns True if a value does not exist in a sequence or a mapping, otherwise, it returns False.\n",
    "\n",
    "   ```python\n",
    "   sequence = [1, 2, 3, 4, 5]\n",
    "   print(6 not in sequence)  # True\n",
    "   print(3 not in sequence)  # False\n",
    "   ```\n",
    "\n",
    "**Application of Membership Operators:**\n",
    "\n",
    "- **Checking for Element Existence**: Membership operators are commonly used to check whether a value exists in a sequence or a mapping.\n",
    "\n",
    "  ```python\n",
    "  colors = ['red', 'green', 'blue']\n",
    "  if 'yellow' in colors:\n",
    "      print(\"Yellow color is present.\")\n",
    "  else:\n",
    "      print(\"Yellow color is not present.\")\n",
    "  ```\n",
    "\n",
    "- **Iterating Over Collection**: Membership operators are used in loops to iterate over a collection while checking for the presence of specific values.\n",
    "\n",
    "  ```python\n",
    "  sentence = \"The quick brown fox jumps over the lazy dog\"\n",
    "  for word in sentence.split():\n",
    "      if word not in ['the', 'over']:\n",
    "          print(word)\n",
    "  ```\n",
    "\n",
    "- **Filtering Data**: Membership operators are used to filter data based on certain criteria.\n",
    "\n",
    "  ```python\n",
    "  numbers = [1, 2, 3, 4, 5, 6, 7, 8, 9, 10]\n",
    "  even_numbers = [num for num in numbers if num % 2 == 0]\n",
    "  print(even_numbers)  # Output: [2, 4, 6, 8, 10]\n",
    "  ```\n",
    "\n",
    "- **Checking Key Existence in Dictionary**: Membership operators are used to check if a key exists in a dictionary.\n",
    "\n",
    "  ```python\n",
    "  student = {'name': 'Alice', 'age': 25, 'grade': 'A'}\n",
    "  if 'grade' in student:\n",
    "      print(\"Grade is present.\")\n",
    "  else:\n",
    "      print(\"Grade is not present.\")\n",
    "  ```\n",
    "\n",
    "**Conclusion:**\n",
    "\n",
    "Membership operators provide a convenient way to check for the existence of values in sequences, mappings, and collections. They are widely used in various programming scenarios such as conditional statements, loops, data filtering, and dictionary operations. Understanding and effectively using membership operators enhance the readability, efficiency, and expressiveness of Python code."
   ]
  },
  {
   "cell_type": "code",
   "execution_count": 32,
   "metadata": {},
   "outputs": [
    {
     "name": "stdout",
     "output_type": "stream",
     "text": [
      "3 is present in the sequence.\n",
      "6 is not present in the sequence.\n",
      "yellow is not present in the colors list.\n",
      "green is present in the colors list.\n"
     ]
    }
   ],
   "source": [
    "# Using 'in' operator\n",
    "sequence = [1, 2, 3, 4, 5]\n",
    "value1 = 3\n",
    "value2 = 6\n",
    "\n",
    "if value1 in sequence:\n",
    "    print(f\"{value1} is present in the sequence.\")\n",
    "else:\n",
    "    print(f\"{value1} is not present in the sequence.\")\n",
    "\n",
    "if value2 in sequence:\n",
    "    print(f\"{value2} is present in the sequence.\")\n",
    "else:\n",
    "    print(f\"{value2} is not present in the sequence.\")\n",
    "\n",
    "# Using 'not in' operator\n",
    "colors = ['red', 'green', 'blue']\n",
    "color1 = 'yellow'\n",
    "color2 = 'green'\n",
    "\n",
    "if color1 not in colors:\n",
    "    print(f\"{color1} is not present in the colors list.\")\n",
    "else:\n",
    "    print(f\"{color1} is present in the colors list.\")\n",
    "\n",
    "if color2 not in colors:\n",
    "    print(f\"{color2} is not present in the colors list.\")\n",
    "else:\n",
    "    print(f\"{color2} is present in the colors list.\")\n"
   ]
  },
  {
   "cell_type": "markdown",
   "metadata": {},
   "source": [
    "# Conditional Statements\n",
    "- Conditional statements allows computer to execute a certain condition only if it is true.\n",
    "\n",
    "types of conditional statements\n",
    "1. If the statements\n",
    "2. If-else Statements\n",
    "3. If-elif-else Statements\n",
    "4. Nested Statement\n",
    "5. Short Hand if Statement\n",
    "\n"
   ]
  },
  {
   "cell_type": "markdown",
   "metadata": {},
   "source": [
    "Here's an overview of the different types of conditional statements in Python, along with examples:\n",
    "\n",
    "1. **If Statements**:\n",
    "   - An if statement is used to execute a block of code if a condition is true.\n",
    "   - Syntax:\n",
    "     ```python\n",
    "     if condition:\n",
    "         # code block\n",
    "     ```\n",
    "   - Example:\n",
    "     ```python\n",
    "     x = 10\n",
    "     if x > 5:\n",
    "         print(\"x is greater than 5\")\n",
    "     ```\n",
    "\n",
    "2. **If-else Statements**:\n",
    "   - An if-else statement is used to execute one block of code if the condition is true and another block if the condition is false.\n",
    "   - Syntax:\n",
    "     ```python\n",
    "     if condition:\n",
    "         # code block executed if condition is true\n",
    "     else:\n",
    "         # code block executed if condition is false\n",
    "     ```\n",
    "   - Example:\n",
    "     ```python\n",
    "     x = 3\n",
    "     if x % 2 == 0:\n",
    "         print(\"x is even\")\n",
    "     else:\n",
    "         print(\"x is odd\")\n",
    "     ```\n",
    "\n",
    "3. **If-elif-else Statements**:\n",
    "   - An if-elif-else statement is used to check multiple conditions and execute different code blocks based on the first condition that is true.\n",
    "   - Syntax:\n",
    "     ```python\n",
    "     if condition1:\n",
    "         # code block executed if condition1 is true\n",
    "     elif condition2:\n",
    "         # code block executed if condition2 is true\n",
    "     else:\n",
    "         # code block executed if no condition is true\n",
    "     ```\n",
    "   - Example:\n",
    "     ```python\n",
    "     x = 0\n",
    "     if x > 0:\n",
    "         print(\"x is positive\")\n",
    "     elif x < 0:\n",
    "         print(\"x is negative\")\n",
    "     else:\n",
    "         print(\"x is zero\")\n",
    "     ```\n",
    "\n",
    "4. **Nested Statements**:\n",
    "   - Nested if statements are if statements within other if statements.\n",
    "   - They are used when more than one condition needs to be checked.\n",
    "   - Syntax:\n",
    "     ```python\n",
    "     if condition1:\n",
    "         if condition2:\n",
    "             # code block\n",
    "     ```\n",
    "   - Example:\n",
    "     ```python\n",
    "     x = 10\n",
    "     if x > 0:\n",
    "         if x % 2 == 0:\n",
    "             print(\"x is a positive even number\")\n",
    "     ```\n",
    "\n",
    "5. **Short Hand if Statement**:\n",
    "   - A short-hand if statement is used to execute a single statement based on a condition.\n",
    "   - It is concise and used when there is only one statement to execute.\n",
    "   - Syntax:\n",
    "     ```python\n",
    "     # result = value1 if condition else value2\n",
    "     ```\n",
    "   - Example:\n",
    "     ```python\n",
    "     x = 10\n",
    "     result = \"Even\" if x % 2 == 0 else \"Odd\"\n",
    "     print(result)\n",
    "     ```\n",
    "\n",
    "Each type of conditional statement offers different ways to control the flow of execution in Python programs based on conditions. Understanding these constructs is essential for writing clear and efficient code."
   ]
  },
  {
   "cell_type": "code",
   "execution_count": 33,
   "metadata": {},
   "outputs": [
    {
     "name": "stdout",
     "output_type": "stream",
     "text": [
      "It's hot outside.\n",
      "You are speeding.\n",
      "B Grade\n",
      "Point is in Quadrant IV\n",
      "Even\n"
     ]
    }
   ],
   "source": [
    "# If Statements\n",
    "def check_temperature(temperature):\n",
    "    if temperature > 30:\n",
    "        return \"It's hot outside.\"\n",
    "\n",
    "# If-else Statements\n",
    "def check_speed(speed):\n",
    "    if speed > 60:\n",
    "        return \"You are speeding.\"\n",
    "    else:\n",
    "        return \"You are within the speed limit.\"\n",
    "\n",
    "# If-elif-else Statements\n",
    "def classify_grade(percentage):\n",
    "    if percentage >= 90:\n",
    "        return \"A Grade\"\n",
    "    elif 80 <= percentage < 90:\n",
    "        return \"B Grade\"\n",
    "    elif 70 <= percentage < 80:\n",
    "        return \"C Grade\"\n",
    "    elif 60 <= percentage < 70:\n",
    "        return \"D Grade\"\n",
    "    else:\n",
    "        return \"Fail\"\n",
    "\n",
    "# Nested Statements\n",
    "def check_position(x, y):\n",
    "    if x > 0:\n",
    "        if y > 0:\n",
    "            return \"Point is in Quadrant I\"\n",
    "        elif y < 0:\n",
    "            return \"Point is in Quadrant IV\"\n",
    "        else:\n",
    "            return \"Point is on the positive x-axis\"\n",
    "    elif x < 0:\n",
    "        if y > 0:\n",
    "            return \"Point is in Quadrant II\"\n",
    "        elif y < 0:\n",
    "            return \"Point is in Quadrant III\"\n",
    "        else:\n",
    "            return \"Point is on the negative x-axis\"\n",
    "    else:\n",
    "        if y != 0:\n",
    "            return \"Point is on the y-axis\"\n",
    "        else:\n",
    "            return \"Point is at the origin\"\n",
    "\n",
    "# Short Hand if Statement\n",
    "def check_even_odd(number):\n",
    "    result = \"Even\" if number % 2 == 0 else \"Odd\"\n",
    "    return result\n",
    "\n",
    "# Test the functions\n",
    "def main():\n",
    "    # If Statements\n",
    "    temperature = 35\n",
    "    print(check_temperature(temperature))\n",
    "\n",
    "    # If-else Statements\n",
    "    speed = 70\n",
    "    print(check_speed(speed))\n",
    "\n",
    "    # If-elif-else Statements\n",
    "    percentage = 85\n",
    "    print(classify_grade(percentage))\n",
    "\n",
    "    # Nested Statements\n",
    "    x, y = 5, -3\n",
    "    print(check_position(x, y))\n",
    "\n",
    "    # Short Hand if Statement\n",
    "    number = 10\n",
    "    print(check_even_odd(number))\n",
    "\n",
    "if __name__ == \"__main__\":\n",
    "    main()\n"
   ]
  },
  {
   "cell_type": "markdown",
   "metadata": {},
   "source": [
    "# Problem Solving\n",
    "1. Write a program to check if a number is positive.\n",
    "2. Write a program to check whether a number is odd or even.\n",
    "3. Write a program to create area calculator.\n",
    "4. Write a program to check whether the passed letter is a vowel or not\n",
    "5. Write a program to check if a number is a single digit number , 2- digit number and so on..., up to 5 digits"
   ]
  },
  {
   "cell_type": "code",
   "execution_count": 35,
   "metadata": {},
   "outputs": [
    {
     "name": "stdout",
     "output_type": "stream",
     "text": [
      "the number 10 is positive\n"
     ]
    }
   ],
   "source": [
    "# 1\n",
    "number = int(input(\"Enter the number: \"))\n",
    "print(f\"the number {number} is positive\") if number>0 else print(f\"the number {number} is negative\")"
   ]
  },
  {
   "cell_type": "code",
   "execution_count": 36,
   "metadata": {},
   "outputs": [
    {
     "name": "stdout",
     "output_type": "stream",
     "text": [
      "the number 22 is even\n"
     ]
    }
   ],
   "source": [
    "#2\n",
    "num = int(input(\"Enter the number: \"))\n",
    "print(f\"the number {num} is odd\") if num %2 ==1 else print(f\"the number {num} is even\")"
   ]
  },
  {
   "cell_type": "code",
   "execution_count": 38,
   "metadata": {},
   "outputs": [
    {
     "name": "stdout",
     "output_type": "stream",
     "text": [
      "***********************************Area Calculator**************************************************\n",
      "press 1 to get the area of square\n",
      "      press 2 to get the area of rectangle\n",
      "      press 3 to get the area of circle\n",
      "      press 4 to get the area of triangle\n",
      "\n",
      "The area of square is: 400.0\n"
     ]
    }
   ],
   "source": [
    "# 3\n",
    "import math\n",
    "\n",
    "print(\"***********************************Area Calculator**************************************************\")\n",
    "print(\"\"\"press 1 to get the area of square\n",
    "      press 2 to get the area of rectangle\n",
    "      press 3 to get the area of circle\n",
    "      press 4 to get the area of triangle\n",
    "\"\"\")\n",
    "selection = int(input(\"Enter the choice: \"))\n",
    "\n",
    "def Area_Calculator(selection):\n",
    "    if selection == 1:\n",
    "        side = float(input(\"Enter the length of a side: \"))\n",
    "        area = side ** 2\n",
    "        print(f\"The area of square is: {area}\")\n",
    "\n",
    "    elif selection == 2:\n",
    "        length = float(input(\"Enter the length: \"))\n",
    "        breadth = float(input(\"Enter the breadth: \"))\n",
    "        area = length * breadth\n",
    "        print(f\"The area of rectangle is: {area}\")\n",
    "\n",
    "    elif selection == 3:\n",
    "        radius = float(input(\"Enter the radius: \"))\n",
    "        area = math.pi * radius ** 2\n",
    "        print(f\"The area of circle is: {area:.2f}\")\n",
    "\n",
    "    elif selection == 4:\n",
    "        base = float(input(\"Enter the base: \"))\n",
    "        height = float(input(\"Enter the height: \"))\n",
    "        area = 0.5 * base * height\n",
    "        print(f\"The area of triangle is: {area}\")\n",
    "\n",
    "    else:\n",
    "        print(\"Invalid selection!\")\n",
    "\n",
    "Area_Calculator(selection)"
   ]
  },
  {
   "cell_type": "code",
   "execution_count": 41,
   "metadata": {},
   "outputs": [
    {
     "name": "stdout",
     "output_type": "stream",
     "text": [
      "the given letter is not Vowel\n"
     ]
    }
   ],
   "source": [
    "# 4\n",
    "letter = input(\"Enter the letter: \")\n",
    "\n",
    "if letter in \"aeiou\" or letter in \"AEIOU\":\n",
    "    print(\"the given letter is Vowel\")\n",
    "else:\n",
    "    print(\"the given letter is not Vowel\")    \n"
   ]
  },
  {
   "cell_type": "code",
   "execution_count": 45,
   "metadata": {},
   "outputs": [
    {
     "name": "stdout",
     "output_type": "stream",
     "text": [
      "1000 is fourth digit\n"
     ]
    }
   ],
   "source": [
    "# 5\n",
    "num = int(input(\"Enter the number: \"))\n",
    "\n",
    "if num in range(1,10):\n",
    "    print(f\"{num} is single digit.\")\n",
    "\n",
    "elif num in range(10,100):\n",
    "    print(f\"{num} is double digit\")   \n",
    "\n",
    "elif num in range(100,1000):\n",
    "    print(f\"{num} is triple digit\")  \n",
    "\n",
    "elif num in range(1000,10000):\n",
    "    print(f\"{num} is fourth digit\")\n",
    "\n",
    "elif num in range(10000,100000):\n",
    "    print(f\"{num} is fifth digit\")  \n",
    "\n",
    "else:\n",
    "    print(f\"invalid input..\")    \n",
    "\n"
   ]
  },
  {
   "cell_type": "markdown",
   "metadata": {},
   "source": [
    "# Introduction to loop\n",
    "- A loop means to repeat something in the exact same way.\n",
    "\n",
    " Types of loops are:\n",
    " 1. For loop\n",
    " 2. While Loop\n",
    " 3. While True\n",
    " 4. Neated Loop\n",
    "\n",
    "\n",
    " explain each type of loop:\n",
    "\n",
    "1. **For Loop**:\n",
    "   - A for loop in Python is used to iterate over a sequence (such as a list, tuple, string, or range) or any iterable object.\n",
    "   - It executes a block of code multiple times, once for each item in the sequence.\n",
    "   - Syntax:\n",
    "     ```python\n",
    "     for item in sequence:\n",
    "         # code block\n",
    "     ```\n",
    "   - Example:\n",
    "     ```python\n",
    "     fruits = [\"apple\", \"banana\", \"cherry\"]\n",
    "     for fruit in fruits:\n",
    "         print(fruit)\n",
    "     ```\n",
    "\n",
    "2. **While Loop**:\n",
    "   - A while loop in Python is used to repeatedly execute a block of code as long as a condition is true.\n",
    "   - It continues looping until the condition becomes false.\n",
    "   - Syntax:\n",
    "     ```python\n",
    "     while condition:\n",
    "         # code block\n",
    "     ```\n",
    "   - Example:\n",
    "     ```python\n",
    "     count = 0\n",
    "     while count < 5:\n",
    "         print(count)\n",
    "         count += 1\n",
    "     ```\n",
    "\n",
    "3. **While True**:\n",
    "   - The `while True` loop is a variation of the while loop where the condition is always true.\n",
    "   - It is typically used when an indefinite loop is needed, and the loop termination is controlled by `break` statements within the loop.\n",
    "   - Syntax:\n",
    "     ```python\n",
    "     while True:\n",
    "         # code block\n",
    "         if condition:\n",
    "             break\n",
    "     ```\n",
    "   - Example:\n",
    "     ```python\n",
    "     while True:\n",
    "         x = int(input(\"Enter a number (0 to exit): \"))\n",
    "         if x == 0:\n",
    "             break\n",
    "     ```\n",
    "\n",
    "4. **Nested Loop**:\n",
    "   - A nested loop in Python is a loop inside another loop.\n",
    "   - It is useful for iterating over items in multidimensional data structures like lists of lists.\n",
    "   - Syntax:\n",
    "     ```python\n",
    "     for item1 in sequence1:\n",
    "         for item2 in sequence2:\n",
    "             # code block\n",
    "     ```\n",
    "   - Example:\n",
    "     ```python\n",
    "     for i in range(3):\n",
    "         for j in range(2):\n",
    "             print(i, j)\n",
    "     ```\n",
    "\n",
    "Loops are fundamental programming constructs used to execute repetitive tasks. Each type of loop has its own use cases and syntax, providing flexibility in designing algorithms and solving problems. Understanding loops is essential for writing efficient and concise code in Python.\n",
    "\n",
    "# note\n",
    "\n",
    "In Python, you can simulate a `do while` loop using a `while True` loop along with a conditional `break` statement. This pattern ensures that the loop body executes at least once before evaluating the loop condition. Here's a concise example:\n",
    "\n",
    "```python\n",
    "while True:\n",
    "    # Code block to be executed at least once\n",
    "    # ...\n",
    "\n",
    "    # Check condition for loop termination\n",
    "    if condition:\n",
    "        break\n",
    "```\n",
    "\n",
    "This construct ensures that the loop body runs at least once and then continues looping based on the specified condition."
   ]
  },
  {
   "cell_type": "code",
   "execution_count": null,
   "metadata": {},
   "outputs": [],
   "source": []
  }
 ],
 "metadata": {
  "kernelspec": {
   "display_name": "Python 3",
   "language": "python",
   "name": "python3"
  },
  "language_info": {
   "codemirror_mode": {
    "name": "ipython",
    "version": 3
   },
   "file_extension": ".py",
   "mimetype": "text/x-python",
   "name": "python",
   "nbconvert_exporter": "python",
   "pygments_lexer": "ipython3",
   "version": "3.11.0"
  }
 },
 "nbformat": 4,
 "nbformat_minor": 2
}
