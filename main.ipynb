{
 "cells": [
  {
   "cell_type": "markdown",
   "metadata": {},
   "source": [
    "---------------------------------------------------Class-1----------------------------------------------------------------------------------\n",
    "What is Data Analytics?\n",
    "- Data analytics is the science of analyzing raw data to find trends and answer questions.\n",
    "- As Data Analylist we have to clean the data and only find the pattern by modeling and transformation...\n",
    "\n",
    "Source of Data:\n",
    "- excell\n",
    "- sql\n",
    "- internet\n",
    "\n",
    "Future and Scope\n",
    "\n",
    "- currently, the requirement of Data Analytics professionals is 45% in in-demand jobs.\n",
    "- With the increasing amount of data being generated every day, data analysts are expected to continue to be in demand in the future.\n",
    "\n",
    "- Everage salary in 550000\n",
    "\n",
    "\n",
    "Roadmap-\n",
    "\n",
    "-python\n",
    "-libraries numpy,pandas,Matplotlib,seaborn\n",
    "-SQL Data Analysis in Mysql\n",
    "-Excell cleaning tranforming Modeling Visualization\n",
    "-power BI\n",
    "\n",
    "\n",
    "\n",
    "Work more than 20 projects\n"
   ]
  },
  {
   "cell_type": "code",
   "execution_count": null,
   "metadata": {},
   "outputs": [],
   "source": []
  },
  {
   "cell_type": "markdown",
   "metadata": {},
   "source": []
  },
  {
   "cell_type": "markdown",
   "metadata": {},
   "source": [
    "-----------------------------------------class-2---------------------------------------------------------------------------\n",
    "Python Programming Language...\n",
    "Most Popular Language in 2023\n",
    "\n",
    "\n",
    "Python's Versality has made it a favorite among developers of all skill levels, from beginners to experts.\n",
    "\n",
    "What is python?\n",
    "\n",
    "- Python is both compiled and interpreted, Object-oriented, high-level Programming language with dynamic semantics\n",
    "\n",
    "\n",
    "Creator of Python:-\n",
    "\n",
    "Guido Van Rossum\n",
    "\n",
    "Featueres of Python\n",
    "\n",
    "- Object Oriented\n",
    "- Dynamically Typed\n",
    "- Gui Programming Support\n",
    "- Extensible\n",
    "- Large Standard Library\n",
    "- Free and open source\n",
    "- Cross platform\n",
    "- Interpreted language\n",
    "- Expressive Language\n",
    "- Easy to learn and Use\n",
    "\n",
    "\n",
    "Growth Popularity of Python:-\n",
    "\n",
    "- Application's of Python?\n",
    "  - Data Science, Web Development, Data Engineering, Machine Learning, Artificial Intelligence and Data Analytics\n",
    "  "
   ]
  },
  {
   "cell_type": "markdown",
   "metadata": {},
   "source": [
    "--------------------------------class-3-------------------------------------------------------------\n",
    "\n",
    "Python installation\n",
    "- add environment path of python\n",
    "IDE (Integrated Development Environment)\n",
    "- Smart Typing\n"
   ]
  },
  {
   "cell_type": "markdown",
   "metadata": {},
   "source": [
    "-----------------------------class-4----------------------------------\n",
    "First program in python"
   ]
  },
  {
   "cell_type": "code",
   "execution_count": 1,
   "metadata": {},
   "outputs": [
    {
     "name": "stdout",
     "output_type": "stream",
     "text": [
      "Hello world\n"
     ]
    }
   ],
   "source": [
    "print(\"Hello world\")"
   ]
  },
  {
   "cell_type": "markdown",
   "metadata": {},
   "source": [
    "How to use Multiple lines in print Statement:\n",
    "\n",
    "There are two methods to write a satement in multiple lines \n",
    " - To print multiple lines in python, triple Quotations are used.\n",
    " - \\n (backslash) is used to insert something in the next line.\n",
    " - \n"
   ]
  },
  {
   "cell_type": "code",
   "execution_count": 3,
   "metadata": {},
   "outputs": [
    {
     "name": "stdout",
     "output_type": "stream",
     "text": [
      "Helli\n",
      "      my name \n",
      "      is rupesh \n",
      "this is my first \n",
      " programming language \n",
      " i like it\n"
     ]
    }
   ],
   "source": [
    "print('''Helli\n",
    "      my name \n",
    "      is rupesh ''')\n",
    "\n",
    "print(\"this is my first \\n programming language \\n i like it\")"
   ]
  },
  {
   "cell_type": "markdown",
   "metadata": {},
   "source": []
  },
  {
   "cell_type": "markdown",
   "metadata": {},
   "source": [
    "Comments in python...\n",
    "There are two types of comments..\n",
    "- To add single line comments, # hash is used.\n",
    " - python Completely ignores anything written after #.\n",
    "- To add multiline comments in python, Triple Quotations are used.\n",
    " - \"\"\" hello boss!\"\"\" "
   ]
  },
  {
   "cell_type": "markdown",
   "metadata": {},
   "source": [
    "------------------------class-3-----------------------------\n",
    "# Variables\n",
    "\n",
    "- Variables are placeholders, Which can store a value.\n",
    "- in simple words, Variable is a container that holds data inside it as a value\n",
    "\n"
   ]
  },
  {
   "cell_type": "code",
   "execution_count": 4,
   "metadata": {},
   "outputs": [
    {
     "name": "stdout",
     "output_type": "stream",
     "text": [
      "Rupesh Kumar Daha\n"
     ]
    }
   ],
   "source": [
    "a = \"Rupesh Kumar Daha\"\n",
    "print(a)"
   ]
  },
  {
   "cell_type": "markdown",
   "metadata": {},
   "source": [
    "Rules for Writing a Variables\n",
    "\n",
    "1. Python is Case-sensitive Language, therefore the variables names are case-sensitive as well"
   ]
  },
  {
   "cell_type": "code",
   "execution_count": 10,
   "metadata": {},
   "outputs": [
    {
     "name": "stdout",
     "output_type": "stream",
     "text": [
      "python is case sensitive!!!\n"
     ]
    }
   ],
   "source": [
    "# example \n",
    "try: \n",
    " Name = \"Hello Rupesh\"\n",
    " print(name)\n",
    "except Exception as e:\n",
    "  if e:\n",
    "    print(\"python is case sensitive!!!\")\n",
    "  else:\n",
    "    print(\"error is \",e)  \n",
    "else:\n",
    " print(\"Error Does not occure\")\n",
    "finally:\n",
    " pass"
   ]
  },
  {
   "cell_type": "markdown",
   "metadata": {},
   "source": [
    "2. Make Sure to not use spaces while creating a varible. One can use (_) underscore to separate the names while writing a variable.\n",
    "\n",
    "3. A variable name should never start with a number or special symbols.\n"
   ]
  },
  {
   "cell_type": "code",
   "execution_count": 2,
   "metadata": {},
   "outputs": [
    {
     "name": "stdout",
     "output_type": "stream",
     "text": [
      "the varible you have created having space and it is incorrect. \n"
     ]
    }
   ],
   "source": [
    "# 2\n",
    "check = input(\"Enter Variable name: \")\n",
    "\n",
    "if \" \" in check:\n",
    "    print(\"the varible you have created having space and it is incorrect. \")\n",
    "\n",
    "else:\n",
    "    print(\"correct variable!\")"
   ]
  },
  {
   "cell_type": "code",
   "execution_count": 11,
   "metadata": {},
   "outputs": [
    {
     "name": "stdout",
     "output_type": "stream",
     "text": [
      "['+', '-', '*', '/', '%', '**', '//', '=', '==', '!=', '>', '<', '>=', '<=', 'and', 'or', 'not', '&', '|', '^', '~', '<<', '>>', 'in', 'is', 'not in', 'is not', '.', ':', ',', '()', '[]', '{}', '#', \"'\", '\"', \"'''\", '\"\"\"', '\\\\', '@', '$', ';', '...', '_']\n"
     ]
    }
   ],
   "source": [
    "special_characters = [\n",
    "    '+', '-', '*', '/', '%', '**', '//',\n",
    "    '=', '==', '!=', '>', '<', '>=', '<=',\n",
    "    'and', 'or', 'not',\n",
    "    '&', '|', '^', '~', '<<', '>>',\n",
    "    'in', 'is', 'not in', 'is not',\n",
    "    '.', ':', ',', '()', '[]', '{}',\n",
    "    '#', \"'\", '\"', \"'''\", '\"\"\"', '\\\\',\n",
    "    '@', '$', ';', '...', '_'\n",
    "]\n",
    "\n",
    "print(special_characters)\n"
   ]
  },
  {
   "cell_type": "markdown",
   "metadata": {},
   "source": [
    "---------------------------------class-4---------------------------------------------\n",
    "User input:\n",
    "name = input(\"Enter input\")\n",
    "type casting concept:\n",
    " number = float(input(\"Enter input\"))\n",
    " age = input(input(\"Enter input\"))\n",
    " exp1 = eval(input(\"enter any equations here: \"))"
   ]
  },
  {
   "cell_type": "code",
   "execution_count": 6,
   "metadata": {},
   "outputs": [
    {
     "name": "stdout",
     "output_type": "stream",
     "text": [
      "23\n"
     ]
    }
   ],
   "source": [
    "exp1 = eval(input(\"enter any equations here: \"))\n",
    "print(exp1)"
   ]
  },
  {
   "cell_type": "markdown",
   "metadata": {},
   "source": [
    "Datatypes:\n",
    "- Text-type: String(str)\n",
    "- Numeric Types: integer(int), floating point(float), complex\n",
    "- Sequence Types: list,tuple and range\n",
    "- Mapping Type: Dictionaries(dict)\n",
    "- Set Type: Set, frozenset\n",
    "- Boolean Type:bool\n",
    "- Binary Types: bytes,bytearray, memoryview"
   ]
  },
  {
   "cell_type": "markdown",
   "metadata": {},
   "source": [
    "# Text-type: String(str)"
   ]
  },
  {
   "cell_type": "code",
   "execution_count": 3,
   "metadata": {},
   "outputs": [
    {
     "name": "stdout",
     "output_type": "stream",
     "text": [
      "Hello, world!\n",
      "10\n",
      "3.14\n",
      "(2+3j)\n",
      "[1, 2, 3, 4, 5]\n",
      "(1, 2, 3, 4, 5)\n",
      "[1, 2, 3, 4, 5]\n",
      "{'name': 'John', 'age': 30}\n",
      "{1, 2, 3, 4, 5}\n",
      "frozenset({1, 2, 3, 4, 5})\n",
      "True\n",
      "b'Hello'\n",
      "bytearray(b'Hello')\n",
      "<memory at 0x000001F87F290580>\n"
     ]
    }
   ],
   "source": [
    "# Define a string variable\n",
    "text = \"Hello, world!\"\n",
    "\n",
    "# Print the string\n",
    "print(text)\n",
    "\n",
    "\n",
    "num_int = 10\n",
    "print(num_int)\n",
    "\n",
    "num_float = 3.14\n",
    "print(num_float)\n",
    "\n",
    "num_complex = 2 + 3j\n",
    "print(num_complex)\n",
    "\n",
    "\n",
    "my_list = [1, 2, 3, 4, 5]\n",
    "print(my_list)\n",
    "\n",
    "my_tuple = (1, 2, 3, 4, 5)\n",
    "print(my_tuple)\n",
    "\n",
    "\n",
    "my_range = range(1, 6)\n",
    "print(list(my_range))\n",
    "\n",
    "\n",
    "my_dict = {'name': 'John', 'age': 30}\n",
    "print(my_dict)\n",
    "\n",
    "\n",
    "my_set = {1, 2, 3, 4, 5}\n",
    "print(my_set)\n",
    "\n",
    "\n",
    "my_frozenset = frozenset({1, 2, 3, 4, 5})\n",
    "print(my_frozenset)\n",
    "\n",
    "is_valid = True\n",
    "print(is_valid)\n",
    "\n",
    "\n",
    "my_bytes = b'Hello'\n",
    "print(my_bytes)\n",
    "\n",
    "my_bytearray = bytearray(b'Hello')\n",
    "print(my_bytearray)\n",
    "\n",
    "\n",
    "my_memoryview = memoryview(b'Hello')\n",
    "print(my_memoryview)\n"
   ]
  },
  {
   "cell_type": "markdown",
   "metadata": {},
   "source": [
    "The main difference between a set and a frozenset lies in their mutability:\n",
    "\n",
    "1. Set: A set in Python is an unordered collection of unique elements. Sets are mutable, meaning you can add or remove elements from them after creation. However, the elements themselves must be immutable and hashable.\n",
    "2. Frozenset: A frozenset, on the other hand, is an immutable set. Once it is created, its elements cannot be changed. You cannot add or remove elements from a frozenset. Frozensets are useful in situations where you need an immutable collection of unique elements."
   ]
  },
  {
   "cell_type": "markdown",
   "metadata": {},
   "source": [
    "# User_input"
   ]
  },
  {
   "cell_type": "code",
   "execution_count": 4,
   "metadata": {},
   "outputs": [
    {
     "name": "stdout",
     "output_type": "stream",
     "text": [
      "23\n"
     ]
    }
   ],
   "source": [
    "age = int(input(\"enter user input: \"))\n",
    "print(age)"
   ]
  },
  {
   "cell_type": "markdown",
   "metadata": {},
   "source": [
    " # Type Casting\n",
    "   Conversion of one datatype to another is called as type-casting.\n",
    "   There are two types of type-casting:\n",
    "   \n",
    "    1. Implicit Type Conversion: Where python itself converts one datatype to another.\n",
    "    2. Explicit Type conversion: Where the user converts one data types to another."
   ]
  },
  {
   "cell_type": "markdown",
   "metadata": {},
   "source": [
    "Type Function use to give the types of number in python...."
   ]
  },
  {
   "cell_type": "code",
   "execution_count": 5,
   "metadata": {},
   "outputs": [
    {
     "name": "stdout",
     "output_type": "stream",
     "text": [
      "<class 'int'>\n",
      "<class 'float'>\n",
      "<class 'float'>\n"
     ]
    }
   ],
   "source": [
    "a = 123\n",
    "b = 1.23\n",
    "print(type(a))\n",
    "print(type(b))\n",
    "c= a+b\n",
    "print(type(c)) # Implicit type csting"
   ]
  },
  {
   "cell_type": "markdown",
   "metadata": {},
   "source": [
    "1. Write a program to display a person's name, age and address in three different lines.\n",
    "2. Write a program to swap two vriables.\n",
    "3. Write a program to convert a float into integer.\n",
    "4. Write a program to take details froma student for ID-card and then print it in different lines.\n",
    "5. Write a program to take an user input as integer then convert to float."
   ]
  },
  {
   "cell_type": "code",
   "execution_count": 5,
   "metadata": {},
   "outputs": [
    {
     "name": "stdout",
     "output_type": "stream",
     "text": [
      "Name: John\n",
      "Age: 30\n",
      "Address: 123 Main St, City\n"
     ]
    }
   ],
   "source": [
    "name = \"John\"\n",
    "age = 30\n",
    "address = \"123 Main St, City\"\n",
    "print(\"Name:\", name)\n",
    "print(\"Age:\", age)\n",
    "print(\"Address:\", address)\n"
   ]
  },
  {
   "cell_type": "code",
   "execution_count": 6,
   "metadata": {},
   "outputs": [
    {
     "name": "stdout",
     "output_type": "stream",
     "text": [
      "Before swapping:\n",
      "a = 5\n",
      "b = 10\n",
      "After swapping:\n",
      "a = 10\n",
      "b = 5\n"
     ]
    }
   ],
   "source": [
    "a = 5\n",
    "b = 10\n",
    "print(\"Before swapping:\")\n",
    "print(\"a =\", a)\n",
    "print(\"b =\", b)\n",
    "\n",
    "# Swapping\n",
    "a, b = b, a\n",
    "\n",
    "print(\"After swapping:\")\n",
    "print(\"a =\", a)\n",
    "print(\"b =\", b)\n"
   ]
  },
  {
   "cell_type": "code",
   "execution_count": 7,
   "metadata": {},
   "outputs": [
    {
     "name": "stdout",
     "output_type": "stream",
     "text": [
      "Float number: 3.14\n",
      "Converted to integer: 3\n"
     ]
    }
   ],
   "source": [
    "float_num = 3.14\n",
    "int_num = int(float_num)\n",
    "print(\"Float number:\", float_num)\n",
    "print(\"Converted to integer:\", int_num)\n"
   ]
  },
  {
   "cell_type": "code",
   "execution_count": 8,
   "metadata": {},
   "outputs": [
    {
     "name": "stdout",
     "output_type": "stream",
     "text": [
      "Student's ID-card details:\n",
      "Name: Rupesh Daha\n",
      "Age: 22\n",
      "Address: Rajkot\n"
     ]
    }
   ],
   "source": [
    "name = input(\"Enter student's name: \")\n",
    "age = input(\"Enter student's age: \")\n",
    "address = input(\"Enter student's address: \")\n",
    "\n",
    "print(\"Student's ID-card details:\")\n",
    "print(\"Name:\", name)\n",
    "print(\"Age:\", age)\n",
    "print(\"Address:\", address)\n"
   ]
  },
  {
   "cell_type": "code",
   "execution_count": 9,
   "metadata": {},
   "outputs": [
    {
     "name": "stdout",
     "output_type": "stream",
     "text": [
      "Converted to float: 45.0\n"
     ]
    }
   ],
   "source": [
    "num_int = int(input(\"Enter an integer: \"))\n",
    "num_float = float(num_int)\n",
    "print(\"Converted to float:\", num_float)\n"
   ]
  },
  {
   "cell_type": "markdown",
   "metadata": {},
   "source": [
    "# Operators and operands in python\n",
    "\n",
    "- Operators indicates what operation is to be performed while Operands indicates on what the action or the operation should be performed.\n",
    "\n",
    "examples: \n",
    "      x +y = 0 (in this given expression , x, y and 0 are Operands and + and = is operators)"
   ]
  },
  {
   "cell_type": "markdown",
   "metadata": {},
   "source": [
    "# Types of Operators in python\n",
    "there are 7 types of operators in python\n",
    "1. Arithmetic Operators\n",
    "2. Comparison Operators\n",
    "3. Logical Operators\n",
    "4. Assignmet Operators\n",
    "5. Identity Operators\n",
    "6. Membership Operators\n",
    "7. Bitwise Operators"
   ]
  },
  {
   "cell_type": "markdown",
   "metadata": {},
   "source": [
    "#  Arithmetic Operators\n",
    "\n",
    "**Introduction to Arithmetic Operators in Python**\n",
    "\n",
    "Arithmetic operators in Python are fundamental tools for performing mathematical operations on numeric values. They enable programmers to manipulate numerical data, making Python a powerful language for numerical computing, data analysis, and scientific computing tasks. Understanding arithmetic operators is essential for writing efficient algorithms and performing calculations in Python.\n",
    "\n",
    "**Arithmetic Operators in Python:**\n",
    "\n",
    "1. **Addition (+)**: The addition operator is used to add two numbers together.\n",
    "\n",
    "   ```python\n",
    "   result = 10 + 5  # result will be 15\n",
    "   ```\n",
    "\n",
    "   **Application:** Addition is commonly used in various computational tasks, such as calculating sums, aggregating data, and performing financial calculations.\n",
    "\n",
    "2. **Subtraction (-)**: The subtraction operator is used to subtract one number from another.\n",
    "\n",
    "   ```python\n",
    "   result = 20 - 7  # result will be 13\n",
    "   ```\n",
    "\n",
    "   **Application:** Subtraction is useful for determining the difference between two values, finding changes over time, and solving mathematical problems.\n",
    "\n",
    "3. **Multiplication (\\*)**: The multiplication operator is used to multiply two numbers.\n",
    "\n",
    "   ```python\n",
    "   result = 5 * 4  # result will be 20\n",
    "   ```\n",
    "\n",
    "   **Application:** Multiplication is employed in scenarios such as calculating areas, volumes, total costs, and generating sequences.\n",
    "\n",
    "4. **Division (/)**: The division operator is used to divide one number by another.\n",
    "\n",
    "   ```python\n",
    "   result = 20 / 4  # result will be 5.0\n",
    "   ```\n",
    "\n",
    "   **Application:** Division is essential for calculating averages, proportions, rates, and solving problems involving distribution and allocation.\n",
    "\n",
    "5. **Modulus (%)**: The modulus operator returns the remainder of a division operation.\n",
    "\n",
    "   ```python\n",
    "   result = 20 % 3  # result will be 2\n",
    "   ```\n",
    "\n",
    "   **Application:** Modulus is used to determine divisibility, cyclic patterns, and to extract components from time-series data.\n",
    "\n",
    "6. **Exponentiation (\\*\\*)**: The exponentiation operator raises a number to the power of another.\n",
    "\n",
    "   ```python\n",
    "   result = 2 ** 3  # result will be 8\n",
    "   ```\n",
    "\n",
    "   **Application:** Exponentiation is employed in exponential growth/decay modeling, computing compound interest, and solving exponential equations.\n",
    "\n",
    "7. **Floor Division (//)**: Floor division performs integer division, returning the floor value.\n",
    "\n",
    "   ```python\n",
    "   result = 20 // 3  # result will be 6\n",
    "   ```\n",
    "\n",
    "   **Application:** Floor division is useful for obtaining integer quotients and truncating fractional parts, particularly in division operations.\n",
    "\n",
    "**Conclusion:**\n",
    "\n",
    "Arithmetic operators play a vital role in Python programming, enabling developers to perform a wide range of mathematical computations efficiently. Understanding how to use these operators and their applications is essential for mastering Python programming and solving diverse real-world problems."
   ]
  },
  {
   "cell_type": "markdown",
   "metadata": {},
   "source": [
    "Dividend = (Divisor*Quotient) + Remainder"
   ]
  },
  {
   "cell_type": "code",
   "execution_count": 2,
   "metadata": {},
   "outputs": [
    {
     "name": "stdout",
     "output_type": "stream",
     "text": [
      "Result of Addition (+) on 23.0 and 3.0 operation result: 26.0\n",
      "Result of Subtraction (-) on 3.0 and 1.0 operation result: 2.0\n",
      "Result of Multiplication (*) on 5.0 and 4.0 operation result: 20.0\n",
      "Result of Division (/) on 5.0 and 1.0 operation result: 5.0\n",
      "Result of Modulus (%) on 4.0 and 8.0 operation result: 4.0\n",
      "Result of Exponentiation (**) on 2.0 and 4.0 operation result: 16.0\n",
      "Result of Floor Division (//) on 56.0 and 10.0 operation result: 5.0\n"
     ]
    }
   ],
   "source": [
    "# Dictionary of arithmetic operators\n",
    "operators = {\n",
    "    '+': 'Addition',\n",
    "    '-': 'Subtraction',\n",
    "    '*': 'Multiplication',\n",
    "    '/': 'Division',\n",
    "    '%': 'Modulus',\n",
    "    '**': 'Exponentiation',\n",
    "    '//': 'Floor Division'\n",
    "}\n",
    "\n",
    "# Loop to take input for each operator\n",
    "for op_symbol, op_name in operators.items():\n",
    "    num1 = float(input(f\"Enter the first number for {op_name} ({op_symbol}): \"))\n",
    "    num2 = float(input(f\"Enter the second number for {op_name} ({op_symbol}): \"))\n",
    "\n",
    "    # Perform the operation based on the operator\n",
    "    if op_symbol == '+':\n",
    "        result = num1 + num2\n",
    "    elif op_symbol == '-':\n",
    "        result = num1 - num2\n",
    "    elif op_symbol == '*':\n",
    "        result = num1 * num2\n",
    "    elif op_symbol == '/':\n",
    "        result = num1 / num2\n",
    "    elif op_symbol == '%':\n",
    "        result = num1 % num2\n",
    "    elif op_symbol == '**':\n",
    "        result = num1 ** num2\n",
    "    elif op_symbol == '//':\n",
    "        result = num1 // num2\n",
    "\n",
    "    print(f\"Result of {op_name} ({op_symbol}) on {num1} and {num2} operation result: {result}\")\n"
   ]
  },
  {
   "cell_type": "markdown",
   "metadata": {},
   "source": [
    "**Introduction to Comparison Operators in Python**\n",
    "\n",
    "Comparison operators in Python are used to compare the values of two operands. They evaluate to either True or False depending on the relationship between the operands. These operators are fundamental for making decisions in programming and controlling the flow of execution based on conditions. Understanding comparison operators is crucial for writing logical and conditional statements in Python programs.\n",
    "\n",
    "**Comparison Operators in Python:**\n",
    "\n",
    "1. **Equal to (==)**: Checks if two operands are equal.\n",
    "\n",
    "   ```python\n",
    "   result = (5 == 5)  # result will be True\n",
    "   ```\n",
    "\n",
    "   **Application:** Used for equality checks, comparing variables, and conditionals to determine if two values are the same.\n",
    "\n",
    "2. **Not equal to (!=)**: Checks if two operands are not equal.\n",
    "\n",
    "   ```python\n",
    "   result = (5 != 3)  # result will be True\n",
    "   ```\n",
    "\n",
    "   **Application:** Useful for inequality checks, verifying if two values are different, and implementing decision-making logic.\n",
    "\n",
    "3. **Greater than (>)**: Checks if the left operand is greater than the right operand.\n",
    "\n",
    "   ```python\n",
    "   result = (10 > 5)  # result will be True\n",
    "   ```\n",
    "\n",
    "   **Application:** Employed to compare numerical values, sorting data, and implementing conditional statements based on magnitude.\n",
    "\n",
    "4. **Less than (<)**: Checks if the left operand is less than the right operand.\n",
    "\n",
    "   ```python\n",
    "   result = (3 < 8)  # result will be True\n",
    "   ```\n",
    "\n",
    "   **Application:** Useful for numerical comparisons, determining precedence, and implementing range checks.\n",
    "\n",
    "5. **Greater than or equal to (>=)**: Checks if the left operand is greater than or equal to the right operand.\n",
    "\n",
    "   ```python\n",
    "   result = (7 >= 7)  # result will be True\n",
    "   ```\n",
    "\n",
    "   **Application:** Used for inclusive comparisons, boundary checks, and ensuring minimum thresholds.\n",
    "\n",
    "6. **Less than or equal to (<=)**: Checks if the left operand is less than or equal to the right operand.\n",
    "\n",
    "   ```python\n",
    "   result = (4 <= 5)  # result will be True\n",
    "   ```\n",
    "\n",
    "   **Application:** Employed for inclusive comparisons, upper bounds checks, and ensuring maximum limits.\n",
    "\n",
    "**Conclusion:**\n",
    "\n",
    "Comparison operators are indispensable tools in Python programming for evaluating conditions and making decisions based on the relationships between values. Mastery of these operators is essential for writing robust and logical code, implementing conditional statements, and controlling program flow effectively. Understanding when and how to use comparison operators enables developers to create reliable and efficient Python programs for various applications."
   ]
  },
  {
   "cell_type": "code",
   "execution_count": 3,
   "metadata": {},
   "outputs": [
    {
     "name": "stdout",
     "output_type": "stream",
     "text": [
      "Comparison Operators Program\n",
      "Enter two numbers:\n",
      "\n",
      "Comparison Results:\n",
      "5.0 == 6.0 (Equal to): False\n",
      "5.0 != 6.0 (Not equal to): True\n",
      "5.0 > 6.0 (Greater than): False\n",
      "5.0 < 6.0 (Less than): True\n",
      "5.0 >= 6.0 (Greater than or equal to): False\n",
      "5.0 <= 6.0 (Less than or equal to): True\n"
     ]
    }
   ],
   "source": [
    "# Dictionary to store comparison operators and their corresponding expressions\n",
    "comparison_operators = {\n",
    "    '==': 'Equal to',\n",
    "    '!=': 'Not equal to',\n",
    "    '>': 'Greater than',\n",
    "    '<': 'Less than',\n",
    "    '>=': 'Greater than or equal to',\n",
    "    '<=': 'Less than or equal to'\n",
    "}\n",
    "\n",
    "# Function to evaluate comparison expressions\n",
    "def evaluate_comparison(operator, operand1, operand2):\n",
    "    if operator == '==':\n",
    "        return operand1 == operand2\n",
    "    elif operator == '!=':\n",
    "        return operand1 != operand2\n",
    "    elif operator == '>':\n",
    "        return operand1 > operand2\n",
    "    elif operator == '<':\n",
    "        return operand1 < operand2\n",
    "    elif operator == '>=':\n",
    "        return operand1 >= operand2\n",
    "    elif operator == '<=':\n",
    "        return operand1 <= operand2\n",
    "    else:\n",
    "        return False\n",
    "\n",
    "# Main function\n",
    "def main():\n",
    "    print(\"Comparison Operators Program\")\n",
    "    print(\"Enter two numbers:\")\n",
    "    num1 = float(input(\"Enter the first number: \"))\n",
    "    num2 = float(input(\"Enter the second number: \"))\n",
    "\n",
    "    print(\"\\nComparison Results:\")\n",
    "    for op_symbol, op_name in comparison_operators.items():\n",
    "        result = evaluate_comparison(op_symbol, num1, num2)\n",
    "        print(f\"{num1} {op_symbol} {num2} ({op_name}): {result}\")\n",
    "\n",
    "if __name__ == \"__main__\":\n",
    "    main()\n"
   ]
  },
  {
   "cell_type": "markdown",
   "metadata": {},
   "source": [
    "**Introduction to Logical Operators in Python**\n",
    "\n",
    "Logical operators in Python are used to combine multiple conditions and perform logical operations. They evaluate expressions and return a Boolean value (True or False) based on the truth value of the operands. Logical operators are essential for constructing complex conditions, making decisions, and controlling the flow of execution in programs. Understanding logical operators is crucial for writing effective and robust Python code.\n",
    "\n",
    "**Logical Operators in Python:**\n",
    "\n",
    "1. **Logical AND (and)**: The logical AND operator returns True if both operands are True, otherwise, it returns False.\n",
    "\n",
    "   ```python\n",
    "   result = (True and False)  # result will be False\n",
    "   ```\n",
    "\n",
    "   **Application:** Logical AND is commonly used for combining multiple conditions where all conditions must be True for an overall condition to be True. It is used for implementing conjunctive logic and ensuring that all criteria are met.\n",
    "\n",
    "2. **Logical OR (or)**: The logical OR operator returns True if at least one of the operands is True, otherwise, it returns False.\n",
    "\n",
    "   ```python\n",
    "   result = (True or False)  # result will be True\n",
    "   ```\n",
    "\n",
    "   **Application:** Logical OR is used for combining multiple conditions where at least one condition needs to be True for the overall condition to be True. It is used for implementing disjunctive logic and providing alternatives.\n",
    "\n",
    "3. **Logical NOT (not)**: The logical NOT operator negates the value of its operand. It returns True if the operand is False, and False if the operand is True.\n",
    "\n",
    "   ```python\n",
    "   result = (not True)  # result will be False\n",
    "   ```\n",
    "\n",
    "   **Application:** Logical NOT is used for inverting the truth value of a condition or expression. It is used to check for the absence of a condition or to negate the outcome of a logical expression.\n",
    "\n",
    "**Examples and Applications:**\n",
    "\n",
    "- **Example 1: User Authentication**\n",
    "  \n",
    "  ```python\n",
    "  # Check if username and password are valid\n",
    "  if (username == 'admin' and password == 'password'):\n",
    "      print(\"Login successful!\")\n",
    "  else:\n",
    "      print(\"Invalid username or password.\")\n",
    "  ```\n",
    "\n",
    "  **Application:** Logical AND is used to ensure that both the username and password provided by the user match the expected values for authentication.\n",
    "\n",
    "- **Example 2: Temperature Control System**\n",
    "  \n",
    "  ```python\n",
    "  # Check if temperature is within acceptable range\n",
    "  if (temperature >= 20 and temperature <= 25):\n",
    "      print(\"Temperature is optimal.\")\n",
    "  else:\n",
    "      print(\"Temperature needs adjustment.\")\n",
    "  ```\n",
    "\n",
    "  **Application:** Logical AND is used to verify that the temperature is within the desired range, ensuring optimal conditions for the temperature control system.\n",
    "\n",
    "- **Example 3: Product Availability Check**\n",
    "  \n",
    "  ```python\n",
    "  # Check if product is in stock or available for purchase\n",
    "  if (product_in_stock or product_available_online):\n",
    "      print(\"Product is available.\")\n",
    "  else:\n",
    "      print(\"Product is out of stock.\")\n",
    "  ```\n",
    "\n",
    "  **Application:** Logical OR is used to determine if the product is either available in stock or can be purchased online, ensuring that customers have access to the product through different channels.\n",
    "\n",
    "**Conclusion:**\n",
    "\n",
    "Logical operators are fundamental components of Python programming for combining conditions, making decisions, and controlling program flow. Mastery of logical operators enables developers to write concise and expressive code, implement complex conditions, and create robust and reliable Python programs for various applications. Understanding when and how to use logical operators is essential for writing efficient and effective code in Python."
   ]
  },
  {
   "cell_type": "code",
   "execution_count": 4,
   "metadata": {},
   "outputs": [
    {
     "name": "stdout",
     "output_type": "stream",
     "text": [
      "Logical Operators Program\n",
      "\n",
      "Performing Logical AND operation:\n",
      "Result: True\n",
      "\n",
      "Performing Logical OR operation:\n",
      "Result: True\n",
      "\n",
      "Performing Logical NOT operation:\n",
      "Result: False\n"
     ]
    }
   ],
   "source": [
    "# Dictionary of logical operators and their names\n",
    "logical_operators = {\n",
    "    'and': 'Logical AND',\n",
    "    'or': 'Logical OR',\n",
    "    'not': 'Logical NOT'\n",
    "}\n",
    "\n",
    "# Function to perform logical AND operation\n",
    "def logical_and_op(operand1, operand2):\n",
    "    return operand1 and operand2\n",
    "\n",
    "# Function to perform logical OR operation\n",
    "def logical_or_op(operand1, operand2):\n",
    "    return operand1 or operand2\n",
    "\n",
    "# Function to perform logical NOT operation\n",
    "def logical_not_op(operand):\n",
    "    return not operand\n",
    "\n",
    "# Main function\n",
    "def main():\n",
    "    print(\"Logical Operators Program\")\n",
    "\n",
    "    # Taking input operands\n",
    "    operand1 = bool(int(input(\"Enter first operand (0 for False, 1 for True): \")))\n",
    "    operand2 = bool(int(input(\"Enter second operand (0 for False, 1 for True): \")))\n",
    "\n",
    "    # Performing operations\n",
    "    for op_symbol, op_name in logical_operators.items():\n",
    "        print(f\"\\nPerforming {op_name} operation:\")\n",
    "        if op_symbol == 'and':\n",
    "            result = logical_and_op(operand1, operand2)\n",
    "        elif op_symbol == 'or':\n",
    "            result = logical_or_op(operand1, operand2)\n",
    "        elif op_symbol == 'not':\n",
    "            result = logical_not_op(operand1)\n",
    "        print(f\"Result: {result}\")\n",
    "\n",
    "if __name__ == \"__main__\":\n",
    "    main()\n"
   ]
  },
  {
   "cell_type": "markdown",
   "metadata": {},
   "source": [
    "**Introduction to Assignment Operators in Python**\n",
    "\n",
    "Assignment operators in Python are used to assign values to variables. They allow you to store data in variables and manipulate their values using various operations. Assignment operators are fundamental for working with variables and updating their values within a program. Understanding assignment operators is crucial for writing efficient and concise Python code.\n",
    "\n",
    "**Assignment Operators in Python:**\n",
    "\n",
    "1. **Assignment (=)**: The assignment operator is used to assign a value to a variable.\n",
    "\n",
    "   ```python\n",
    "   x = 10\n",
    "   ```\n",
    "\n",
    "   This assigns the value 10 to the variable x.\n",
    "\n",
    "2. **Addition Assignment (+=)**: The addition assignment operator adds the value of the right operand to the value of the left operand and assigns the result to the left operand.\n",
    "\n",
    "   ```python\n",
    "   x += 5\n",
    "   ```\n",
    "\n",
    "   This is equivalent to `x = x + 5`. It adds 5 to the current value of x and assigns the result back to x.\n",
    "\n",
    "3. **Subtraction Assignment (-=)**: The subtraction assignment operator subtracts the value of the right operand from the value of the left operand and assigns the result to the left operand.\n",
    "\n",
    "   ```python\n",
    "   x -= 3\n",
    "   ```\n",
    "\n",
    "   This is equivalent to `x = x - 3`. It subtracts 3 from the current value of x and assigns the result back to x.\n",
    "\n",
    "4. **Multiplication Assignment (*=)**: The multiplication assignment operator multiplies the value of the left operand by the value of the right operand and assigns the result to the left operand.\n",
    "\n",
    "   ```python\n",
    "   x *= 2\n",
    "   ```\n",
    "\n",
    "   This is equivalent to `x = x * 2`. It multiplies the current value of x by 2 and assigns the result back to x.\n",
    "\n",
    "5. **Division Assignment (/=)**: The division assignment operator divides the value of the left operand by the value of the right operand and assigns the result to the left operand.\n",
    "\n",
    "   ```python\n",
    "   x /= 4\n",
    "   ```\n",
    "\n",
    "   This is equivalent to `x = x / 4`. It divides the current value of x by 4 and assigns the result back to x.\n",
    "\n",
    "6. **Modulus Assignment (%=)**: The modulus assignment operator calculates the remainder when the value of the left operand is divided by the value of the right operand and assigns the result to the left operand.\n",
    "\n",
    "   ```python\n",
    "   x %= 3\n",
    "   ```\n",
    "\n",
    "   This is equivalent to `x = x % 3`. It calculates the remainder when the current value of x is divided by 3 and assigns the result back to x.\n",
    "\n",
    "7. **Exponentiation Assignment (**=)**: The exponentiation assignment operator raises the value of the left operand to the power of the value of the right operand and assigns the result to the left operand.\n",
    "\n",
    "   ```python\n",
    "   x **= 2\n",
    "   ```\n",
    "\n",
    "   This is equivalent to `x = x ** 2`. It raises the current value of x to the power of 2 and assigns the result back to x.\n",
    "\n",
    "8. **Floor Division Assignment (//=)**: The floor division assignment operator divides the value of the left operand by the value of the right operand and assigns the floor value of the result to the left operand.\n",
    "\n",
    "   ```python\n",
    "   x //= 3\n",
    "   ```\n",
    "\n",
    "   This is equivalent to `x = x // 3`. It divides the current value of x by 3 and assigns the floor value of the result back to x.\n",
    "\n",
    "**Application of Assignment Operators:**\n",
    "\n",
    "- **Variable Initialization and Updates**: Assignment operators are used to initialize variables with initial values and update their values during program execution.\n",
    "\n",
    "  ```python\n",
    "  x = 10  # Variable initialization\n",
    "  x += 5  # Variable update using addition assignment\n",
    "  ```\n",
    "\n",
    "- **Accumulation and Aggregation**: Assignment operators are used to accumulate values or aggregate data by repeatedly updating variables.\n",
    "\n",
    "  ```python\n",
    "  total = 0\n",
    "  total += 10  # Accumulate values\n",
    "  ```\n",
    "\n",
    "- **Increment and Decrement**: Assignment operators are used to increment or decrement the value of variables.\n",
    "\n",
    "  ```python\n",
    "  count = 0\n",
    "  count += 1  # Increment count\n",
    "  ```\n",
    "\n",
    "- **Loop Control**: Assignment operators are used within loops for controlling iterations and updating loop variables.\n",
    "\n",
    "  ```python\n",
    "  for i in range(5):\n",
    "      total += i  # Update total within loop\n",
    "  ```\n",
    "\n",
    "- **Algorithm Implementation**: Assignment operators are used in various algorithms for storing intermediate results and updating state variables.\n",
    "\n",
    "  ```python\n",
    "  result = 1\n",
    "  for i in range(1, n + 1):\n",
    "      result *= i  # Update result for factorial calculation\n",
    "  ```\n",
    "\n",
    "**Conclusion:**\n",
    "\n",
    "Assignment operators are essential components of Python programming for initializing variables, updating their values, and performing various operations on them. Mastery of assignment operators enables developers to write concise and efficient code, implement algorithms, and manipulate data effectively within Python programs. Understanding when and how to use assignment operators is essential for writing robust and reliable Python code for diverse applications."
   ]
  },
  {
   "cell_type": "code",
   "execution_count": 5,
   "metadata": {},
   "outputs": [
    {
     "name": "stdout",
     "output_type": "stream",
     "text": [
      "Assignment Operators Program\n",
      "Initial value of x: 10\n",
      "\n",
      "Performing Assignment operation:\n",
      "Result after Assignment: 5\n",
      "\n",
      "Performing Addition Assignment operation:\n",
      "Result after Addition Assignment: 10\n",
      "\n",
      "Performing Subtraction Assignment operation:\n",
      "Result after Subtraction Assignment: 5\n",
      "\n",
      "Performing Multiplication Assignment operation:\n",
      "Result after Multiplication Assignment: 25\n",
      "\n",
      "Performing Division Assignment operation:\n",
      "Result after Division Assignment: 5.0\n",
      "\n",
      "Performing Modulus Assignment operation:\n",
      "Result after Modulus Assignment: 0.0\n",
      "\n",
      "Performing Exponentiation Assignment operation:\n",
      "Result after Exponentiation Assignment: 0.0\n",
      "\n",
      "Performing Floor Division Assignment operation:\n",
      "Result after Floor Division Assignment: 0.0\n"
     ]
    }
   ],
   "source": [
    "# Dictionary of assignment operators and their names\n",
    "assignment_operators = {\n",
    "    '=': 'Assignment',\n",
    "    '+=': 'Addition Assignment',\n",
    "    '-=': 'Subtraction Assignment',\n",
    "    '*=': 'Multiplication Assignment',\n",
    "    '/=': 'Division Assignment',\n",
    "    '%=': 'Modulus Assignment',\n",
    "    '**=': 'Exponentiation Assignment',\n",
    "    '//=': 'Floor Division Assignment'\n",
    "}\n",
    "\n",
    "# Main function\n",
    "def main():\n",
    "    print(\"Assignment Operators Program\")\n",
    "\n",
    "    # Initialize a variable\n",
    "    x = 10\n",
    "    print(\"Initial value of x:\", x)\n",
    "\n",
    "    # Taking input for operand (right-hand side value)\n",
    "    operand = int(input(\"Enter operand value: \"))\n",
    "\n",
    "    # Performing operations using loop\n",
    "    for op_symbol, op_name in assignment_operators.items():\n",
    "        print(f\"\\nPerforming {op_name} operation:\")\n",
    "        if op_symbol == '=':\n",
    "            x = operand\n",
    "        elif op_symbol == '+=':\n",
    "            x += operand\n",
    "        elif op_symbol == '-=':\n",
    "            x -= operand\n",
    "        elif op_symbol == '*=':\n",
    "            x *= operand\n",
    "        elif op_symbol == '/=':\n",
    "            x /= operand\n",
    "        elif op_symbol == '%=':\n",
    "            x %= operand\n",
    "        elif op_symbol == '**=':\n",
    "            x **= operand\n",
    "        elif op_symbol == '//=':\n",
    "            x //= operand\n",
    "        print(f\"Result after {op_name}: {x}\")\n",
    "\n",
    "if __name__ == \"__main__\":\n",
    "    main()\n"
   ]
  },
  {
   "cell_type": "markdown",
   "metadata": {},
   "source": [
    "# Identity Operators\n",
    "- identity operators are used to compare items to see if they are the same objet with the same memory address.\n",
    "\n",
    "**Introduction to Identity Operators in Python**\n",
    "\n",
    "Identity operators in Python are used to compare the memory addresses of two objects to determine whether they refer to the same object in memory. These operators evaluate to either True or False based on the identity of the objects being compared. Identity operators are essential for checking object identity and determining if two variables refer to the same object. Understanding identity operators is crucial for working with object references and managing memory efficiently in Python.\n",
    "\n",
    "**Identity Operators types in Python:**\n",
    "\n",
    "1. **is**: The `is` operator returns True if two variables refer to the same object in memory, otherwise, it returns False.\n",
    "\n",
    "   ```python\n",
    "   x = [1, 2, 3]\n",
    "   y = [1, 2, 3]\n",
    "   result = (x is y)  # result will be False\n",
    "   ```\n",
    "\n",
    "   In this example, even though `x` and `y` have the same values, they are distinct objects in memory, so `x is y` evaluates to False.\n",
    "\n",
    "2. **is not**: The `is not` operator returns True if two variables refer to different objects in memory, otherwise, it returns False.\n",
    "\n",
    "   ```python\n",
    "   x = [1, 2, 3]\n",
    "   y = [1, 2, 3]\n",
    "   result = (x is not y)  # result will be True\n",
    "   ```\n",
    "\n",
    "   Here, `x` and `y` are distinct objects, so `x is not y` evaluates to True.\n",
    "\n",
    "**Application of Identity Operators:**\n",
    "\n",
    "- **Object Comparison**: Identity operators are used to compare objects to determine if they are the same object in memory.\n",
    "\n",
    "  ```python\n",
    "  x = [1, 2, 3]\n",
    "  y = x\n",
    "  if x is y:\n",
    "      print(\"x and y refer to the same object.\")\n",
    "  ```\n",
    "\n",
    "  This is commonly used in programming to check whether two variables reference the same object, especially in cases where mutable objects like lists and dictionaries are involved.\n",
    "\n",
    "- **Optimization**: Identity operators can be used to optimize code by avoiding unnecessary object creation or duplication.\n",
    "\n",
    "  ```python\n",
    "  if some_object is None:\n",
    "      some_object = create_new_object()\n",
    "  ```\n",
    "\n",
    "  Here, the `is None` check ensures that a new object is only created if the existing object is not already assigned.\n",
    "\n",
    "- **Memory Management**: Identity operators help in managing memory efficiently by identifying object references and preventing memory leaks.\n",
    "\n",
    "  ```python\n",
    "  # Free up memory by deleting objects when they are no longer needed\n",
    "  del some_object\n",
    "  ```\n",
    "\n",
    "  Using identity operators, you can determine when an object is no longer needed and free up memory by deleting the object explicitly.\n",
    "\n",
    "**Conclusion:**\n",
    "\n",
    "Identity operators play a crucial role in Python programming for comparing object references and determining object identity. Mastery of identity operators enables developers to write efficient and optimized code, manage memory effectively, and prevent potential issues related to object duplication and memory leaks. Understanding when and how to use identity operators is essential for writing reliable and high-performance Python code for a wide range of applications."
   ]
  },
  {
   "cell_type": "code",
   "execution_count": 6,
   "metadata": {},
   "outputs": [
    {
     "name": "stdout",
     "output_type": "stream",
     "text": [
      "Identity Operators Program\n",
      "\n",
      "Performing Identity Operator (is) operation:\n",
      "Result: False\n",
      "\n",
      "Performing Identity Operator (is not) operation:\n",
      "Result: True\n"
     ]
    }
   ],
   "source": [
    "# Dictionary of identity operators and their names\n",
    "identity_operators = {\n",
    "    'is': 'Identity Operator (is)',\n",
    "    'is not': 'Identity Operator (is not)'\n",
    "}\n",
    "\n",
    "# Main function\n",
    "def main():\n",
    "    print(\"Identity Operators Program\")\n",
    "\n",
    "    # Create two lists with the same values\n",
    "    list1 = [1, 2, 3]\n",
    "    list2 = [1, 2, 3]\n",
    "\n",
    "    # Perform operations using loop\n",
    "    for op_symbol, op_name in identity_operators.items():\n",
    "        print(f\"\\nPerforming {op_name} operation:\")\n",
    "        if op_symbol == 'is':\n",
    "            result = (list1 is list2)\n",
    "        elif op_symbol == 'is not':\n",
    "            result = (list1 is not list2)\n",
    "        print(f\"Result: {result}\")\n",
    "\n",
    "if __name__ == \"__main__\":\n",
    "    main()\n"
   ]
  },
  {
   "cell_type": "markdown",
   "metadata": {},
   "source": [
    "# Bitwise Operators\n",
    "- These Operators are used to compare the Binary numbers\n",
    "\n",
    "**Introduction to Bitwise Operators in Python**\n",
    "\n",
    "Bitwise operators in Python are used to perform operations at the bit-level. They manipulate individual bits of operands, making them useful for low-level programming, binary manipulation, and optimization. Bitwise operators treat operands as sequences of binary digits and perform bitwise operations on corresponding bits. Understanding bitwise operators is essential for working with binary data, optimizing code, and implementing bitwise algorithms.\n",
    "\n",
    "**Bitwise Operators in Python:**\n",
    "\n",
    "1. **Bitwise AND (&)**: The bitwise AND operator performs a bitwise AND operation between corresponding bits of two operands. It sets each bit of the result to 1 if both corresponding bits of the operands are 1, otherwise, it sets the bit to 0.\n",
    "\n",
    "   ```python\n",
    "   result = 5 & 3  # result will be 1\n",
    "   ```\n",
    "\n",
    "2. **Bitwise OR (|)**: The bitwise OR operator performs a bitwise OR operation between corresponding bits of two operands. It sets each bit of the result to 1 if at least one of the corresponding bits of the operands is 1.\n",
    "\n",
    "   ```python\n",
    "   result = 5 | 3  # result will be 7\n",
    "   ```\n",
    "\n",
    "3. **Bitwise XOR (^)**: The bitwise XOR (exclusive OR) operator performs a bitwise XOR operation between corresponding bits of two operands. It sets each bit of the result to 1 if the corresponding bits of the operands are different, otherwise, it sets the bit to 0.\n",
    "\n",
    "   ```python\n",
    "   result = 5 ^ 3  # result will be 6\n",
    "   ```\n",
    "\n",
    "4. **Bitwise NOT (~)**: The bitwise NOT (complement) operator inverts the bits of its operand. It changes each 1 to 0 and each 0 to 1.\n",
    "\n",
    "   ```python\n",
    "   result = ~5  # result will be -6 (in 2's complement representation)\n",
    "   ```\n",
    "\n",
    "5. **Left Shift (<<)**: The left shift operator shifts the bits of the left operand to the left by a specified number of positions. It fills the shifted-in bits with zeros.\n",
    "\n",
    "   ```python\n",
    "   result = 5 << 1  # result will be 10\n",
    "   ```\n",
    "\n",
    "6. **Right Shift (>>)**: The right shift operator shifts the bits of the left operand to the right by a specified number of positions. It fills the shifted-in bits with the sign bit for signed integers or with zeros for unsigned integers.\n",
    "\n",
    "   ```python\n",
    "   result = 5 >> 1  # result will be 2\n",
    "   ```\n",
    "\n",
    "**Examples of Bitwise Operators:**\n",
    "\n",
    "- **Bitwise AND (&)**:\n",
    "\n",
    "  ```python\n",
    "  result = 5 & 3  # 101 & 011 = 001 (binary), result will be 1 (decimal)\n",
    "  ```\n",
    "\n",
    "- **Bitwise OR (|)**:\n",
    "\n",
    "  ```python\n",
    "  result = 5 | 3  # 101 | 011 = 111 (binary), result will be 7 (decimal)\n",
    "  ```\n",
    "\n",
    "- **Bitwise XOR (^)**:\n",
    "\n",
    "  ```python\n",
    "  result = 5 ^ 3  # 101 ^ 011 = 110 (binary), result will be 6 (decimal)\n",
    "  ```\n",
    "\n",
    "- **Bitwise NOT (~)**:\n",
    "\n",
    "  ```python\n",
    "  result = ~5  # ~0101 = 1010 (binary), result will be -6 (in 2's complement representation)\n",
    "  ```\n",
    "\n",
    "- **Left Shift (<<)**:\n",
    "\n",
    "  ```python\n",
    "  result = 5 << 1  # 101 << 1 = 1010 (binary), result will be 10 (decimal)\n",
    "  ```\n",
    "\n",
    "- **Right Shift (>>)**:\n",
    "\n",
    "  ```python\n",
    "  result = 5 >> 1  # 101 >> 1 = 10 (binary), result will be 2 (decimal)\n",
    "  ```\n",
    "\n",
    "**Conclusion:**\n",
    "\n",
    "Bitwise operators are essential tools for working with binary data and performing low-level operations in Python. Mastery of bitwise operators enables developers to manipulate individual bits of data efficiently, optimize code for performance, and implement bitwise algorithms for various applications such as cryptography, networking, and embedded systems programming. Understanding bitwise operators expands the capabilities of Python programming and enables developers to work with binary data effectively."
   ]
  },
  {
   "cell_type": "code",
   "execution_count": 7,
   "metadata": {},
   "outputs": [
    {
     "name": "stdout",
     "output_type": "stream",
     "text": [
      "0b1010\n"
     ]
    }
   ],
   "source": [
    "# find the binary number in python\n",
    "print(bin(10))"
   ]
  },
  {
   "cell_type": "code",
   "execution_count": 14,
   "metadata": {},
   "outputs": [
    {
     "name": "stdout",
     "output_type": "stream",
     "text": [
      "8\n",
      "0b1000\n"
     ]
    }
   ],
   "source": [
    "# And Bitwise operators\n",
    "a = 10 # 1010\n",
    "b = 8  # 1000\n",
    "\n",
    "print(a & b)\n",
    "print(bin(a & b))"
   ]
  },
  {
   "cell_type": "code",
   "execution_count": 18,
   "metadata": {},
   "outputs": [
    {
     "name": "stdout",
     "output_type": "stream",
     "text": [
      "10\n",
      "0b1010\n",
      "0b1000\n",
      "0b1010\n"
     ]
    }
   ],
   "source": [
    "# Or bitwise operators\n",
    "a = 10 \n",
    "b = 8 \n",
    "c = a | b\n",
    "\n",
    "print(c)\n",
    "print(bin(a))\n",
    "print(bin(b))\n",
    "print(bin(c))\n"
   ]
  },
  {
   "cell_type": "code",
   "execution_count": 19,
   "metadata": {},
   "outputs": [
    {
     "name": "stdout",
     "output_type": "stream",
     "text": [
      "2\n",
      "0b1010\n",
      "0b1000\n",
      "0b10\n"
     ]
    }
   ],
   "source": [
    "# xor bitwise operators\n",
    "# if the similar  bit then result 0 otherwise, result 1\n",
    "\n",
    "a = 10\n",
    "b = 8\n",
    "c = a ^ b\n",
    "print(c)\n",
    "print(bin(a))\n",
    "print(bin(b))\n",
    "print(bin(c))"
   ]
  },
  {
   "cell_type": "code",
   "execution_count": 26,
   "metadata": {},
   "outputs": [
    {
     "name": "stdout",
     "output_type": "stream",
     "text": [
      "2\n",
      "5\n",
      "3\n",
      "40\n",
      "640\n"
     ]
    }
   ],
   "source": [
    "# Zerofill left shift (>>)\n",
    "print(10>>2)  # if (number1 >> number2) then equal to  floor(number1/2^(number2))\n",
    "print(10>>1) \n",
    "print(50>>4) \n",
    "# Zerofill Right shift (<<)\n",
    "print(10<<2)  # if (number1 << number2) then equal to floor(number * 2^(number2))\n",
    "\n",
    "print(20 << 5)\n"
   ]
  },
  {
   "cell_type": "code",
   "execution_count": 29,
   "metadata": {},
   "outputs": [
    {
     "name": "stdout",
     "output_type": "stream",
     "text": [
      "Left shift result: 2\n"
     ]
    }
   ],
   "source": [
    "# program based on logic of bitwise operators\n",
    "def left_shift(number1, number2):\n",
    "    result = number1 / (2 ** number2)\n",
    "    return result\n",
    "\n",
    "def main_left_shift():\n",
    "    number1 = int(input(\"Enter the first number: \"))\n",
    "    number2 = int(input(\"Enter the second number: \"))\n",
    "    result = left_shift(number1, number2)\n",
    "    print(f\"Left shift result: {int(result)}\")\n",
    "\n",
    "if __name__ == \"__main__\":\n",
    "    main_left_shift()\n"
   ]
  },
  {
   "cell_type": "code",
   "execution_count": 30,
   "metadata": {},
   "outputs": [
    {
     "name": "stdout",
     "output_type": "stream",
     "text": [
      "Right shift result: 40\n"
     ]
    }
   ],
   "source": [
    "def right_shift(number1, number2):\n",
    "    result = number1 * (2 ** number2)\n",
    "    return result\n",
    "\n",
    "def main_right_shift():\n",
    "    number1 = int(input(\"Enter the first number: \"))\n",
    "    number2 = int(input(\"Enter the second number: \"))\n",
    "    result = right_shift(number1, number2)\n",
    "    print(f\"Right shift result: {result}\")\n",
    "\n",
    "if __name__ == \"__main__\":\n",
    "    main_right_shift()\n"
   ]
  },
  {
   "cell_type": "code",
   "execution_count": 31,
   "metadata": {},
   "outputs": [
    {
     "name": "stdout",
     "output_type": "stream",
     "text": [
      "Bitwise complement result: 2\n"
     ]
    }
   ],
   "source": [
    "# Bitwise NOT (~) (2's complements)\n",
    "\n",
    "def bitwise_complement(number, num_bits):\n",
    "    result = (1 << num_bits) - 1 - number\n",
    "    return result\n",
    "\n",
    "def main_bitwise_complement():\n",
    "    number = int(input(\"Enter the number: \"))\n",
    "    num_bits = number.bit_length()  # Determine the number of bits in the input number\n",
    "    result = bitwise_complement(number, num_bits)\n",
    "    print(f\"Bitwise complement result: {result}\")\n",
    "\n",
    "if __name__ == \"__main__\":\n",
    "    main_bitwise_complement()\n"
   ]
  },
  {
   "cell_type": "markdown",
   "metadata": {},
   "source": [
    "# Membership Operators\n",
    "- Membership operators are used to check the presence of a sequenc in an object\n",
    "\n",
    "**Introduction to Membership Operators in Python**\n",
    "\n",
    "Membership operators in Python are used to test whether a value belongs to a sequence or a mapping. They are used to check for the presence of a value in a collection such as a list, tuple, set, dictionary, or string. Python provides two membership operators: `in` and `not in`. Membership operators are commonly used in conditional statements and loops to check if a value exists in a container or not.\n",
    "\n",
    "**Membership Operators in Python:**\n",
    "\n",
    "1. **in**: The `in` operator returns True if a value exists in a sequence or a mapping, otherwise, it returns False.\n",
    "\n",
    "   ```python\n",
    "   sequence = [1, 2, 3, 4, 5]\n",
    "   print(3 in sequence)  # True\n",
    "   print(6 in sequence)  # False\n",
    "   ```\n",
    "\n",
    "2. **not in**: The `not in` operator returns True if a value does not exist in a sequence or a mapping, otherwise, it returns False.\n",
    "\n",
    "   ```python\n",
    "   sequence = [1, 2, 3, 4, 5]\n",
    "   print(6 not in sequence)  # True\n",
    "   print(3 not in sequence)  # False\n",
    "   ```\n",
    "\n",
    "**Application of Membership Operators:**\n",
    "\n",
    "- **Checking for Element Existence**: Membership operators are commonly used to check whether a value exists in a sequence or a mapping.\n",
    "\n",
    "  ```python\n",
    "  colors = ['red', 'green', 'blue']\n",
    "  if 'yellow' in colors:\n",
    "      print(\"Yellow color is present.\")\n",
    "  else:\n",
    "      print(\"Yellow color is not present.\")\n",
    "  ```\n",
    "\n",
    "- **Iterating Over Collection**: Membership operators are used in loops to iterate over a collection while checking for the presence of specific values.\n",
    "\n",
    "  ```python\n",
    "  sentence = \"The quick brown fox jumps over the lazy dog\"\n",
    "  for word in sentence.split():\n",
    "      if word not in ['the', 'over']:\n",
    "          print(word)\n",
    "  ```\n",
    "\n",
    "- **Filtering Data**: Membership operators are used to filter data based on certain criteria.\n",
    "\n",
    "  ```python\n",
    "  numbers = [1, 2, 3, 4, 5, 6, 7, 8, 9, 10]\n",
    "  even_numbers = [num for num in numbers if num % 2 == 0]\n",
    "  print(even_numbers)  # Output: [2, 4, 6, 8, 10]\n",
    "  ```\n",
    "\n",
    "- **Checking Key Existence in Dictionary**: Membership operators are used to check if a key exists in a dictionary.\n",
    "\n",
    "  ```python\n",
    "  student = {'name': 'Alice', 'age': 25, 'grade': 'A'}\n",
    "  if 'grade' in student:\n",
    "      print(\"Grade is present.\")\n",
    "  else:\n",
    "      print(\"Grade is not present.\")\n",
    "  ```\n",
    "\n",
    "**Conclusion:**\n",
    "\n",
    "Membership operators provide a convenient way to check for the existence of values in sequences, mappings, and collections. They are widely used in various programming scenarios such as conditional statements, loops, data filtering, and dictionary operations. Understanding and effectively using membership operators enhance the readability, efficiency, and expressiveness of Python code."
   ]
  },
  {
   "cell_type": "code",
   "execution_count": 32,
   "metadata": {},
   "outputs": [
    {
     "name": "stdout",
     "output_type": "stream",
     "text": [
      "3 is present in the sequence.\n",
      "6 is not present in the sequence.\n",
      "yellow is not present in the colors list.\n",
      "green is present in the colors list.\n"
     ]
    }
   ],
   "source": [
    "# Using 'in' operator\n",
    "sequence = [1, 2, 3, 4, 5]\n",
    "value1 = 3\n",
    "value2 = 6\n",
    "\n",
    "if value1 in sequence:\n",
    "    print(f\"{value1} is present in the sequence.\")\n",
    "else:\n",
    "    print(f\"{value1} is not present in the sequence.\")\n",
    "\n",
    "if value2 in sequence:\n",
    "    print(f\"{value2} is present in the sequence.\")\n",
    "else:\n",
    "    print(f\"{value2} is not present in the sequence.\")\n",
    "\n",
    "# Using 'not in' operator\n",
    "colors = ['red', 'green', 'blue']\n",
    "color1 = 'yellow'\n",
    "color2 = 'green'\n",
    "\n",
    "if color1 not in colors:\n",
    "    print(f\"{color1} is not present in the colors list.\")\n",
    "else:\n",
    "    print(f\"{color1} is present in the colors list.\")\n",
    "\n",
    "if color2 not in colors:\n",
    "    print(f\"{color2} is not present in the colors list.\")\n",
    "else:\n",
    "    print(f\"{color2} is present in the colors list.\")\n"
   ]
  },
  {
   "cell_type": "markdown",
   "metadata": {},
   "source": [
    "# Conditional Statements\n",
    "- Conditional statements allows computer to execute a certain condition only if it is true.\n",
    "\n",
    "types of conditional statements\n",
    "1. If the statements\n",
    "2. If-else Statements\n",
    "3. If-elif-else Statements\n",
    "4. Nested Statement\n",
    "5. Short Hand if Statement\n",
    "\n"
   ]
  },
  {
   "cell_type": "markdown",
   "metadata": {},
   "source": [
    "Here's an overview of the different types of conditional statements in Python, along with examples:\n",
    "\n",
    "1. **If Statements**:\n",
    "   - An if statement is used to execute a block of code if a condition is true.\n",
    "   - Syntax:\n",
    "     ```python\n",
    "     if condition:\n",
    "         # code block\n",
    "     ```\n",
    "   - Example:\n",
    "     ```python\n",
    "     x = 10\n",
    "     if x > 5:\n",
    "         print(\"x is greater than 5\")\n",
    "     ```\n",
    "\n",
    "2. **If-else Statements**:\n",
    "   - An if-else statement is used to execute one block of code if the condition is true and another block if the condition is false.\n",
    "   - Syntax:\n",
    "     ```python\n",
    "     if condition:\n",
    "         # code block executed if condition is true\n",
    "     else:\n",
    "         # code block executed if condition is false\n",
    "     ```\n",
    "   - Example:\n",
    "     ```python\n",
    "     x = 3\n",
    "     if x % 2 == 0:\n",
    "         print(\"x is even\")\n",
    "     else:\n",
    "         print(\"x is odd\")\n",
    "     ```\n",
    "\n",
    "3. **If-elif-else Statements**:\n",
    "   - An if-elif-else statement is used to check multiple conditions and execute different code blocks based on the first condition that is true.\n",
    "   - Syntax:\n",
    "     ```python\n",
    "     if condition1:\n",
    "         # code block executed if condition1 is true\n",
    "     elif condition2:\n",
    "         # code block executed if condition2 is true\n",
    "     else:\n",
    "         # code block executed if no condition is true\n",
    "     ```\n",
    "   - Example:\n",
    "     ```python\n",
    "     x = 0\n",
    "     if x > 0:\n",
    "         print(\"x is positive\")\n",
    "     elif x < 0:\n",
    "         print(\"x is negative\")\n",
    "     else:\n",
    "         print(\"x is zero\")\n",
    "     ```\n",
    "\n",
    "4. **Nested Statements**:\n",
    "   - Nested if statements are if statements within other if statements.\n",
    "   - They are used when more than one condition needs to be checked.\n",
    "   - Syntax:\n",
    "     ```python\n",
    "     if condition1:\n",
    "         if condition2:\n",
    "             # code block\n",
    "     ```\n",
    "   - Example:\n",
    "     ```python\n",
    "     x = 10\n",
    "     if x > 0:\n",
    "         if x % 2 == 0:\n",
    "             print(\"x is a positive even number\")\n",
    "     ```\n",
    "\n",
    "5. **Short Hand if Statement**:\n",
    "   - A short-hand if statement is used to execute a single statement based on a condition.\n",
    "   - It is concise and used when there is only one statement to execute.\n",
    "   - Syntax:\n",
    "     ```python\n",
    "     # result = value1 if condition else value2\n",
    "     ```\n",
    "   - Example:\n",
    "     ```python\n",
    "     x = 10\n",
    "     result = \"Even\" if x % 2 == 0 else \"Odd\"\n",
    "     print(result)\n",
    "     ```\n",
    "\n",
    "Each type of conditional statement offers different ways to control the flow of execution in Python programs based on conditions. Understanding these constructs is essential for writing clear and efficient code."
   ]
  },
  {
   "cell_type": "code",
   "execution_count": 33,
   "metadata": {},
   "outputs": [
    {
     "name": "stdout",
     "output_type": "stream",
     "text": [
      "It's hot outside.\n",
      "You are speeding.\n",
      "B Grade\n",
      "Point is in Quadrant IV\n",
      "Even\n"
     ]
    }
   ],
   "source": [
    "# If Statements\n",
    "def check_temperature(temperature):\n",
    "    if temperature > 30:\n",
    "        return \"It's hot outside.\"\n",
    "\n",
    "# If-else Statements\n",
    "def check_speed(speed):\n",
    "    if speed > 60:\n",
    "        return \"You are speeding.\"\n",
    "    else:\n",
    "        return \"You are within the speed limit.\"\n",
    "\n",
    "# If-elif-else Statements\n",
    "def classify_grade(percentage):\n",
    "    if percentage >= 90:\n",
    "        return \"A Grade\"\n",
    "    elif 80 <= percentage < 90:\n",
    "        return \"B Grade\"\n",
    "    elif 70 <= percentage < 80:\n",
    "        return \"C Grade\"\n",
    "    elif 60 <= percentage < 70:\n",
    "        return \"D Grade\"\n",
    "    else:\n",
    "        return \"Fail\"\n",
    "\n",
    "# Nested Statements\n",
    "def check_position(x, y):\n",
    "    if x > 0:\n",
    "        if y > 0:\n",
    "            return \"Point is in Quadrant I\"\n",
    "        elif y < 0:\n",
    "            return \"Point is in Quadrant IV\"\n",
    "        else:\n",
    "            return \"Point is on the positive x-axis\"\n",
    "    elif x < 0:\n",
    "        if y > 0:\n",
    "            return \"Point is in Quadrant II\"\n",
    "        elif y < 0:\n",
    "            return \"Point is in Quadrant III\"\n",
    "        else:\n",
    "            return \"Point is on the negative x-axis\"\n",
    "    else:\n",
    "        if y != 0:\n",
    "            return \"Point is on the y-axis\"\n",
    "        else:\n",
    "            return \"Point is at the origin\"\n",
    "\n",
    "# Short Hand if Statement\n",
    "def check_even_odd(number):\n",
    "    result = \"Even\" if number % 2 == 0 else \"Odd\"\n",
    "    return result\n",
    "\n",
    "# Test the functions\n",
    "def main():\n",
    "    # If Statements\n",
    "    temperature = 35\n",
    "    print(check_temperature(temperature))\n",
    "\n",
    "    # If-else Statements\n",
    "    speed = 70\n",
    "    print(check_speed(speed))\n",
    "\n",
    "    # If-elif-else Statements\n",
    "    percentage = 85\n",
    "    print(classify_grade(percentage))\n",
    "\n",
    "    # Nested Statements\n",
    "    x, y = 5, -3\n",
    "    print(check_position(x, y))\n",
    "\n",
    "    # Short Hand if Statement\n",
    "    number = 10\n",
    "    print(check_even_odd(number))\n",
    "\n",
    "if __name__ == \"__main__\":\n",
    "    main()\n"
   ]
  },
  {
   "cell_type": "markdown",
   "metadata": {},
   "source": [
    "# Problem Solving\n",
    "1. Write a program to check if a number is positive.\n",
    "2. Write a program to check whether a number is odd or even.\n",
    "3. Write a program to create area calculator.\n",
    "4. Write a program to check whether the passed letter is a vowel or not\n",
    "5. Write a program to check if a number is a single digit number , 2- digit number and so on..., up to 5 digits"
   ]
  },
  {
   "cell_type": "code",
   "execution_count": 35,
   "metadata": {},
   "outputs": [
    {
     "name": "stdout",
     "output_type": "stream",
     "text": [
      "the number 10 is positive\n"
     ]
    }
   ],
   "source": [
    "# 1\n",
    "number = int(input(\"Enter the number: \"))\n",
    "print(f\"the number {number} is positive\") if number>0 else print(f\"the number {number} is negative\")"
   ]
  },
  {
   "cell_type": "code",
   "execution_count": 36,
   "metadata": {},
   "outputs": [
    {
     "name": "stdout",
     "output_type": "stream",
     "text": [
      "the number 22 is even\n"
     ]
    }
   ],
   "source": [
    "#2\n",
    "num = int(input(\"Enter the number: \"))\n",
    "print(f\"the number {num} is odd\") if num %2 ==1 else print(f\"the number {num} is even\")"
   ]
  },
  {
   "cell_type": "code",
   "execution_count": 38,
   "metadata": {},
   "outputs": [
    {
     "name": "stdout",
     "output_type": "stream",
     "text": [
      "***********************************Area Calculator**************************************************\n",
      "press 1 to get the area of square\n",
      "      press 2 to get the area of rectangle\n",
      "      press 3 to get the area of circle\n",
      "      press 4 to get the area of triangle\n",
      "\n",
      "The area of square is: 400.0\n"
     ]
    }
   ],
   "source": [
    "# 3\n",
    "import math\n",
    "\n",
    "print(\"***********************************Area Calculator**************************************************\")\n",
    "print(\"\"\"press 1 to get the area of square\n",
    "      press 2 to get the area of rectangle\n",
    "      press 3 to get the area of circle\n",
    "      press 4 to get the area of triangle\n",
    "\"\"\")\n",
    "selection = int(input(\"Enter the choice: \"))\n",
    "\n",
    "def Area_Calculator(selection):\n",
    "    if selection == 1:\n",
    "        side = float(input(\"Enter the length of a side: \"))\n",
    "        area = side ** 2\n",
    "        print(f\"The area of square is: {area}\")\n",
    "\n",
    "    elif selection == 2:\n",
    "        length = float(input(\"Enter the length: \"))\n",
    "        breadth = float(input(\"Enter the breadth: \"))\n",
    "        area = length * breadth\n",
    "        print(f\"The area of rectangle is: {area}\")\n",
    "\n",
    "    elif selection == 3:\n",
    "        radius = float(input(\"Enter the radius: \"))\n",
    "        area = math.pi * radius ** 2\n",
    "        print(f\"The area of circle is: {area:.2f}\")\n",
    "\n",
    "    elif selection == 4:\n",
    "        base = float(input(\"Enter the base: \"))\n",
    "        height = float(input(\"Enter the height: \"))\n",
    "        area = 0.5 * base * height\n",
    "        print(f\"The area of triangle is: {area}\")\n",
    "\n",
    "    else:\n",
    "        print(\"Invalid selection!\")\n",
    "\n",
    "Area_Calculator(selection)"
   ]
  },
  {
   "cell_type": "code",
   "execution_count": 41,
   "metadata": {},
   "outputs": [
    {
     "name": "stdout",
     "output_type": "stream",
     "text": [
      "the given letter is not Vowel\n"
     ]
    }
   ],
   "source": [
    "# 4\n",
    "letter = input(\"Enter the letter: \")\n",
    "\n",
    "if letter in \"aeiou\" or letter in \"AEIOU\":\n",
    "    print(\"the given letter is Vowel\")\n",
    "else:\n",
    "    print(\"the given letter is not Vowel\")    \n"
   ]
  },
  {
   "cell_type": "code",
   "execution_count": 45,
   "metadata": {},
   "outputs": [
    {
     "name": "stdout",
     "output_type": "stream",
     "text": [
      "1000 is fourth digit\n"
     ]
    }
   ],
   "source": [
    "# 5\n",
    "num = int(input(\"Enter the number: \"))\n",
    "\n",
    "if num in range(1,10):\n",
    "    print(f\"{num} is single digit.\")\n",
    "\n",
    "elif num in range(10,100):\n",
    "    print(f\"{num} is double digit\")   \n",
    "\n",
    "elif num in range(100,1000):\n",
    "    print(f\"{num} is triple digit\")  \n",
    "\n",
    "elif num in range(1000,10000):\n",
    "    print(f\"{num} is fourth digit\")\n",
    "\n",
    "elif num in range(10000,100000):\n",
    "    print(f\"{num} is fifth digit\")  \n",
    "\n",
    "else:\n",
    "    print(f\"invalid input..\")    \n",
    "\n"
   ]
  },
  {
   "cell_type": "markdown",
   "metadata": {},
   "source": [
    "# Introduction to loop\n",
    "- A loop means to repeat something in the exact same way.\n",
    "\n",
    " Types of loops are:\n",
    " 1. For loop\n",
    " 2. While Loop\n",
    " 3. While True\n",
    " 4. Neated Loop\n",
    "\n",
    "\n",
    " explain each type of loop:\n",
    "\n",
    "1. **For Loop**:\n",
    "   - A for loop in Python is used to iterate over a sequence (such as a list, tuple, string, or range) or any iterable object.\n",
    "   - It executes a block of code multiple times, once for each item in the sequence.\n",
    "   - Syntax:\n",
    "     ```python\n",
    "     for item in sequence:\n",
    "         # code block\n",
    "     ```\n",
    "   - Example:\n",
    "     ```python\n",
    "     fruits = [\"apple\", \"banana\", \"cherry\"]\n",
    "     for fruit in fruits:\n",
    "         print(fruit)\n",
    "     ```\n",
    "\n",
    "2. **While Loop**:\n",
    "   - A while loop in Python is used to repeatedly execute a block of code as long as a condition is true.\n",
    "   - It continues looping until the condition becomes false.\n",
    "   - Syntax:\n",
    "     ```python\n",
    "     while condition:\n",
    "         # code block\n",
    "     ```\n",
    "   - Example:\n",
    "     ```python\n",
    "     count = 0\n",
    "     while count < 5:\n",
    "         print(count)\n",
    "         count += 1\n",
    "     ```\n",
    "\n",
    "3. **While True**:\n",
    "   - The `while True` loop is a variation of the while loop where the condition is always true.\n",
    "   - It is typically used when an indefinite loop is needed, and the loop termination is controlled by `break` statements within the loop.\n",
    "   - Syntax:\n",
    "     ```python\n",
    "     while True:\n",
    "         # code block\n",
    "         if condition:\n",
    "             break\n",
    "     ```\n",
    "   - Example:\n",
    "     ```python\n",
    "     while True:\n",
    "         x = int(input(\"Enter a number (0 to exit): \"))\n",
    "         if x == 0:\n",
    "             break\n",
    "     ```\n",
    "\n",
    "4. **Nested Loop**:\n",
    "   - A nested loop in Python is a loop inside another loop.\n",
    "   - It is useful for iterating over items in multidimensional data structures like lists of lists.\n",
    "   - Syntax:\n",
    "     ```python\n",
    "     for item1 in sequence1:\n",
    "         for item2 in sequence2:\n",
    "             # code block\n",
    "     ```\n",
    "   - Example:\n",
    "     ```python\n",
    "     for i in range(3):\n",
    "         for j in range(2):\n",
    "             print(i, j)\n",
    "     ```\n",
    "\n",
    "Loops are fundamental programming constructs used to execute repetitive tasks. Each type of loop has its own use cases and syntax, providing flexibility in designing algorithms and solving problems. Understanding loops is essential for writing efficient and concise code in Python.\n",
    "\n",
    "# note\n",
    "\n",
    "In Python, you can simulate a `do while` loop using a `while True` loop along with a conditional `break` statement. This pattern ensures that the loop body executes at least once before evaluating the loop condition. Here's a concise example:\n",
    "\n",
    "```python\n",
    "while True:\n",
    "    # Code block to be executed at least once\n",
    "    # ...\n",
    "\n",
    "    # Check condition for loop termination\n",
    "    if condition:\n",
    "        break\n",
    "```\n",
    "\n",
    "This construct ensures that the loop body runs at least once and then continues looping based on the specified condition."
   ]
  },
  {
   "cell_type": "code",
   "execution_count": 4,
   "metadata": {},
   "outputs": [
    {
     "name": "stdout",
     "output_type": "stream",
     "text": [
      "0\n",
      "1\n",
      "2\n",
      "3\n",
      "4\n",
      "5\n",
      "6\n",
      "7\n",
      "8\n",
      "9\n",
      "10\n"
     ]
    }
   ],
   "source": [
    "number = 0\n",
    "while True:\n",
    "    print(number)\n",
    "    if number == 10:\n",
    "        break\n",
    "    number+=1\n"
   ]
  },
  {
   "cell_type": "code",
   "execution_count": 6,
   "metadata": {},
   "outputs": [
    {
     "name": "stdout",
     "output_type": "stream",
     "text": [
      "1 hello world\n",
      "3 hello world\n",
      "5 hello world\n"
     ]
    }
   ],
   "source": [
    "for i in range(1,6,2):\n",
    "    print(i,\"hello world\")"
   ]
  },
  {
   "cell_type": "code",
   "execution_count": 7,
   "metadata": {},
   "outputs": [
    {
     "name": "stdout",
     "output_type": "stream",
     "text": [
      "7 X 1 = 7\n",
      "7 X 2 = 14\n",
      "7 X 3 = 21\n",
      "7 X 4 = 28\n",
      "7 X 5 = 35\n",
      "7 X 6 = 42\n",
      "7 X 7 = 49\n",
      "7 X 8 = 56\n",
      "7 X 9 = 63\n",
      "7 X 10 = 70\n"
     ]
    }
   ],
   "source": [
    "# Table\n",
    "n = 7\n",
    "for i in range(1,11):\n",
    "    print(f\"{n} X {i} = {n*i}\")"
   ]
  },
  {
   "cell_type": "code",
   "execution_count": 11,
   "metadata": {},
   "outputs": [
    {
     "name": "stdout",
     "output_type": "stream",
     "text": [
      "1\n",
      "2\n",
      "3\n",
      "4\n",
      "5\n",
      "6\n",
      "7\n",
      "8\n",
      "9\n",
      "10\n"
     ]
    }
   ],
   "source": [
    "# while loop\n",
    "# while loop executes till the given condition is true\n",
    "# in while loop , the increment is done inside the loop.\n",
    "n = 1\n",
    "while n<=10:\n",
    "    print(n)\n",
    "    n+=1"
   ]
  },
  {
   "cell_type": "code",
   "execution_count": 12,
   "metadata": {},
   "outputs": [
    {
     "name": "stdout",
     "output_type": "stream",
     "text": [
      "7 X 1 = 7\n",
      "7 X 2 = 14\n",
      "7 X 3 = 21\n",
      "7 X 4 = 28\n",
      "7 X 5 = 35\n",
      "7 X 6 = 42\n",
      "7 X 7 = 49\n",
      "7 X 8 = 56\n",
      "7 X 9 = 63\n",
      "7 X 10 = 70\n"
     ]
    }
   ],
   "source": [
    "n=1\n",
    "a=7\n",
    "while n<=10:\n",
    "    print(f\"{a} X {n} = {a*n}\")\n",
    "    n+=1"
   ]
  },
  {
   "cell_type": "code",
   "execution_count": 13,
   "metadata": {},
   "outputs": [
    {
     "name": "stdout",
     "output_type": "stream",
     "text": [
      "7 * 1 = 7\n",
      "7 * 2 = 14\n",
      "7 * 3 = 21\n",
      "7 * 4 = 28\n",
      "7 * 5 = 35\n",
      "7 * 6 = 42\n",
      "7 * 7 = 49\n",
      "7 * 8 = 56\n",
      "7 * 9 = 63\n",
      "7 * 10 = 70\n"
     ]
    }
   ],
   "source": [
    "# While True is infinite loop.\n",
    "# To break a while true loop, break statements is used.\n",
    "n = 1\n",
    "a = 7\n",
    "while True:\n",
    "    print(f\"{a} * {n} = {a*n}\")\n",
    "    if(n==10):\n",
    "        break\n",
    "    n+=1\n",
    "    "
   ]
  },
  {
   "cell_type": "code",
   "execution_count": 22,
   "metadata": {},
   "outputs": [
    {
     "name": "stdout",
     "output_type": "stream",
     "text": [
      "1 \n",
      "1 1 \n",
      "1 1 1 \n"
     ]
    }
   ],
   "source": [
    "# Nested loops\n",
    "# A loop inside a loop is called as a nested loop.\n",
    "# Nested loops are also used to solve pattern problems\n",
    "\n",
    "for i in range(1,4):\n",
    "    for j in range(i):\n",
    "        print(\"1\" , end=\" \")\n",
    "    print()    "
   ]
  },
  {
   "cell_type": "markdown",
   "metadata": {},
   "source": [
    "# For Loop with conditional statements :\n",
    "- The use of if-else statements increases the ability of for loop to completes the task effectively. By using if-else we can provide with special   conditions inside for loop.\n"
   ]
  },
  {
   "cell_type": "code",
   "execution_count": 23,
   "metadata": {},
   "outputs": [
    {
     "name": "stdout",
     "output_type": "stream",
     "text": [
      "1\n",
      "2\n",
      "3\n",
      "This is four number.\n",
      "5\n",
      "6\n",
      "7\n",
      "8\n",
      "9\n",
      "10\n"
     ]
    }
   ],
   "source": [
    "for i in range(1,11):\n",
    "    \n",
    "    if i == 4:\n",
    "        print(\"This is four number.\")\n",
    "\n",
    "    else:\n",
    "        print(i)    "
   ]
  },
  {
   "cell_type": "code",
   "execution_count": 1,
   "metadata": {},
   "outputs": [
    {
     "name": "stdout",
     "output_type": "stream",
     "text": [
      "24\n",
      "48\n",
      "72\n",
      "96\n"
     ]
    }
   ],
   "source": [
    "for i in range(1,101):\n",
    "    if i%8 == 0 and i % 12 == 0:\n",
    "        print(i)"
   ]
  },
  {
   "cell_type": "markdown",
   "metadata": {},
   "source": [
    "# Break and continue statmenets\n",
    "\n",
    "Continue Statement:\n",
    "- Continue Statement is used when you want to skip a particular  condition.\n",
    "\n",
    "Break Statement :\n",
    "- Break Statement is used when you waant to destroy a loop at a certain condition and come out of the loop."
   ]
  },
  {
   "cell_type": "code",
   "execution_count": 4,
   "metadata": {},
   "outputs": [
    {
     "name": "stdout",
     "output_type": "stream",
     "text": [
      "1\n",
      "2\n",
      "3\n",
      "4\n",
      "6\n",
      "7\n",
      "8\n",
      "9\n",
      "10\n"
     ]
    }
   ],
   "source": [
    "for i in range(1,11):\n",
    "    if i == 5:\n",
    "        continue\n",
    "    else:\n",
    "        print(i)"
   ]
  },
  {
   "cell_type": "code",
   "execution_count": 7,
   "metadata": {},
   "outputs": [
    {
     "name": "stdout",
     "output_type": "stream",
     "text": [
      "1\n",
      "2\n",
      "3\n",
      "4\n",
      "5\n",
      "6\n",
      "Thank you\n"
     ]
    }
   ],
   "source": [
    "for i in range(1,11):\n",
    "    if i == 7:\n",
    "        break\n",
    "    else:\n",
    "        print(i)\n",
    "print(\"Thank you\")\n"
   ]
  },
  {
   "cell_type": "markdown",
   "metadata": {},
   "source": [
    "# Problem solving...\n",
    "1.  Write a program to find a sum of all the even numbers up to 50 .\n",
    "2.  Write a program to write first 20 nubers and their squared numbers.\n",
    "3. Write a program to find sum of first 10 odd numbers using while loop.\n",
    "4. Write a program to check if a number is divisible by 8 and 12 to 100 numbers.\n",
    "5. Write a program to create a billing system at supermarket."
   ]
  },
  {
   "cell_type": "code",
   "execution_count": 8,
   "metadata": {},
   "outputs": [
    {
     "name": "stdout",
     "output_type": "stream",
     "text": [
      "650\n"
     ]
    }
   ],
   "source": [
    "# 1\n",
    "sum = 0\n",
    "for i in range(1,51):\n",
    "    if i%2 == 1:\n",
    "        continue\n",
    "    else:\n",
    "        sum +=i\n",
    "\n",
    "print(sum)        \n"
   ]
  },
  {
   "cell_type": "code",
   "execution_count": 1,
   "metadata": {},
   "outputs": [
    {
     "name": "stdout",
     "output_type": "stream",
     "text": [
      "( 1 = 1 )\n",
      "( 2 = 4 )\n",
      "( 3 = 9 )\n",
      "( 4 = 16 )\n",
      "( 5 = 25 )\n",
      "( 6 = 36 )\n",
      "( 7 = 49 )\n",
      "( 8 = 64 )\n",
      "( 9 = 81 )\n",
      "( 10 = 100 )\n",
      "( 11 = 121 )\n",
      "( 12 = 144 )\n",
      "( 13 = 169 )\n",
      "( 14 = 196 )\n",
      "( 15 = 225 )\n",
      "( 16 = 256 )\n",
      "( 17 = 289 )\n",
      "( 18 = 324 )\n",
      "( 19 = 361 )\n",
      "( 20 = 400 )\n"
     ]
    }
   ],
   "source": [
    "#2\n",
    "for i in range(1,21):\n",
    "    print(\"(\",i,\"=\",i**2,\")\")"
   ]
  },
  {
   "cell_type": "code",
   "execution_count": 4,
   "metadata": {},
   "outputs": [
    {
     "name": "stdout",
     "output_type": "stream",
     "text": [
      "100\n"
     ]
    }
   ],
   "source": [
    "sum = 0\n",
    "num = 1\n",
    "while num <= 20:\n",
    "    if num%2==1:\n",
    "        sum +=num\n",
    "           \n",
    "    num+=1\n",
    "\n",
    "print(sum)    \n"
   ]
  },
  {
   "cell_type": "code",
   "execution_count": 5,
   "metadata": {},
   "outputs": [
    {
     "name": "stdout",
     "output_type": "stream",
     "text": [
      "24\n",
      "48\n",
      "72\n",
      "96\n"
     ]
    }
   ],
   "source": [
    "for i in range(1,101):\n",
    "    if i%8==0 and i%12==0:\n",
    "        print(i)"
   ]
  },
  {
   "cell_type": "code",
   "execution_count": 6,
   "metadata": {},
   "outputs": [
    {
     "name": "stdout",
     "output_type": "stream",
     "text": [
      "Total Cost: 60000.0\n"
     ]
    }
   ],
   "source": [
    "# Function to calculate total cost\n",
    "def calculate_total(products):\n",
    "    total = 0\n",
    "    for product, price, quantity in products:\n",
    "        total += price * quantity\n",
    "    return total\n",
    "\n",
    "# Main program\n",
    "if __name__ == \"__main__\":\n",
    "    products = []\n",
    "    \n",
    "    # Loop to add products\n",
    "    while True:\n",
    "        name = input(\"Enter product name (or type 'done' to finish): \")\n",
    "        if name.lower() == 'done':\n",
    "            break\n",
    "        price = float(input(\"Enter price: \"))\n",
    "        quantity = int(input(\"Enter quantity: \"))\n",
    "        products.append((name, price, quantity))\n",
    "    \n",
    "    # Calculate and print total cost\n",
    "    total_cost = calculate_total(products)\n",
    "    print(\"Total Cost:\", total_cost)\n"
   ]
  },
  {
   "cell_type": "code",
   "execution_count": 8,
   "metadata": {},
   "outputs": [
    {
     "name": "stdout",
     "output_type": "stream",
     "text": [
      "3\n",
      "6\n",
      "9\n"
     ]
    }
   ],
   "source": [
    "lst = [(1,2,3),(4,5,6),(7,8,9)]\n",
    "for i,j,k in lst:\n",
    "    print(k)"
   ]
  },
  {
   "cell_type": "code",
   "execution_count": 9,
   "metadata": {},
   "outputs": [
    {
     "name": "stdout",
     "output_type": "stream",
     "text": [
      "Enter the amount and quantity\n",
      "Enter the amount and quantity\n",
      "--------------------------------------------------\n",
      "Name:  Rupesh Kumar Daha\n",
      "Amount to be paid:  343940.0\n",
      "----------------------------------------\n",
      "***********************Happy Shopping*****************\n"
     ]
    }
   ],
   "source": [
    "while True:\n",
    "    name = input(\"Enter Customer name : \")\n",
    "    total = 0\n",
    "    while True:\n",
    "        print(\"Enter the amount and quantity\")\n",
    "        amount = float(input(\"Enter the Amount: \"))\n",
    "        quantity = float(input(\"Enter the Quantity: \"))\n",
    "        total += amount*quantity\n",
    "        repeat = input(\"do you want to add more items(yes/no)\")\n",
    "        if repeat==\"no\" or repeat ==\"NO\":\n",
    "            break\n",
    "\n",
    "    print(\"-\"*50)\n",
    "    print(\"Name: \", name)\n",
    "    print(\"Amount to be paid: \", total)\n",
    "    print(\"-\"*40)\n",
    "    print(\"***********************Happy Shopping*****************\")\n",
    "    repeat1 = input(\"Do you want to go to next cumstemer? (yes/no): \")\n",
    "    if repeat1 == \"no\" or repeat1==\"NO\":\n",
    "        break    "
   ]
  },
  {
   "cell_type": "markdown",
   "metadata": {},
   "source": [
    "Problems...\n",
    "A = \"Why fit in, When you are Born to Stand Out!\"\n",
    "1. Write a program to find the length of the following string.\n",
    "2. Write a program to check how many time alphabet o is  occuring.\n",
    "3. Write a program to convert the whole string into lower and upper cases.\n",
    "4. Write a program to convert the following string into a title.\n",
    "5. Write  a program to find the index number of \"fit in\"."
   ]
  },
  {
   "cell_type": "code",
   "execution_count": 16,
   "metadata": {},
   "outputs": [
    {
     "name": "stdout",
     "output_type": "stream",
     "text": [
      "43\n",
      "43\n"
     ]
    }
   ],
   "source": [
    "# 1\n",
    "A = \"Why fit in, When you are Born to Stand Out!\"\n",
    "print(len(A))\n",
    "\n",
    "# 1 Or\n",
    "count =0\n",
    "for i in A:\n",
    "    count+=1\n",
    "print(count)    \n"
   ]
  },
  {
   "cell_type": "code",
   "execution_count": 13,
   "metadata": {},
   "outputs": [
    {
     "name": "stdout",
     "output_type": "stream",
     "text": [
      "o occures = 4 times\n"
     ]
    }
   ],
   "source": [
    "# 2\n",
    "A = \"Why fit in, When you are Born to Stand Out!\"\n",
    "count = 0\n",
    "for i in A:\n",
    "    if i == \"o\" or i ==\"O\":\n",
    "        count+=1\n",
    "\n",
    "print(f\"o occures = {count} times\")\n"
   ]
  },
  {
   "cell_type": "code",
   "execution_count": 15,
   "metadata": {},
   "outputs": [
    {
     "name": "stdout",
     "output_type": "stream",
     "text": [
      "4\n"
     ]
    }
   ],
   "source": [
    "# 2 or\n",
    "A = \"Why fit in, When you are Born to Stand Out!\"\n",
    "print(A.count(\"o\")+A.count(\"O\"))\n"
   ]
  },
  {
   "cell_type": "code",
   "execution_count": 20,
   "metadata": {},
   "outputs": [
    {
     "name": "stdout",
     "output_type": "stream",
     "text": [
      "WHY FIT IN, WHEN YOU ARE BORN TO STAND OUT!\n",
      "__________________________________________________\n",
      "why fit in, when you are born to stand out!\n"
     ]
    }
   ],
   "source": [
    "# 3. \n",
    "A = \"Why fit in, When you are Born to Stand Out!\"\n",
    "print(A.upper())\n",
    "print(\"_\"*50)\n",
    "print(A.lower())"
   ]
  },
  {
   "cell_type": "code",
   "execution_count": 21,
   "metadata": {},
   "outputs": [
    {
     "name": "stdout",
     "output_type": "stream",
     "text": [
      "Why Fit In, When You Are Born To Stand Out!\n"
     ]
    }
   ],
   "source": [
    "# 4\n",
    "A = \"Why fit in, When you are Born to Stand Out!\"\n",
    "print(A.title())"
   ]
  },
  {
   "cell_type": "code",
   "execution_count": 22,
   "metadata": {},
   "outputs": [
    {
     "name": "stdout",
     "output_type": "stream",
     "text": [
      "Index of 'fit in': 4\n"
     ]
    }
   ],
   "source": [
    "# Define the string\n",
    "A = \"Why fit in, When you are Born to Stand Out!\"\n",
    "\n",
    "# Find the index of the substring \"fit in\"\n",
    "index = A.find(\"fit in\")\n",
    "\n",
    "# Check if the substring is found\n",
    "if index != -1:\n",
    "    print(\"Index of 'fit in':\", index)\n",
    "else:\n",
    "    print(\"'fit in' not found in the string.\")\n"
   ]
  },
  {
   "cell_type": "markdown",
   "metadata": {},
   "source": [
    "Pattern problems...\n",
    "1\n",
    "12\n",
    "123\n",
    "1234\n",
    "12345"
   ]
  },
  {
   "cell_type": "code",
   "execution_count": 5,
   "metadata": {},
   "outputs": [
    {
     "name": "stdout",
     "output_type": "stream",
     "text": [
      "1 \n",
      "1 2 \n",
      "1 2 3 \n",
      "1 2 3 4 \n",
      "1 2 3 4 5 \n",
      "1 2 3 4 5 6 \n"
     ]
    }
   ],
   "source": [
    "row = int(input(\"Enter the row: \"))\n",
    "for i in range(1,row+1):\n",
    "  for j in range(1,row+1):\n",
    "      if i >= j:\n",
    "         print(j,end=\" \")\n",
    "\n",
    "  print()  "
   ]
  },
  {
   "cell_type": "markdown",
   "metadata": {},
   "source": [
    "Write a program to display this pattern\n",
    "1\n",
    "22\n",
    "333\n",
    "4444\n",
    "55555\n"
   ]
  },
  {
   "cell_type": "code",
   "execution_count": 8,
   "metadata": {},
   "outputs": [
    {
     "name": "stdout",
     "output_type": "stream",
     "text": [
      "1 \n",
      "2 2 \n",
      "3 3 3 \n",
      "4 4 4 4 \n",
      "5 5 5 5 5 \n",
      "6 6 6 6 6 6 \n",
      "7 7 7 7 7 7 7 \n",
      "8 8 8 8 8 8 8 8 \n",
      "9 9 9 9 9 9 9 9 9 \n"
     ]
    }
   ],
   "source": [
    "row = int(input(\"Enter the row: \"))\n",
    "for i in range(1,row+1):\n",
    "  for j in range(1,row+1):\n",
    "      if i >= j:\n",
    "         print(i,end=\" \")\n",
    "\n",
    "  print()"
   ]
  },
  {
   "cell_type": "code",
   "execution_count": 29,
   "metadata": {},
   "outputs": [
    {
     "name": "stdout",
     "output_type": "stream",
     "text": [
      "1 1 1 1 1 1 1 \n",
      "2 2 2 2 2 2 \n",
      "3 3 3 3 3 \n",
      "4 4 4 4 \n",
      "5 5 5 \n",
      "6 6 \n",
      "7 \n"
     ]
    }
   ],
   "source": [
    "row = int(input(\"Enter the row: \"))\n",
    "for i in range(1,row+1):\n",
    "  for j in range(1,row+1):\n",
    "      if i <= j:\n",
    "         print(i,end=\" \")\n",
    "\n",
    "  print()"
   ]
  },
  {
   "cell_type": "code",
   "execution_count": 28,
   "metadata": {},
   "outputs": [
    {
     "name": "stdout",
     "output_type": "stream",
     "text": [
      "7 7 7 7 7 7 7 \n",
      "6 6 6 6 6 6 \n",
      "5 5 5 5 5 \n",
      "4 4 4 4 \n",
      "3 3 3 \n",
      "2 2 \n",
      "1 \n"
     ]
    }
   ],
   "source": [
    "# or\n",
    "row = int(input(\"Enter the row: \"))\n",
    "for i in range(row,0,-1):\n",
    "  for j in range(1,i+1):\n",
    "    print(i,end=\" \")\n",
    "\n",
    "  print()"
   ]
  },
  {
   "cell_type": "code",
   "execution_count": 35,
   "metadata": {},
   "outputs": [
    {
     "name": "stdout",
     "output_type": "stream",
     "text": [
      "1 1 1 1 1 \n",
      "2 2 2 2 \n",
      "3 3 3 \n",
      "4 4 \n",
      "5 \n"
     ]
    }
   ],
   "source": [
    "# or\n",
    "row = int(input(\"Enter the row: \"))\n",
    "for i in range(1,row+1):\n",
    "  for j in range(1,row-i+2):\n",
    "    print(i,end=\" \")\n",
    "\n",
    "  print()"
   ]
  },
  {
   "cell_type": "markdown",
   "metadata": {},
   "source": [
    "Write a program to display this pattern\n",
    "       *\n",
    "      **\n",
    "     ***  "
   ]
  },
  {
   "cell_type": "markdown",
   "metadata": {},
   "source": [
    "row = int(input(\"Enter the row: \"))\n",
    "for i in range(1,row+1):\n",
    "  for j in range(1,row):\n",
    "      if i <= j:\n",
    "         print(i,end=\" \")\n",
    "\n",
    "  print()"
   ]
  },
  {
   "cell_type": "code",
   "execution_count": 43,
   "metadata": {},
   "outputs": [
    {
     "name": "stdout",
     "output_type": "stream",
     "text": [
      "        \n",
      "1       \n",
      "1 2     \n",
      "1 2 3   \n"
     ]
    }
   ],
   "source": [
    "row = int(input(\"Enter the row: \"))\n",
    "for i in range(1,row+1):\n",
    "  for j in range(1,row+1):\n",
    "      if i <= j:\n",
    "         print(\" \",end=\" \")\n",
    "      else:\n",
    "         print(j,end=\" \")    \n",
    "\n",
    "  print()"
   ]
  },
  {
   "cell_type": "code",
   "execution_count": 47,
   "metadata": {},
   "outputs": [
    {
     "name": "stdout",
     "output_type": "stream",
     "text": [
      "        * \n",
      "      * * \n",
      "    * * * \n",
      "  * * * * \n",
      "* * * * * \n"
     ]
    }
   ],
   "source": [
    "row = int(input(\"Enter the row: \"))\n",
    "for i in range(1,row+1):\n",
    "  for j in range(row,i,-1):\n",
    "    print(\" \", end=\" \")\n",
    "\n",
    "  for k in range(i):\n",
    "    print(\"*\" ,end=\" \")  \n",
    "       \n",
    "\n",
    "  print()"
   ]
  },
  {
   "cell_type": "code",
   "execution_count": 50,
   "metadata": {},
   "outputs": [
    {
     "name": "stdout",
     "output_type": "stream",
     "text": [
      "1 \n",
      "2 1 \n",
      "3 2 1 \n",
      "4 3 2 1 \n",
      "5 4 3 2 1 \n",
      "6 5 4 3 2 1 \n"
     ]
    }
   ],
   "source": [
    "# or\n",
    "row = int(input(\"Enter the row: \"))\n",
    "for i in range(1,row+1):\n",
    "  for j in range(i,0,-1):\n",
    "    print(j,end=\" \")\n",
    "\n",
    "  print()"
   ]
  },
  {
   "cell_type": "code",
   "execution_count": 58,
   "metadata": {},
   "outputs": [
    {
     "name": "stdout",
     "output_type": "stream",
     "text": [
      "* \n",
      "* * \n",
      "* * * \n",
      "* * * * \n",
      "* * * * * \n",
      "* * * * \n",
      "* * * \n",
      "* * \n",
      "* \n",
      "\n"
     ]
    }
   ],
   "source": [
    "# or\n",
    "row = int(input(\"Enter the row: \"))\n",
    "for i in range(1,row+1):\n",
    "  for j in range(1,i+1):\n",
    "    print(\"*\",end=\" \")\n",
    "  print()\n",
    "\n",
    "for i in range(row,0,-1):\n",
    "  for k in range(0,i-1):\n",
    "    print(\"*\" , end=\" \")\n",
    "  print()    "
   ]
  },
  {
   "cell_type": "code",
   "execution_count": 61,
   "metadata": {},
   "outputs": [
    {
     "name": "stdout",
     "output_type": "stream",
     "text": [
      "1 \n",
      "2 4 \n",
      "3 6 9 \n",
      "4 8 12 16 \n",
      "5 10 15 20 25 \n",
      "6 12 18 24 30 36 \n",
      "7 14 21 28 35 42 49 \n",
      "8 16 24 32 40 48 56 64 \n"
     ]
    }
   ],
   "source": [
    "for i in range(1,9):\n",
    "    for j in range(1,11):\n",
    "        if j<=i:\n",
    "            print(i*j , end=\" \")\n",
    "\n",
    "    print()        "
   ]
  },
  {
   "cell_type": "markdown",
   "metadata": {},
   "source": [
    "# 15 types of pattern problems along with their solutions in Python:\n",
    "\n",
    "1. **Number Patterns:**\n",
    "   - **Problem:** Print a pattern of numbers like a triangle or pyramid.\n",
    "   - **Solution:**\n",
    "     ```python\n",
    "     def number_pattern(n):\n",
    "         for i in range(1, n + 1):\n",
    "             print(\" \" * (n - i) + \"* \" * i)\n",
    "\n",
    "     number_pattern(5)\n",
    "     ```\n",
    "     Output:\n",
    "     ```\n",
    "         *\n",
    "        * *\n",
    "       * * *\n",
    "      * * * *\n",
    "     * * * * *\n",
    "     ```\n",
    "\n",
    "2. **Alphabetic Patterns:**\n",
    "   - **Problem:** Print alphabets in a specific pattern.\n",
    "   - **Solution:**\n",
    "     ```python\n",
    "     def alphabet_pattern(n):\n",
    "         for i in range(n):\n",
    "             print(\" \" * (n - i - 1) + chr(65 + i) + \" \" * (2 * i) + chr(65 + i))\n",
    "\n",
    "     alphabet_pattern(5)\n",
    "     ```\n",
    "     Output:\n",
    "     ```\n",
    "        A\n",
    "       B B\n",
    "      C   C\n",
    "     D     D\n",
    "    E       E\n",
    "     ```\n",
    "\n",
    "3. **Geometric Patterns:**\n",
    "   - **Problem:** Print geometric patterns like squares, rectangles, or diamonds.\n",
    "   - **Solution:**\n",
    "     ```python\n",
    "     def square_pattern(n):\n",
    "         for i in range(n):\n",
    "             print(\"* \" * n)\n",
    "\n",
    "     def rectangle_pattern(rows, cols):\n",
    "         for i in range(rows):\n",
    "             print(\"* \" * cols)\n",
    "\n",
    "     def diamond_pattern(n):\n",
    "         for i in range(n):\n",
    "             print(\" \" * (n - i - 1) + \"* \" * (i + 1))\n",
    "         for i in range(n - 2, -1, -1):\n",
    "             print(\" \" * (n - i - 1) + \"* \" * (i + 1))\n",
    "\n",
    "     square_pattern(5)\n",
    "     rectangle_pattern(4, 6)\n",
    "     diamond_pattern(5)\n",
    "     ```\n",
    "\n",
    "4. **Pyramid Patterns:**\n",
    "   - **Problem:** Print pyramid patterns using numbers or characters.\n",
    "   - **Solution:**\n",
    "     ```python\n",
    "     def pyramid_pattern(n):\n",
    "         for i in range(1, n + 1):\n",
    "             print(\" \" * (n - i) + \"* \" * i)\n",
    "\n",
    "     pyramid_pattern(5)\n",
    "     ```\n",
    "     Output:\n",
    "     ```\n",
    "         *\n",
    "        * *\n",
    "       * * *\n",
    "      * * * *\n",
    "     * * * * *\n",
    "     ```\n",
    "\n",
    "5. **Pascal's Triangle:**\n",
    "   - **Problem:** Generate Pascal's triangle up to a given number of rows.\n",
    "   - **Solution:**\n",
    "     ```python\n",
    "     def generate_pascals_triangle(n):\n",
    "         triangle = [[1]]\n",
    "         for i in range(1, n):\n",
    "             row = [1]\n",
    "             for j in range(1, i):\n",
    "                 row.append(triangle[i - 1][j - 1] + triangle[i - 1][j])\n",
    "             row.append(1)\n",
    "             triangle.append(row)\n",
    "         return triangle\n",
    "\n",
    "     def print_pascals_triangle(triangle):\n",
    "         for row in triangle:\n",
    "             print(\" \".join(map(str, row)).center(len(triangle[-1]) * 3))\n",
    "\n",
    "     triangle = generate_pascals_triangle(5)\n",
    "     print_pascals_triangle(triangle)\n",
    "     ```\n",
    "\n",
    "6. **Floyd's Triangle:**\n",
    "   - **Problem:** Print Floyd's triangle.\n",
    "   - **Solution:**\n",
    "     ```python\n",
    "     def floyds_triangle(n):\n",
    "         num = 1\n",
    "         for i in range(1, n + 1):\n",
    "             for j in range(1, i + 1):\n",
    "                 print(num, end=\" \")\n",
    "                 num += 1\n",
    "             print()\n",
    "\n",
    "     floyds_triangle(4)\n",
    "     ```\n",
    "     Output:\n",
    "     ```\n",
    "     1 \n",
    "     2 3 \n",
    "     4 5 6 \n",
    "     7 8 9 10 \n",
    "     ```\n",
    "\n",
    "7. **Hollow Pyramid:**\n",
    "   - **Problem:** Print a hollow pyramid pattern.\n",
    "   - **Solution:**\n",
    "     ```python\n",
    "     def hollow_pyramid(n):\n",
    "         for i in range(n):\n",
    "             print(\" \" * (n - i - 1) + \"* \" * (i + 1))\n",
    "         for i in range(n - 2, -1, -1):\n",
    "             print(\" \" * (n - i - 1) + \"* \" * (i + 1))\n",
    "\n",
    "     hollow_pyramid(5)\n",
    "     ```\n",
    "\n",
    "8. **Hourglass Pattern:**\n",
    "   - **Problem:** Print an hourglass pattern.\n",
    "   - **Solution:**\n",
    "     ```python\n",
    "     def hourglass_pattern(n):\n",
    "         for i in range(n, 0, -1):\n",
    "             print(\" \" * (n - i) + \"* \" * i)\n",
    "         for i in range(2, n + 1):\n",
    "             print(\" \" * (n - i) + \"* \" * i)\n",
    "\n",
    "     hourglass_pattern(5)\n",
    "     ```\n",
    "\n",
    "9. **Zigzag Pattern:**\n",
    "   - **Problem:** Print a zigzag pattern.\n",
    "   - **Solution:**\n",
    "     ```python\n",
    "     def zigzag_pattern(n):\n",
    "         for i in range(1, n + 1):\n",
    "             print(\"* \" * i)\n",
    "         for i in range(n - 1, 0, -1):\n",
    "             print(\"* \" * i)\n",
    "\n",
    "     zigzag_pattern(5)\n",
    "     ```\n",
    "\n",
    "10. **Number Diamond Pattern:**\n",
    "    - **Problem:** Print a diamond pattern with numbers.\n",
    "    - **Solution:**\n",
    "      ```python\n",
    "      def number_diamond_pattern(n):\n",
    "          for i in range(1, n + 1):\n",
    "              print(\" \" * (n - i) + \" \".join(str(j) for j in range(1, i + 1)))\n",
    "          for i in range(n - 1, 0, -1):\n",
    "              print(\" \" * (n - i) + \" \".join(str(j) for j in range(1, i + 1)))\n",
    "\n",
    "      number_diamond_pattern(5)\n",
    "      ```\n",
    "\n",
    "11. **Number Staircase Pattern:**\n",
    "    - **Problem:** Print a staircase pattern with numbers.\n",
    "    - **Solution:**\n",
    "      ```python\n",
    "      def number_staircase_pattern(n):\n",
    "          num = 1\n",
    "          for i in range(1, n + 1):\n",
    "              for j in range(1, i + 1):\n",
    "                  print(num, end=\" \")\n",
    "                  num += 1\n",
    "              print()\n",
    "\n",
    "      number_staircase_pattern(5)\n",
    "      ```\n",
    "\n",
    "12. **Palindromic Pattern:**\n",
    "    - **Problem:** Print a palindromic pattern of numbers or characters.\n",
    "    - **Solution:**\n",
    "      ```python\n",
    "      def palindromic_pattern(n):\n",
    "          for i in range(1, n + 1):\n",
    "              print(\" \" * (n - i) + \" \".join(str(j) for j in range(i, 0, -1)) + \" \".join(str(j) for j in range(2, i + 1)))\n",
    "      \n",
    "      palindromic_pattern(5)\n",
    "      ```\n",
    "\n",
    "13. **Spiral Pattern:**\n",
    "    - **Problem:** Print a spiral pattern of numbers or characters.\n",
    "    - **Solution:**\n",
    "      ```python\n",
    "      def spiral_pattern\n",
    "\n",
    "(n):\n",
    "          for i in range(n):\n",
    "              for j in range(n):\n",
    "                  print(min(i, j, n - i - 1, n - j - 1), end=\" \")\n",
    "              print()\n",
    "\n",
    "      spiral_pattern(5)\n",
    "      ```\n",
    "\n",
    "14. **Pyramid of Numbers Pattern:**\n",
    "    - **Problem:** Print a pyramid pattern with numbers in increasing order.\n",
    "    - **Solution:**\n",
    "      ```python\n",
    "      def pyramid_of_numbers(n):\n",
    "          for i in range(1, n + 1):\n",
    "              for j in range(1, i + 1):\n",
    "                  print(j, end=\" \")\n",
    "              print()\n",
    "\n",
    "      pyramid_of_numbers(5)\n",
    "      ```\n",
    "\n",
    "15. **Triangle of Stars with Spaces:**\n",
    "    - **Problem:** Print a triangle of stars with spaces in between.\n",
    "    - **Solution:**\n",
    "      ```python\n",
    "      def triangle_of_stars_with_spaces(n):\n",
    "          for i in range(n):\n",
    "              print(\" \" * (n - i - 1) + \"* \" * (i + 1))\n",
    "\n",
    "      triangle_of_stars_with_spaces(5)\n",
    "      ```\n",
    "\n",
    "These examples cover a variety of pattern problems commonly encountered in programming interviews and practice."
   ]
  },
  {
   "cell_type": "markdown",
   "metadata": {},
   "source": [
    "# String Manipulation\n",
    "- Strings are the combination of number, symbols and letters, enclosed inside quotations.\n",
    "\n",
    " **Creation of a String** : Strings can be created by enclosing numbers, letters or special symbols inside double quotations.\n",
    "\n",
    " - It means assigning a stringn value to a variables.\n",
    "  a= (\"Hello World\")\n",
    "  print(a)"
   ]
  },
  {
   "cell_type": "markdown",
   "metadata": {},
   "source": [
    "10 methods of strings...\n",
    "1. Length\n",
    "2. Count\n",
    "3. Upper\n",
    "4. index\n",
    "5. lower\n",
    "6. capitalize\n",
    "7. casefold\n",
    "8. find\n",
    "9. format\n",
    "10. center\n",
    "\n",
    "\n",
    "Sure, let's go through each of these methods one by one:\n",
    "\n",
    "1. **Length (`len()`)**: This method returns the length of the string, i.e., the number of characters in the string.\n",
    "\n",
    "   Example:\n",
    "   ```python\n",
    "   my_string = \"Hello\"\n",
    "   length = len(my_string)\n",
    "   print(length)  # Output: 5\n",
    "   ```\n",
    "\n",
    "2. **Count (`count(substring)`)**: This method returns the number of occurrences of a specified substring in the string.\n",
    "\n",
    "   Example:\n",
    "   ```python\n",
    "   my_string = \"Hello, Hello, Hello\"\n",
    "   count = my_string.count(\"Hello\")\n",
    "   print(count)  # Output: 3\n",
    "   ```\n",
    "\n",
    "3. **Upper (`upper()`)**: This method returns a copy of the string converted to uppercase.\n",
    "\n",
    "   Example:\n",
    "   ```python\n",
    "   my_string = \"hello\"\n",
    "   upper_string = my_string.upper()\n",
    "   print(upper_string)  # Output: \"HELLO\"\n",
    "   ```\n",
    "\n",
    "4. **Index (`index(substring)`)**: This method returns the index of the first occurrence of the specified substring in the string. If the substring is not found, it raises a `ValueError`.\n",
    "\n",
    "   Example:\n",
    "   ```python\n",
    "   my_string = \"Hello\"\n",
    "   index = my_string.index(\"e\")\n",
    "   print(index)  # Output: 1\n",
    "   ```\n",
    "\n",
    "5. **Lower (`lower()`)**: This method returns a copy of the string converted to lowercase.\n",
    "\n",
    "   Example:\n",
    "   ```python\n",
    "   my_string = \"HELLO\"\n",
    "   lower_string = my_string.lower()\n",
    "   print(lower_string)  # Output: \"hello\"\n",
    "   ```\n",
    "\n",
    "6. **Capitalize (`capitalize()`)**: This method returns a copy of the string with the first character capitalized and the rest lowercased.\n",
    "\n",
    "   Example:\n",
    "   ```python\n",
    "   my_string = \"hello world\"\n",
    "   capitalized_string = my_string.capitalize()\n",
    "   print(capitalized_string)  # Output: \"Hello world\"\n",
    "   ```\n",
    "\n",
    "7. **Casefold (`casefold()`)**: This method returns a casefolded copy of the string. Casefolding is similar to lowercasing but more aggressive because it is intended to remove all case distinctions in a string.\n",
    "\n",
    "   Example:\n",
    "   ```python\n",
    "   my_string = \"ß\"\n",
    "   casefolded_string = my_string.casefold()\n",
    "   print(casefolded_string)  # Output: \"ss\"\n",
    "   ```\n",
    "\n",
    "8. **Find (`find(substring)`)**: This method returns the lowest index of the substring in the string. If the substring is not found, it returns -1.\n",
    "\n",
    "   Example:\n",
    "   ```python\n",
    "   my_string = \"Hello, World!\"\n",
    "   index = my_string.find(\"World\")\n",
    "   print(index)  # Output: 7\n",
    "   ```\n",
    "\n",
    "9. **Format (`format()`)**: This method formats the string. It replaces placeholders in the string with values passed as arguments.\n",
    "\n",
    "   Example:\n",
    "   ```python\n",
    "   name = \"Alice\"\n",
    "   age = 30\n",
    "   sentence = \"My name is {} and I am {} years old.\".format(name, age)\n",
    "   print(sentence)  # Output: \"My name is Alice and I am 30 years old.\"\n",
    "   ```\n",
    "\n",
    "10. **Center (`center(width)`)**: This method returns a centered string of specified width by padding the original string with spaces on both sides.\n",
    "\n",
    "    Example:\n",
    "    ```python\n",
    "    my_string = \"Hello\"\n",
    "    centered_string = my_string.center(10)\n",
    "    print(centered_string)  # Output: \"  Hello   \"\n",
    "    ```\n",
    "\n",
    "These are some common string methods in Python. They are quite handy for various string manipulation tasks."
   ]
  },
  {
   "cell_type": "code",
   "execution_count": 62,
   "metadata": {},
   "outputs": [
    {
     "name": "stdout",
     "output_type": "stream",
     "text": [
      "**Hello***\n"
     ]
    }
   ],
   "source": [
    "my_string = \"Hello\"\n",
    "centered_string = my_string.center(10 ,\"*\")\n",
    "print(centered_string)  # Output: \"  Hello   \"\n"
   ]
  },
  {
   "cell_type": "markdown",
   "metadata": {},
   "source": [
    "# String function part 2.\n",
    "- isalnum - Returns True if all characters in the string are alphanumeric\n",
    "- isalpha - Returns  True if all characters in the string are in the alphabet \n",
    "- isdecimal - Returns True if all characters in the string are decimals\n",
    "- isdigit - Returns True if all characters in the string are digits\n",
    "- isnumeric - Returns True if all characters in the string are numeric\n",
    "- islower - converts a string into lower case\n",
    "- isupper - Returns True if all charcaters in the string are upper case\n",
    "- isspace - Returns True if all characters in the string are whitespaces\n",
    "- istitle - Returns True if the string follows the rules of a title\n",
    "\n",
    "\n",
    "Certainly! Let's go through each of these string methods and explain them with examples:\n",
    "\n",
    "1. **isalnum()**: Returns True if all characters in the string are alphanumeric (consist of alphabetic characters and digits), False otherwise.\n",
    "\n",
    "   Example:\n",
    "   ```python\n",
    "   my_string = \"Hello123\"\n",
    "   print(my_string.isalnum())  # Output: True\n",
    "\n",
    "   my_string = \"Hello 123\"\n",
    "   print(my_string.isalnum())  # Output: False\n",
    "   ```\n",
    "\n",
    "2. **isalpha()**: Returns True if all characters in the string are alphabetic, False otherwise.\n",
    "\n",
    "   Example:\n",
    "   ```python\n",
    "   my_string = \"Hello\"\n",
    "   print(my_string.isalpha())  # Output: True\n",
    "\n",
    "   my_string = \"Hello123\"\n",
    "   print(my_string.isalpha())  # Output: False\n",
    "   ```\n",
    "\n",
    "3. **isdecimal()**: Returns True if all characters in the string are decimal characters, False otherwise.\n",
    "\n",
    "   Example:\n",
    "   ```python\n",
    "   my_string = \"123\"\n",
    "   print(my_string.isdecimal())  # Output: True\n",
    "\n",
    "   my_string = \"123.45\"\n",
    "   print(my_string.isdecimal())  # Output: False\n",
    "   ```\n",
    "\n",
    "4. **isdigit()**: Returns True if all characters in the string are digits, False otherwise.\n",
    "\n",
    "   Example:\n",
    "   ```python\n",
    "   my_string = \"123\"\n",
    "   print(my_string.isdigit())  # Output: True\n",
    "\n",
    "   my_string = \"123abc\"\n",
    "   print(my_string.isdigit())  # Output: False\n",
    "   ```\n",
    "\n",
    "5. **isnumeric()**: Returns True if all characters in the string are numeric, False otherwise. This includes characters that can be represented as numbers, such as fractions and subscripts.\n",
    "\n",
    "   Example:\n",
    "   ```python\n",
    "   my_string = \"123\"\n",
    "   print(my_string.isnumeric())  # Output: True\n",
    "\n",
    "   my_string = \"½\"\n",
    "   print(my_string.isnumeric())  # Output: True\n",
    "   ```\n",
    "\n",
    "6. **islower()**: Returns True if all characters in the string are lowercase, False otherwise.\n",
    "\n",
    "   Example:\n",
    "   ```python\n",
    "   my_string = \"hello\"\n",
    "   print(my_string.islower())  # Output: True\n",
    "\n",
    "   my_string = \"Hello\"\n",
    "   print(my_string.islower())  # Output: False\n",
    "   ```\n",
    "\n",
    "7. **isupper()**: Returns True if all characters in the string are uppercase, False otherwise.\n",
    "\n",
    "   Example:\n",
    "   ```python\n",
    "   my_string = \"HELLO\"\n",
    "   print(my_string.isupper())  # Output: True\n",
    "\n",
    "   my_string = \"Hello\"\n",
    "   print(my_string.isupper())  # Output: False\n",
    "   ```\n",
    "\n",
    "8. **isspace()**: Returns True if all characters in the string are whitespace characters, False otherwise.\n",
    "\n",
    "   Example:\n",
    "   ```python\n",
    "   my_string = \"   \"\n",
    "   print(my_string.isspace())  # Output: True\n",
    "\n",
    "   my_string = \"Hello\"\n",
    "   print(my_string.isspace())  # Output: False\n",
    "   ```\n",
    "\n",
    "9. **istitle()**: Returns True if the string is a titlecased string, False otherwise. A titlecased string is a string where the first character of each word is uppercase and all other characters are lowercase.\n",
    "\n",
    "   Example:\n",
    "   ```python\n",
    "   my_string = \"This Is A Title\"\n",
    "   print(my_string.istitle())  # Output: True\n",
    "\n",
    "   my_string = \"This is not a Title\"\n",
    "   print(my_string.istitle())  # Output: False\n",
    "   ```\n",
    "\n",
    "These methods are useful for checking various properties of strings and validating their contents according to specific criteria.\n"
   ]
  },
  {
   "cell_type": "markdown",
   "metadata": {},
   "source": []
  },
  {
   "cell_type": "code",
   "execution_count": 69,
   "metadata": {},
   "outputs": [
    {
     "name": "stdout",
     "output_type": "stream",
     "text": [
      "True\n",
      "False\n"
     ]
    }
   ],
   "source": [
    "my_string = \"Hello123\"\n",
    "print(my_string.isalnum())  # Output: True\n",
    "\n",
    "my_string = \"Hello 123\"\n",
    "print(my_string.isalnum())  # Output: False"
   ]
  },
  {
   "cell_type": "code",
   "execution_count": 70,
   "metadata": {},
   "outputs": [
    {
     "name": "stdout",
     "output_type": "stream",
     "text": [
      "True\n",
      "False\n"
     ]
    }
   ],
   "source": [
    "my_string = \"Hello\"\n",
    "print(my_string.isalpha())  # Output: True\n",
    "\n",
    "my_string = \"Hello123\"\n",
    "print(my_string.isalpha())  # Output: False\n"
   ]
  },
  {
   "cell_type": "code",
   "execution_count": 71,
   "metadata": {},
   "outputs": [
    {
     "name": "stdout",
     "output_type": "stream",
     "text": [
      "True\n",
      "False\n"
     ]
    }
   ],
   "source": [
    "my_string = \"123\"\n",
    "print(my_string.isdecimal())  # Output: True\n",
    "\n",
    "my_string = \"123.45\"\n",
    "print(my_string.isdecimal())  # Output: False\n"
   ]
  },
  {
   "cell_type": "code",
   "execution_count": 72,
   "metadata": {},
   "outputs": [
    {
     "name": "stdout",
     "output_type": "stream",
     "text": [
      "False\n",
      "False\n"
     ]
    }
   ],
   "source": [
    "my_string = \"123\"\n",
    "print(my_string.isdigit())  # Output: True\n",
    "\n",
    "my_string = \"123abc\"\n",
    "print(my_string.isdigit())  # Output: False\n"
   ]
  },
  {
   "cell_type": "code",
   "execution_count": 73,
   "metadata": {},
   "outputs": [
    {
     "name": "stdout",
     "output_type": "stream",
     "text": [
      "True\n",
      "True\n"
     ]
    }
   ],
   "source": [
    "my_string = \"123\"\n",
    "print(my_string.isnumeric())  # Output: True\n",
    "\n",
    "my_string = \"½\"\n",
    "print(my_string.isnumeric())  # Output: True\n"
   ]
  },
  {
   "cell_type": "code",
   "execution_count": 74,
   "metadata": {},
   "outputs": [
    {
     "name": "stdout",
     "output_type": "stream",
     "text": [
      "True\n",
      "False\n"
     ]
    }
   ],
   "source": [
    "my_string = \"hello\"\n",
    "print(my_string.islower())  # Output: True\n",
    "\n",
    "my_string = \"Hello\"\n",
    "print(my_string.islower())  # Output: False\n"
   ]
  },
  {
   "cell_type": "code",
   "execution_count": 75,
   "metadata": {},
   "outputs": [
    {
     "name": "stdout",
     "output_type": "stream",
     "text": [
      "True\n",
      "False\n"
     ]
    }
   ],
   "source": [
    "my_string = \"HELLO\"\n",
    "print(my_string.isupper())  # Output: True\n",
    "\n",
    "my_string = \"Hello\"\n",
    "print(my_string.isupper())  # Output: False\n"
   ]
  },
  {
   "cell_type": "code",
   "execution_count": 78,
   "metadata": {},
   "outputs": [
    {
     "name": "stdout",
     "output_type": "stream",
     "text": [
      "True\n",
      "False\n"
     ]
    }
   ],
   "source": [
    "my_string = \" \"\n",
    "print(my_string.isspace())  # Output: True\n",
    "\n",
    "my_string = \"Hello\"\n",
    "print(my_string.isspace())  # Output: False\n"
   ]
  },
  {
   "cell_type": "code",
   "execution_count": 79,
   "metadata": {},
   "outputs": [
    {
     "name": "stdout",
     "output_type": "stream",
     "text": [
      "True\n",
      "False\n"
     ]
    }
   ],
   "source": [
    "my_string = \"This Is A Title\"\n",
    "print(my_string.istitle())  # Output: True\n",
    "\n",
    "my_string = \"This is not a Title\"\n",
    "print(my_string.istitle())  # Output: False\n"
   ]
  },
  {
   "cell_type": "markdown",
   "metadata": {},
   "source": [
    "# String Function part 3\n",
    "- endwith() - Returns true if the string ends with the specified value.\n",
    "- startswith() - Returns true if the string starts with the specified value\n",
    "- "
   ]
  },
  {
   "cell_type": "code",
   "execution_count": 85,
   "metadata": {},
   "outputs": [
    {
     "name": "stdout",
     "output_type": "stream",
     "text": [
      "True\n"
     ]
    }
   ],
   "source": [
    "# endwith() - Returns true if the string ends with the specified value.\n",
    "\n",
    "a = \"Harry Poter\"\n",
    "print(a.endswith(\"t\",6,9))"
   ]
  },
  {
   "cell_type": "code",
   "execution_count": 87,
   "metadata": {},
   "outputs": [
    {
     "name": "stdout",
     "output_type": "stream",
     "text": [
      "True\n"
     ]
    }
   ],
   "source": [
    "#startwith() - Returns true if the string starts with the specified value.\n",
    "a = \"Rupesh Daha\"\n",
    "print(a.startswith(\"D\" , 7,10))"
   ]
  },
  {
   "cell_type": "code",
   "execution_count": 88,
   "metadata": {},
   "outputs": [
    {
     "name": "stdout",
     "output_type": "stream",
     "text": [
      "rUPESH dAHA\n"
     ]
    }
   ],
   "source": [
    "#Swapcase() - Swaps cases, lower case becomes upper case and vice versa.\n",
    "\n",
    "a = \"Rupesh Daha\"\n",
    "print(a.swapcase())"
   ]
  },
  {
   "cell_type": "code",
   "execution_count": 94,
   "metadata": {},
   "outputs": [
    {
     "name": "stdout",
     "output_type": "stream",
     "text": [
      "Rupesh Kumar Daha  ****\n"
     ]
    }
   ],
   "source": [
    "# strip() - Returns a trimmed version of the string.\n",
    "\n",
    "a = \"___   Rupesh Kumar Daha  ****\"\n",
    "print(a.strip(\" ,*,_\"))"
   ]
  },
  {
   "cell_type": "code",
   "execution_count": 96,
   "metadata": {},
   "outputs": [
    {
     "name": "stdout",
     "output_type": "stream",
     "text": [
      "['', '00FD', 'BRB', 'TB']\n",
      "['hello', ' My name is rupesh', ' Kumar Daha']\n"
     ]
    }
   ],
   "source": [
    "# Split() - splits the string at the specified separator , and returns a list\n",
    "\n",
    "a = \"#00FD#BRB#TB\"\n",
    "b = \"hello. My name is rupesh. Kumar Daha\"\n",
    "print(a.split(\"#\"))\n",
    "print(b.split(\".\"))"
   ]
  },
  {
   "cell_type": "code",
   "execution_count": 98,
   "metadata": {},
   "outputs": [
    {
     "name": "stdout",
     "output_type": "stream",
     "text": [
      "Rupesh Daha********* Is my name\n"
     ]
    }
   ],
   "source": [
    "# ljust() - Return a left justified version of the string\n",
    "a = \"Rupesh Daha\"\n",
    "x = a.ljust(20,\"*\")\n",
    "print(x,\"Is my name\")\n",
    "\n"
   ]
  },
  {
   "cell_type": "code",
   "execution_count": 100,
   "metadata": {},
   "outputs": [
    {
     "name": "stdout",
     "output_type": "stream",
     "text": [
      "*********Rupesh Daha is my name\n"
     ]
    }
   ],
   "source": [
    "#rjust() - Returns a right justified version of the string.\n",
    "\n",
    "a = \"Rupesh Daha\"\n",
    "x = a.rjust(20,\"*\")\n",
    "print(x,\"is my name\")"
   ]
  },
  {
   "cell_type": "code",
   "execution_count": 102,
   "metadata": {},
   "outputs": [
    {
     "name": "stdout",
     "output_type": "stream",
     "text": [
      "My name is rupesh kumar Daha\n",
      "My name is Awadhesh kumar Daha\n"
     ]
    }
   ],
   "source": [
    "# replace() - Returns a string where a specified value is replaced with a spefifed value\n",
    "\n",
    "a = \"My name is rupesh kumar Daha\"\n",
    "print(a)\n",
    "print(a.replace(\"rupesh\" , \"Awadhesh\"))"
   ]
  },
  {
   "cell_type": "code",
   "execution_count": 103,
   "metadata": {},
   "outputs": [
    {
     "name": "stdout",
     "output_type": "stream",
     "text": [
      "0\n"
     ]
    }
   ],
   "source": [
    "#rindex() - Searches the string for a specified value and returns the last position of where it was found\n",
    "\n",
    "a = \"Harry potter and the Prisoner of AZkaban\"\n",
    "print(a.rindex(\"Harry\"))\n",
    "\n"
   ]
  },
  {
   "cell_type": "code",
   "execution_count": 110,
   "metadata": {},
   "outputs": [
    {
     "name": "stdout",
     "output_type": "stream",
     "text": [
      "21\n",
      "10\n"
     ]
    }
   ],
   "source": [
    "# rfind() - Searches the string for a specified value and returns the last position of where it was found\n",
    "\n",
    "a = \"Harry potter and the Goblet of Fire\"\n",
    "print(a.rfind(\"Goblet\"))\n",
    "\n",
    "a = \"bibidy bodidy boo\"\n",
    "\n",
    "print(a.rfind(\"i\",6,14))"
   ]
  },
  {
   "cell_type": "markdown",
   "metadata": {},
   "source": [
    "# Slicing in strings\n",
    "\n",
    "In Python, slicing is a powerful feature for extracting a portion of a string. It allows you to access specific parts of a string by specifying a range of indices. The basic syntax for slicing a string is:\n",
    "\n",
    "```python\n",
    "string[start:stop:step]\n",
    "```\n",
    "\n",
    "Here's what each part of the syntax does:\n",
    "\n",
    "- `start`: The index representing the start of the slice (inclusive). If `start` is not provided, it defaults to 0, indicating the beginning of the string.\n",
    "- `stop`: The index representing the end of the slice (exclusive). If `stop` is not provided, it defaults to the length of the string, meaning the slice extends to the end of the string.\n",
    "- `step`: The increment used to traverse the string. It specifies how many characters to move forward after each character is included in the slice. If `step` is not provided, it defaults to 1.\n",
    "\n",
    "Let's look at some examples to illustrate slicing:\n",
    "\n",
    "```python\n",
    "string = \"Hello, World!\"\n",
    "\n",
    "# Slice from index 0 to 5 (exclusive), i.e., characters \"Hello\"\n",
    "print(string[0:5])  # Output: Hello\n",
    "\n",
    "# Slice from index 7 to the end of the string, i.e., characters \"World!\"\n",
    "print(string[7:])  # Output: World!\n",
    "\n",
    "# Slice from the beginning to index 5 (exclusive), i.e., characters \"Hello\"\n",
    "print(string[:5])  # Output: Hello\n",
    "\n",
    "# Slice from index 0 to 11 (exclusive) with a step of 2, i.e., \"HloWrd\"\n",
    "print(string[::2])  # Output: HloWrd\n",
    "\n",
    "# Slice from index 6 to index 0 (exclusive) with a step of -1, i.e., \"olleH\"\n",
    "print(string[6:0:-1])  # Output: olleH\n",
    "\n",
    "# Slice from index 6 to the end of the string with a step of -1, i.e., reverse the string\n",
    "print(string[6::-1])  # Output: olleH ,\n",
    "\n",
    "# Slice from the end to the beginning of the string, i.e., reverse the entire string\n",
    "print(string[::-1])  # Output: !dlroW ,olleH\n",
    "```\n",
    "\n",
    "Keep in mind that when using negative indices, they count from the end of the string (-1 refers to the last character, -2 refers to the second last character, and so on). Also, when slicing with a negative step, the start index should be greater than the stop index."
   ]
  },
  {
   "cell_type": "code",
   "execution_count": 129,
   "metadata": {},
   "outputs": [
    {
     "name": "stdout",
     "output_type": "stream",
     "text": [
      "Rupe\n"
     ]
    }
   ],
   "source": [
    "a = \"Rupesh Kumar Daha\"\n",
    "print(a[0:4])\n"
   ]
  },
  {
   "cell_type": "markdown",
   "metadata": {},
   "source": [
    "# Problems: \n",
    "1. Write a program to get Fibonacci series up to 10 numbers.\n",
    "2. Write a program to check if a number is prime or not.\n",
    "3. Write a program to find a palindrome of integers.\n",
    "4. Write a program to create an area calculator."
   ]
  },
  {
   "cell_type": "code",
   "execution_count": 131,
   "metadata": {},
   "outputs": [
    {
     "name": "stdout",
     "output_type": "stream",
     "text": [
      "1\n",
      "2\n",
      "3\n",
      "5\n",
      "8\n",
      "13\n",
      "21\n",
      "34\n",
      "55\n"
     ]
    }
   ],
   "source": [
    "# 1. \n",
    "a = 0\n",
    "b = 1\n",
    "for i in range(1,10):\n",
    "    c = a + b\n",
    "    print(c)\n",
    "    a = b\n",
    "    b = c\n",
    "    "
   ]
  },
  {
   "cell_type": "code",
   "execution_count": 133,
   "metadata": {},
   "outputs": [
    {
     "name": "stdout",
     "output_type": "stream",
     "text": [
      "0 1 1 2 3 5 8 13 21 34 "
     ]
    }
   ],
   "source": [
    "def fibonacci(n):\n",
    "    fib_list = [0,1]\n",
    "    for i in range(2,n):\n",
    "        \n",
    "        sum_ = fib_list[-2] + fib_list[-1]\n",
    "        fib_list.append(sum_)\n",
    "\n",
    "    return fib_list\n",
    "\n",
    "\n",
    "num = int(input(\"Enter the input: \"))\n",
    "fib_list = fibonacci(num)\n",
    "for i in fib_list:\n",
    "    print(i , end=\" \")\n"
   ]
  },
  {
   "cell_type": "code",
   "execution_count": 150,
   "metadata": {},
   "outputs": [
    {
     "name": "stdout",
     "output_type": "stream",
     "text": [
      "The given number 1 is not a prime number.\n"
     ]
    }
   ],
   "source": [
    "def prime_number(num):\n",
    "    check_prime = True\n",
    "    # If the number is less than 2, it's not a prime number\n",
    "    if num < 2:\n",
    "        check_prime = False\n",
    "    else:\n",
    "        # Iterate from 2 to num-1 to check for divisors\n",
    "        for i in range(2, num):\n",
    "            if num % i == 0:\n",
    "                check_prime = False\n",
    "                break\n",
    "    return check_prime\n",
    "\n",
    "num = int(input(\"Enter the number: \"))\n",
    "if prime_number(num):\n",
    "    print(f\"The given number {num} is a prime number.\")\n",
    "else:\n",
    "    print(f\"The given number {num} is not a prime number.\")\n"
   ]
  },
  {
   "cell_type": "code",
   "execution_count": 152,
   "metadata": {},
   "outputs": [
    {
     "name": "stdout",
     "output_type": "stream",
     "text": [
      "2 3 5 7 11 13 17 19 23 29 31 37 41 43 47 53 59 61 67 71 73 79 83 89 97 "
     ]
    }
   ],
   "source": [
    "def prime_number(num):\n",
    "    check_prime = True\n",
    "    # If the number is less than 2, it's not a prime number\n",
    "    if num < 2:\n",
    "        check_prime = False\n",
    "    else:\n",
    "        # Iterate from 2 to num-1 to check for divisors\n",
    "        for i in range(2, num):\n",
    "            if num % i == 0:\n",
    "                check_prime = False\n",
    "                break\n",
    "    return check_prime\n",
    "\n",
    "\n",
    "for i in range(1,100):\n",
    "    if prime_number(i):\n",
    "        print(i , end=\" \")"
   ]
  },
  {
   "cell_type": "code",
   "execution_count": 155,
   "metadata": {},
   "outputs": [
    {
     "name": "stdout",
     "output_type": "stream",
     "text": [
      "123321 is a palindrome\n"
     ]
    }
   ],
   "source": [
    "# check palandrome\n",
    "\n",
    "def is_palindrome(num):\n",
    "    num_str = str(num)\n",
    "    for i in range(len(num_str) // 2):\n",
    "        if num_str[i] != num_str[-i - 1]:\n",
    "            return False\n",
    "    return True\n",
    "\n",
    "# Check if a number is a palindrome\n",
    "num = 123321\n",
    "if is_palindrome(num):\n",
    "    print(f\"{num} is a palindrome\")\n",
    "else:\n",
    "    print(f\"{num} is not a palindrome\")\n"
   ]
  },
  {
   "cell_type": "code",
   "execution_count": 156,
   "metadata": {},
   "outputs": [
    {
     "name": "stdout",
     "output_type": "stream",
     "text": [
      "123321 is a palindrome\n"
     ]
    }
   ],
   "source": [
    "def is_palindrome(num):\n",
    "    num_str = str(num)\n",
    "    check_palindrome = False\n",
    "    if num_str == num_str[::-1] :\n",
    "        return True\n",
    "    \n",
    "    return check_palindrome\n",
    "\n",
    "\n",
    "# Check if a number is a palindrome\n",
    "num = 123321\n",
    "if is_palindrome(num):\n",
    "    print(f\"{num} is a palindrome\")\n",
    "else:\n",
    "    print(f\"{num} is not a palindrome\")"
   ]
  },
  {
   "cell_type": "code",
   "execution_count": 157,
   "metadata": {},
   "outputs": [
    {
     "name": "stdout",
     "output_type": "stream",
     "text": [
      "Area of the circle: 78.53981633974483\n",
      "Area of the rectangle: 24\n",
      "Area of the triangle: 10.5\n"
     ]
    }
   ],
   "source": [
    "import math\n",
    "\n",
    "def calculate_circle_area(radius):\n",
    "    return math.pi * radius ** 2\n",
    "\n",
    "def calculate_rectangle_area(length, width):\n",
    "    return length * width\n",
    "\n",
    "def calculate_triangle_area(base, height):\n",
    "    return 0.5 * base * height\n",
    "\n",
    "# Example usage:\n",
    "radius = 5\n",
    "print(\"Area of the circle:\", calculate_circle_area(radius))\n",
    "\n",
    "length = 4\n",
    "width = 6\n",
    "print(\"Area of the rectangle:\", calculate_rectangle_area(length, width))\n",
    "\n",
    "base = 3\n",
    "height = 7\n",
    "print(\"Area of the triangle:\", calculate_triangle_area(base, height))\n"
   ]
  },
  {
   "cell_type": "code",
   "execution_count": 165,
   "metadata": {},
   "outputs": [
    {
     "name": "stdout",
     "output_type": "stream",
     "text": [
      "1233212 is not a palindrome\n"
     ]
    }
   ],
   "source": [
    "def reverse_num(num):\n",
    "    reverse_n = 0\n",
    "    while num>0:\n",
    "        digit = num % 10\n",
    "        reverse_n = reverse_n*10 + digit\n",
    "        num //=10\n",
    "    return reverse_n\n",
    "\n",
    "num = 1233212\n",
    "if reverse_num(num) == num:\n",
    "    print(f\"{num} is a palindrome\")\n",
    "else:\n",
    "    print(f\"{num} is not a palindrome\")"
   ]
  },
  {
   "cell_type": "markdown",
   "metadata": {},
   "source": [
    "A = \"OOTD.YOLO.ASAP.BRB.GTG.OTW\"\n",
    "1. Write a program to separate the following string into coma(,) separated values.\n",
    "2.  Write a program to sort strings alphabetically in python.\n",
    "3.  Write a program to remove a given character from a string.\n",
    "\n",
    "z =\"F.R.I.E.N.D.S.\"\n",
    "\n",
    "4. Write a program to remove dot(.) from the following string.\n",
    "5. Write a program to check the number of occurence of string."
   ]
  },
  {
   "cell_type": "code",
   "execution_count": 171,
   "metadata": {},
   "outputs": [
    {
     "name": "stdout",
     "output_type": "stream",
     "text": [
      "OOTD, YOLO, ASAP, BRB, GTG, OTW\n"
     ]
    }
   ],
   "source": [
    "# 1\n",
    "A = \"OOTD.YOLO.ASAP.BRB.GTG.OTW\"\n",
    "comma_separated_values = A.split(\".\")\n",
    "print(\", \".join(comma_separated_values))\n",
    "\n"
   ]
  },
  {
   "cell_type": "code",
   "execution_count": 175,
   "metadata": {},
   "outputs": [
    {
     "name": "stdout",
     "output_type": "stream",
     "text": [
      "['OOTD', 'YOLO', 'ASAP', 'BRB', 'GTG', 'OTW']\n",
      "['ASAP', 'BRB', 'GTG', 'OOTD', 'OTW', 'YOLO']\n",
      "ASAP.BRB.GTG.OOTD.OTW.YOLO\n"
     ]
    }
   ],
   "source": [
    "# 2\n",
    "A = \"OOTD.YOLO.ASAP.BRB.GTG.OTW\"\n",
    "words = A.split(\".\")\n",
    "print(words)\n",
    "sorted_words = sorted(words)\n",
    "print(sorted_words)\n",
    "print(\".\".join(sorted_words))\n"
   ]
  },
  {
   "cell_type": "code",
   "execution_count": 176,
   "metadata": {},
   "outputs": [
    {
     "name": "stdout",
     "output_type": "stream",
     "text": [
      "FRIENDS\n"
     ]
    }
   ],
   "source": [
    "z = \"F.R.I.E.N.D.S.\"\n",
    "char_to_remove = \".\"\n",
    "\n",
    "# Remove the given character from the string\n",
    "result = z.replace(char_to_remove, \"\")\n",
    "print(result)\n"
   ]
  },
  {
   "cell_type": "code",
   "execution_count": 177,
   "metadata": {},
   "outputs": [
    {
     "name": "stdout",
     "output_type": "stream",
     "text": [
      "OOTDYOLOASAPBRBGTGOTW\n"
     ]
    }
   ],
   "source": [
    "A = \"OOTD.YOLO.ASAP.BRB.GTG.OTW\"\n",
    "# Remove dots from the string\n",
    "result = A.replace(\".\", \"\")\n",
    "print(result)\n"
   ]
  },
  {
   "cell_type": "code",
   "execution_count": 178,
   "metadata": {},
   "outputs": [
    {
     "name": "stdout",
     "output_type": "stream",
     "text": [
      "The substring 'OT' appears 2 times in the string.\n"
     ]
    }
   ],
   "source": [
    "A = \"OOTD.YOLO.ASAP.BRB.GTG.OTW\"\n",
    "substring = \"OT\"\n",
    "# Count the occurrences of the substring in the string\n",
    "count = A.count(substring)\n",
    "print(f\"The substring '{substring}' appears {count} times in the string.\")\n"
   ]
  },
  {
   "cell_type": "markdown",
   "metadata": {},
   "source": [
    "Problems...\n",
    "1. take an input from a user as a string then, reverse it.\n",
    "2. Write a program to check if a string contains only digits.\n",
    "3. Write a program to find number of vowels in a string.\n",
    "4. Write a program to check if every word in a string begins with a capital letter."
   ]
  },
  {
   "cell_type": "code",
   "execution_count": 179,
   "metadata": {},
   "outputs": [
    {
     "name": "stdout",
     "output_type": "stream",
     "text": [
      "Reversed string: ahaD hsepuR\n"
     ]
    }
   ],
   "source": [
    "# 1\n",
    "# Take input from the user\n",
    "input_string = input(\"Enter a string: \")\n",
    "# Reverse the string\n",
    "reversed_string = input_string[::-1]\n",
    "print(\"Reversed string:\", reversed_string)\n"
   ]
  },
  {
   "cell_type": "code",
   "execution_count": 181,
   "metadata": {},
   "outputs": [
    {
     "name": "stdout",
     "output_type": "stream",
     "text": [
      "The string contains only digits.\n"
     ]
    }
   ],
   "source": [
    "def contains_only_digits(input_string):\n",
    "    return input_string.isdigit()\n",
    "\n",
    "# Take input from the user\n",
    "input_string = input(\"Enter a string: \")\n",
    "if contains_only_digits(input_string):\n",
    "    print(\"The string contains only digits.\")\n",
    "else:\n",
    "    print(\"The string contains characters other than digits.\")\n"
   ]
  },
  {
   "cell_type": "code",
   "execution_count": 182,
   "metadata": {},
   "outputs": [
    {
     "name": "stdout",
     "output_type": "stream",
     "text": [
      "Number of vowels in the string: 6\n"
     ]
    }
   ],
   "source": [
    "def count_vowels(input_string):\n",
    "    vowels = \"aeiouAEIOU\"\n",
    "    count = 0\n",
    "    for char in input_string:\n",
    "        if char in vowels:\n",
    "            count += 1\n",
    "    return count\n",
    "\n",
    "# Take input from the user\n",
    "input_string = input(\"Enter a string: \")\n",
    "print(\"Number of vowels in the string:\", count_vowels(input_string))\n"
   ]
  },
  {
   "cell_type": "code",
   "execution_count": 184,
   "metadata": {},
   "outputs": [
    {
     "name": "stdout",
     "output_type": "stream",
     "text": [
      "Not every word in the string begins with a capital letter.\n"
     ]
    }
   ],
   "source": [
    "def all_words_begin_with_capital(input_string):\n",
    "    words = input_string.split()\n",
    "    for word in words:\n",
    "        if not word[0].isupper():\n",
    "            return False\n",
    "    return True\n",
    "\n",
    "# Take input from the user\n",
    "input_string = input(\"Enter a string: \")\n",
    "if all_words_begin_with_capital(input_string):\n",
    "    print(\"Every word in the string begins with a capital letter.\")\n",
    "else:\n",
    "    print(\"Not every word in the string begins with a capital letter.\")"
   ]
  },
  {
   "cell_type": "markdown",
   "metadata": {},
   "source": [
    "# Introductions to list\n",
    "**Lists are the collection of ordered and mutable data**\n",
    "- Lists are written inside the squared brackets.\n",
    "- The value inside a list is separated by coma(,).\n",
    "- Mutable means once created, they can be changed\n",
    "- Multiple datatypes can be written inside a list.\n",
    "\n",
    "Lists in Python are a versatile and fundamental data structure used to store collections of items. Lists are mutable, meaning you can change their elements, add new elements, or remove existing elements.\n",
    "\n",
    "Here's an introduction to lists with examples:\n",
    "\n",
    "### Creating a List:\n",
    "\n",
    "You can create a list by enclosing a sequence of elements within square brackets `[ ]`, separated by commas.\n",
    "\n",
    "```python\n",
    "# Creating a list of integers\n",
    "numbers = [1, 2, 3, 4, 5]\n",
    "\n",
    "# Creating a list of strings\n",
    "fruits = ['apple', 'banana', 'orange', 'grape']\n",
    "```\n",
    "\n",
    "### Accessing Elements:\n",
    "\n",
    "You can access elements in a list using indexing. Indexing starts from 0 for the first element and goes up to `len(list) - 1` for the last element.\n",
    "\n",
    "```python\n",
    "# Accessing elements\n",
    "print(numbers[0])  # Output: 1\n",
    "print(fruits[2])   # Output: orange\n",
    "```\n",
    "\n",
    "### Slicing:\n",
    "\n",
    "You can extract a portion of a list using slicing.\n",
    "\n",
    "```python\n",
    "# Slicing a list\n",
    "print(numbers[1:4])  # Output: [2, 3, 4]\n",
    "print(fruits[:2])    # Output: ['apple', 'banana']\n",
    "```\n",
    "\n",
    "### Modifying Elements:\n",
    "\n",
    "You can modify elements in a list by assigning new values to specific indices.\n",
    "\n",
    "```python\n",
    "# Modifying elements\n",
    "fruits[1] = 'pear'\n",
    "print(fruits)  # Output: ['apple', 'pear', 'orange', 'grape']\n",
    "```\n",
    "\n",
    "### Adding Elements:\n",
    "\n",
    "You can add elements to a list using methods like `append()`, `insert()`, or concatenation.\n",
    "\n",
    "```python\n",
    "# Adding elements\n",
    "fruits.append('kiwi')\n",
    "print(fruits)  # Output: ['apple', 'pear', 'orange', 'grape', 'kiwi']\n",
    "\n",
    "numbers.insert(2, 10)\n",
    "print(numbers)  # Output: [1, 2, 10, 3, 4, 5]\n",
    "```\n",
    "\n",
    "### Removing Elements:\n",
    "\n",
    "You can remove elements from a list using methods like `remove()`, `pop()`, or slicing.\n",
    "\n",
    "```python\n",
    "# Removing elements\n",
    "fruits.remove('orange')\n",
    "print(fruits)  # Output: ['apple', 'pear', 'grape', 'kiwi']\n",
    "\n",
    "popped_element = numbers.pop(3)\n",
    "print(\"Popped element:\", popped_element)  # Output: 3\n",
    "print(numbers)  # Output: [1, 2, 10, 4, 5]\n",
    "```\n",
    "\n",
    "### List Operations:\n",
    "\n",
    "You can perform various operations on lists such as concatenation, repetition, and membership test.\n",
    "\n",
    "```python\n",
    "# List operations\n",
    "combined_list = numbers + fruits\n",
    "print(combined_list)\n",
    "\n",
    "repeated_list = fruits * 2\n",
    "print(repeated_list)\n",
    "\n",
    "print('apple' in fruits)  # Output: True\n",
    "print('banana' not in fruits)  # Output: False\n",
    "```\n",
    "\n",
    "Lists are incredibly flexible and are used extensively in Python programming for various purposes due to their dynamic nature and versatility. They allow you to store and manipulate collections of data efficiently."
   ]
  },
  {
   "cell_type": "markdown",
   "metadata": {},
   "source": [
    "# Slicing Lists\n",
    "\n",
    "Slicing lists in Python allows you to extract specific portions of a list. It's a powerful feature that enables you to work with subsets of data within a list. The basic syntax for slicing a list is:\n",
    "\n",
    "```python\n",
    "list[start:stop:step]\n",
    "```\n",
    "\n",
    "Here's what each part of the syntax does:\n",
    "\n",
    "- `start`: The index representing the start of the slice (inclusive). If `start` is not provided, it defaults to 0, indicating the beginning of the list.\n",
    "- `stop`: The index representing the end of the slice (exclusive). If `stop` is not provided, it defaults to the length of the list, meaning the slice extends to the end of the list.\n",
    "- `step`: The increment used to traverse the list. It specifies how many elements to move forward after each element is included in the slice. If `step` is not provided, it defaults to 1.\n",
    "\n",
    "Now, let's delve into each aspect in detail:\n",
    "\n",
    "### Start Index:\n",
    "\n",
    "The `start` index indicates where the slice begins. Elements at this index and beyond will be included in the slice. If `start` is omitted, the slice starts from the beginning of the list.\n",
    "\n",
    "### Stop Index:\n",
    "\n",
    "The `stop` index indicates where the slice ends. Elements up to, but not including, this index will be included in the slice. If `stop` is omitted, the slice extends to the end of the list.\n",
    "\n",
    "### Step:\n",
    "\n",
    "The `step` parameter determines how many elements to move forward after each element is included in the slice. A positive `step` value moves forward through the list, while a negative `step` value moves backward. If `step` is omitted, it defaults to 1.\n",
    "\n",
    "### Examples:\n",
    "\n",
    "Let's illustrate slicing with some examples:\n",
    "\n",
    "```python\n",
    "my_list = [0, 1, 2, 3, 4, 5, 6, 7, 8, 9]\n",
    "\n",
    "# Slice from index 2 to 6 (exclusive), i.e., elements [2, 3, 4, 5]\n",
    "print(my_list[2:6])  \n",
    "\n",
    "# Slice from index 0 to 7 (exclusive) with a step of 2, i.e., [0, 2, 4, 6]\n",
    "print(my_list[0:7:2])  \n",
    "\n",
    "# Slice from the beginning to index 5 (exclusive), i.e., [0, 1, 2, 3, 4]\n",
    "print(my_list[:5])  \n",
    "\n",
    "# Slice from index 3 to the end of the list, i.e., [3, 4, 5, 6, 7, 8, 9]\n",
    "print(my_list[3:])  \n",
    "\n",
    "# Slice the entire list with a step of -1, i.e., reverse the list\n",
    "print(my_list[::-1])  \n",
    "```\n",
    "\n",
    "These examples demonstrate different slicing scenarios, showing how you can extract subsets of data from a list efficiently using Python's slicing syntax.\n"
   ]
  },
  {
   "cell_type": "markdown",
   "metadata": {},
   "source": [
    "# List Iteration \n",
    "- Iteration uisng For loop\n",
    "- Iteration using for loop with Range and Length function\n",
    "- Iteration using while loop\n",
    "- Using short-Hand For loop\n",
    "\n",
    "List iteration in Python allows you to traverse through the elements of a list and perform operations on each element. There are several ways to iterate over a list, each offering different functionalities and flexibility. Let's discuss each method in detail:\n",
    "\n",
    "### 1. Iteration using a For Loop:\n",
    "\n",
    "The simplest way to iterate over a list is by using a `for` loop. This method allows you to directly access each element of the list and perform operations on it.\n",
    "\n",
    "```python\n",
    "my_list = [1, 2, 3, 4, 5]\n",
    "\n",
    "for element in my_list:\n",
    "    print(element)\n",
    "```\n",
    "\n",
    "### 2. Iteration using For Loop with Range and Length Function:\n",
    "\n",
    "You can also iterate over a list using a `for` loop along with the `range()` function and the `len()` function. This approach provides more control over the iteration process, especially when you need to access elements by index.\n",
    "\n",
    "```python\n",
    "my_list = [1, 2, 3, 4, 5]\n",
    "\n",
    "for i in range(len(my_list)):\n",
    "    print(my_list[i])\n",
    "```\n",
    "\n",
    "### 3. Iteration using a While Loop:\n",
    "\n",
    "While less common, you can also iterate over a list using a `while` loop. This method is useful when you need more control over the iteration process or when the iteration condition is more complex.\n",
    "\n",
    "```python\n",
    "my_list = [1, 2, 3, 4, 5]\n",
    "\n",
    "index = 0\n",
    "while index < len(my_list):\n",
    "    print(my_list[index])\n",
    "    index += 1\n",
    "```\n",
    "\n",
    "### 4. Using Short-Hand For Loop:\n",
    "\n",
    "Python offers a concise way to perform list iteration using list comprehension, which is essentially a short-hand form of a `for` loop that creates a new list based on an existing one.\n",
    "\n",
    "```python\n",
    "my_list = [1, 2, 3, 4, 5]\n",
    "\n",
    "squared_list = [x**2 for x in my_list]\n",
    "print(squared_list)\n",
    "```\n",
    "\n",
    "### Explanation:\n",
    "\n",
    "- **For Loop**: The `for` loop iterates over each element of the list directly, making it simple and intuitive.\n",
    "\n",
    "- **For Loop with Range and Length Function**: This method provides more control over the iteration process, allowing access to elements by index using `range(len(my_list))`.\n",
    "\n",
    "- **While Loop**: The `while` loop iterates over the list based on a condition (`index < len(my_list)`), providing flexibility when the iteration condition is more complex.\n",
    "\n",
    "- **Short-Hand For Loop (List Comprehension)**: List comprehension offers a concise and efficient way to create new lists based on existing ones, performing iteration implicitly.\n",
    "\n",
    "Each method has its advantages and use cases, allowing you to choose the most suitable one based on your specific requirements and coding style."
   ]
  },
  {
   "cell_type": "code",
   "execution_count": 185,
   "metadata": {},
   "outputs": [
    {
     "name": "stdout",
     "output_type": "stream",
     "text": [
      "[1, 4, 9, 16, 25]\n"
     ]
    }
   ],
   "source": [
    "my_list = [1, 2, 3, 4, 5]\n",
    "\n",
    "squared_list = [x**2 for x in my_list]\n",
    "print(squared_list)\n"
   ]
  },
  {
   "cell_type": "markdown",
   "metadata": {},
   "source": [
    "# List comprehension\n",
    "\n",
    "Certainly! Here are five problems along with their solutions using list comprehension:\n",
    "\n",
    "### Problem 1: Square the elements of a list.\n",
    "\n",
    "```python\n",
    "# Problem:\n",
    "numbers = [1, 2, 3, 4, 5]\n",
    "\n",
    "# Solution:\n",
    "squared_numbers = [x**2 for x in numbers]\n",
    "print(squared_numbers)\n",
    "```\n",
    "\n",
    "### Problem 2: Extract even numbers from a list.\n",
    "\n",
    "```python\n",
    "# Problem:\n",
    "numbers = [1, 2, 3, 4, 5, 6, 7, 8, 9]\n",
    "\n",
    "# Solution:\n",
    "even_numbers = [x for x in numbers if x % 2 == 0]\n",
    "print(even_numbers)\n",
    "```\n",
    "\n",
    "### Problem 3: Generate a list of tuples containing the index and value of each element in a list.\n",
    "\n",
    "```python\n",
    "# Problem:\n",
    "fruits = ['apple', 'banana', 'orange']\n",
    "\n",
    "# Solution:\n",
    "indexed_fruits = [(index, fruit) for index, fruit in enumerate(fruits)]\n",
    "print(indexed_fruits)\n",
    "```\n",
    "\n",
    "### Problem 4: Flatten a 2D list into a 1D list.\n",
    "\n",
    "```python\n",
    "# Problem:\n",
    "matrix = [[1, 2, 3], [4, 5, 6], [7, 8, 9]]\n",
    "\n",
    "# Solution:\n",
    "flattened_matrix = [element for sublist in matrix for element in sublist]\n",
    "print(flattened_matrix)\n",
    "```\n",
    "\n",
    "### Problem 5: Convert a list of Celsius temperatures to Fahrenheit.\n",
    "\n",
    "```python\n",
    "# Problem:\n",
    "celsius_temperatures = [0, 10, 20, 30, 40]\n",
    "\n",
    "# Solution:\n",
    "fahrenheit_temperatures = [((9/5) * temp + 32) for temp in celsius_temperatures]\n",
    "print(fahrenheit_temperatures)\n",
    "```\n",
    "\n",
    "These problems demonstrate the versatility and power of list comprehension in Python. They provide concise and elegant solutions to common programming tasks involving lists. If you have any questions or need further explanation, feel free to ask!"
   ]
  },
  {
   "cell_type": "markdown",
   "metadata": {},
   "source": [
    "`enumerate` is a built-in Python function that adds a counter to an iterable object (such as a list, tuple, or string) and returns it as an enumerate object. This object can then be used in iterations to obtain both the index and value of each element within the iterable.\n",
    "\n",
    "The syntax for `enumerate` function is:\n",
    "\n",
    "```python\n",
    "enumerate(iterable, start=0)\n",
    "```\n",
    "\n",
    "Here's what each part of the syntax does:\n",
    "\n",
    "- `iterable`: The iterable object (e.g., list, tuple, string) that you want to enumerate.\n",
    "- `start`: (Optional) The starting value of the counter. By default, it is 0.\n",
    "\n",
    "### Example:\n",
    "\n",
    "```python\n",
    "fruits = ['apple', 'banana', 'cherry', 'date']\n",
    "\n",
    "for index, fruit in enumerate(fruits):\n",
    "    print(index, fruit)\n",
    "```\n",
    "\n",
    "### Output:\n",
    "\n",
    "```\n",
    "0 apple\n",
    "1 banana\n",
    "2 cherry\n",
    "3 date\n",
    "```\n",
    "\n",
    "In this example:\n",
    "\n",
    "- The `enumerate(fruits)` function call returns an enumerate object that pairs each element of the `fruits` list with its corresponding index.\n",
    "- Inside the `for` loop, `index` stores the index of the current element, and `fruit` stores the value of the current element.\n",
    "- The loop iterates over each element of `fruits`, printing both the index and the value of each element.\n",
    "\n",
    "Using `enumerate` simplifies the process of iterating over an iterable while also needing access to the index. It's particularly useful when you need to perform operations that involve both the index and value of elements within the iterable."
   ]
  },
  {
   "cell_type": "code",
   "execution_count": 193,
   "metadata": {},
   "outputs": [
    {
     "name": "stdout",
     "output_type": "stream",
     "text": [
      "(0, 'rupesh')\n",
      "(1, 'Shiv')\n",
      "(2, 'suman')\n",
      "(3, 'Nischal')\n"
     ]
    }
   ],
   "source": [
    "name = [\"rupesh\" , \"Shiv\" , \"suman\", \"Nischal\"]\n",
    "for i in enumerate(name):\n",
    "    print(i)\n",
    "    "
   ]
  },
  {
   "cell_type": "code",
   "execution_count": 194,
   "metadata": {},
   "outputs": [
    {
     "name": "stdout",
     "output_type": "stream",
     "text": [
      "[(0, 'apple'), (1, 'banana'), (2, 'orange')]\n"
     ]
    }
   ],
   "source": [
    "# Problem:\n",
    "fruits = ['apple', 'banana', 'orange']\n",
    "\n",
    "# Solution:\n",
    "indexed_fruits = [(index, fruit) for index, fruit in enumerate(fruits)]\n",
    "print(indexed_fruits)"
   ]
  },
  {
   "cell_type": "code",
   "execution_count": 195,
   "metadata": {},
   "outputs": [
    {
     "name": "stdout",
     "output_type": "stream",
     "text": [
      "[32.0, 50.0, 68.0, 86.0, 104.0]\n"
     ]
    }
   ],
   "source": [
    "celsius_temperatures = [0, 10, 20, 30, 40]\n",
    "\n",
    "# Solution:\n",
    "fahrenheit_temperatures = [((9/5) * temp + 32) for temp in celsius_temperatures]\n",
    "print(fahrenheit_temperatures)"
   ]
  },
  {
   "cell_type": "markdown",
   "metadata": {},
   "source": [
    "# List Functons (part -1)\n",
    "1. len()\n",
    "2. count()\n",
    "3. append()\n",
    "4. insert()\n",
    "5. remove(value)\n",
    "6. pop(index)\n",
    "\n",
    "\n",
    "Sure, let's go through each of these list methods one by one:\n",
    "\n",
    "1. **len()**: \n",
    "   - This function returns the number of items in a list. \n",
    "   - It takes one argument, which is the list whose length you want to find.\n",
    "\n",
    "   ```python\n",
    "   my_list = [1, 2, 3, 4, 5]\n",
    "   length = len(my_list)  # length will be 5\n",
    "   ```\n",
    "\n",
    "2. **count()**: \n",
    "   - This method returns the number of occurrences of a specified element in the list.\n",
    "   - It takes one argument, which is the value you want to count.\n",
    "\n",
    "   ```python\n",
    "   my_list = [1, 2, 2, 3, 2, 4, 5]\n",
    "   count_of_twos = my_list.count(2)  # count_of_twos will be 3\n",
    "   ```\n",
    "\n",
    "3. **append()**: \n",
    "   - This method adds a single element to the end of the list.\n",
    "   - It takes one argument, which is the value you want to add.\n",
    "\n",
    "   ```python\n",
    "   my_list = [1, 2, 3]\n",
    "   my_list.append(4)  # my_list will be [1, 2, 3, 4]\n",
    "   ```\n",
    "\n",
    "4. **insert()**: \n",
    "   - This method inserts a specified element at the specified position in the list.\n",
    "   - It takes two arguments: the index where you want to insert the element and the value you want to insert.\n",
    "\n",
    "   ```python\n",
    "   my_list = [1, 2, 3]\n",
    "   my_list.insert(1, 5)  # my_list will be [1, 5, 2, 3]\n",
    "   ```\n",
    "\n",
    "5. **remove()**: \n",
    "   - This method removes the first occurrence of a specified value from the list.\n",
    "   - It takes one argument, which is the value you want to remove.\n",
    "\n",
    "   ```python\n",
    "   my_list = [1, 2, 3, 4, 5]\n",
    "   my_list.remove(3)  # my_list will be [1, 2, 4, 5]\n",
    "   ```\n",
    "\n",
    "6. **pop()**: \n",
    "   - This method removes and returns the element at the specified position in the list. \n",
    "   - If no index is specified, it removes and returns the last element in the list.\n",
    "   - It takes one optional argument, which is the index of the element you want to remove.\n",
    "\n",
    "   ```python\n",
    "   my_list = [1, 2, 3, 4, 5]\n",
    "   popped_element = my_list.pop(2)  # popped_element will be 3, my_list will be [1, 2, 4, 5]\n",
    "   ```\n",
    "\n",
    "These methods are fundamental for manipulating lists in Python, allowing you to perform various operations such as adding, removing, and counting elements.\n"
   ]
  },
  {
   "cell_type": "markdown",
   "metadata": {},
   "source": [
    " # Methods (Part -2)\n",
    " 1. copy()\n",
    " 2. index()\n",
    " 3. extend()\n",
    " 4. reverse()\n",
    " 5. sort()\n",
    " 6. clear()\n",
    "\n",
    "\n",
    " Certainly! Let's delve into the details of each of these list methods:\n",
    "\n",
    "1. **copy()**: \n",
    "   - This method returns a shallow copy of the list.\n",
    "   - It creates a new list with the same elements as the original list.\n",
    "   \n",
    "   ```python\n",
    "   original_list = [1, 2, 3]\n",
    "   copied_list = original_list.copy()  # copied_list will be [1, 2, 3]\n",
    "   ```\n",
    "\n",
    "2. **index()**: \n",
    "   - This method returns the index of the first occurrence of a specified value in the list.\n",
    "   - It takes one argument, which is the value whose index you want to find.\n",
    "   \n",
    "   ```python\n",
    "   my_list = [1, 2, 3, 4, 5]\n",
    "   index_of_three = my_list.index(3)  # index_of_three will be 2\n",
    "   ```\n",
    "\n",
    "3. **extend()**: \n",
    "   - This method extends the list by appending elements from the iterable (e.g., another list).\n",
    "   - It takes one argument, which is the iterable whose elements you want to append to the list.\n",
    "\n",
    "   ```python\n",
    "   my_list = [1, 2, 3]\n",
    "   additional_elements = [4, 5, 6]\n",
    "   my_list.extend(additional_elements)  # my_list will be [1, 2, 3, 4, 5, 6]\n",
    "   ```\n",
    "\n",
    "4. **reverse()**: \n",
    "   - This method reverses the elements of the list in place.\n",
    "   \n",
    "   ```python\n",
    "   my_list = [1, 2, 3, 4, 5]\n",
    "   my_list.reverse()  # my_list will be [5, 4, 3, 2, 1]\n",
    "   ```\n",
    "\n",
    "5. **sort()**: \n",
    "   - This method sorts the elements of the list in ascending order.\n",
    "   - It can also take optional arguments for customization, such as reverse=True for sorting in descending order.\n",
    "   \n",
    "   ```python\n",
    "   my_list = [3, 1, 4, 1, 5, 9, 2]\n",
    "   my_list.sort()  # my_list will be [1, 1, 2, 3, 4, 5, 9]\n",
    "   ```\n",
    "\n",
    "6. **clear()**: \n",
    "   - This method removes all elements from the list, leaving it empty.\n",
    "   \n",
    "   ```python\n",
    "   my_list = [1, 2, 3, 4, 5]\n",
    "   my_list.clear()  # my_list will be []\n",
    "   ```\n",
    "\n",
    "These methods offer powerful ways to manipulate and work with lists in Python, enabling tasks like copying lists, finding elements, extending lists, and sorting elements."
   ]
  },
  {
   "cell_type": "markdown",
   "metadata": {},
   "source": [
    "# List Comprehension\n",
    "- l3 = [index , for loop , filter]\n"
   ]
  },
  {
   "cell_type": "code",
   "execution_count": 197,
   "metadata": {},
   "outputs": [
    {
     "name": "stdout",
     "output_type": "stream",
     "text": [
      "[45, 56]\n"
     ]
    }
   ],
   "source": [
    "l1 = [45,34,56,7,8,9]\n",
    "\n",
    "l2 = [i for i in l1 if i>40]\n",
    "print(l2)"
   ]
  },
  {
   "cell_type": "markdown",
   "metadata": {},
   "source": [
    "# Problem Solving...\n",
    "A = [\"Ross\" , \"Rachel\",\"Monica\",\"Joe\"]\n",
    "1. Write a program to swap first and forth element.\n",
    "2. Write a program to add a new value at second position.\n",
    "3. Write a program to delete a value from 3rd position.\n",
    "\n",
    "B = [13, 7 , 12 , 10]\n",
    "\n",
    "1. Write a program to multiply all the numbers in the list.\n",
    "2. Write a program to get the largest number from the list.\n",
    "3. Write a program to get the smallest number from the list."
   ]
  },
  {
   "cell_type": "code",
   "execution_count": 198,
   "metadata": {},
   "outputs": [
    {
     "name": "stdout",
     "output_type": "stream",
     "text": [
      "['Joe', 'Rachel', 'Monica', 'Ross']\n"
     ]
    }
   ],
   "source": [
    "A = [\"Ross\" , \"Rachel\",\"Monica\",\"Joe\"]\n",
    "A[0] , A[3] = A[3],A[0]\n",
    "print(A)"
   ]
  },
  {
   "cell_type": "code",
   "execution_count": 199,
   "metadata": {},
   "outputs": [
    {
     "name": "stdout",
     "output_type": "stream",
     "text": [
      "['Ross', 'Chandler', 'Rachel', 'Monica', 'Joe']\n"
     ]
    }
   ],
   "source": [
    "A = [\"Ross\", \"Rachel\", \"Monica\", \"Joe\"]\n",
    "A.insert(1, \"Chandler\")\n",
    "print(A)  # Output: ['Ross', 'Chandler', 'Rachel', 'Monica', 'Joe']\n"
   ]
  },
  {
   "cell_type": "code",
   "execution_count": 200,
   "metadata": {},
   "outputs": [
    {
     "name": "stdout",
     "output_type": "stream",
     "text": [
      "['Ross', 'Rachel', 'Joe']\n"
     ]
    }
   ],
   "source": [
    "A = [\"Ross\", \"Rachel\", \"Monica\", \"Joe\"]\n",
    "del A[2]\n",
    "print(A)  # Output: ['Ross', 'Rachel', 'Joe']\n"
   ]
  },
  {
   "cell_type": "code",
   "execution_count": 201,
   "metadata": {},
   "outputs": [
    {
     "name": "stdout",
     "output_type": "stream",
     "text": [
      "10920\n"
     ]
    }
   ],
   "source": [
    "B = [13, 7, 12, 10]\n",
    "product = 1\n",
    "for num in B:\n",
    "    product *= num\n",
    "print(product)  # Output: 10920\n"
   ]
  },
  {
   "cell_type": "code",
   "execution_count": 202,
   "metadata": {},
   "outputs": [
    {
     "name": "stdout",
     "output_type": "stream",
     "text": [
      "13\n"
     ]
    }
   ],
   "source": [
    "B = [13, 7, 12, 10]\n",
    "max_num = max(B)\n",
    "print(max_num)  # Output: 13\n"
   ]
  },
  {
   "cell_type": "code",
   "execution_count": 203,
   "metadata": {},
   "outputs": [
    {
     "name": "stdout",
     "output_type": "stream",
     "text": [
      "7\n"
     ]
    }
   ],
   "source": [
    "B = [13, 7, 12, 10]\n",
    "min_num = min(B)\n",
    "print(min_num)  # Output: 7\n"
   ]
  },
  {
   "cell_type": "markdown",
   "metadata": {},
   "source": [
    "# Indroduction of Tuples...\n",
    "**Tuples**\n",
    "Tuples are the collection of ordered and un-mutable data.\n",
    "- For tuples no brackets are mandatory. By Choice one can use parentheses.\n",
    "- The Value inside a Tuple is separated by coma(,)\n",
    "- Once Created, tuples cannot be changed.\n",
    "- Multiple datatypes can be written inside a tuples."
   ]
  },
  {
   "cell_type": "markdown",
   "metadata": {},
   "source": [
    "### What is a Tuple?\n",
    "A tuple is an ordered, immutable collection of elements. It's similar to a list but with the key difference that tuples cannot be modified after creation. Once a tuple is created, you cannot add, remove, or change its elements. Tuples are defined using parentheses `()` and elements are separated by commas.\n",
    "\n",
    "### Creating a Tuple:\n",
    "You can create a tuple using parentheses `()`.\n",
    "\n",
    "```python\n",
    "my_tuple = (1, 2, 3, 4, 5)\n",
    "```\n",
    "\n",
    "You can also create a tuple without parentheses, using commas.\n",
    "\n",
    "```python\n",
    "another_tuple = 1, 2, 3, 4, 5\n",
    "```\n",
    "\n",
    "### Accessing Elements:\n",
    "You can access elements of a tuple using indexing, just like lists.\n",
    "\n",
    "```python\n",
    "print(my_tuple[0])  # Output: 1\n",
    "print(my_tuple[2])  # Output: 3\n",
    "```\n",
    "\n",
    "### Tuple Packing and Unpacking:\n",
    "Tuple packing is when you create a tuple without parentheses by separating values with commas. Tuple unpacking is when you assign the elements of a tuple to separate variables.\n",
    "\n",
    "```python\n",
    "# Packing\n",
    "my_tuple = 1, 2, 3\n",
    "\n",
    "# Unpacking\n",
    "a, b, c = my_tuple\n",
    "print(a)  # Output: 1\n",
    "print(b)  # Output: 2\n",
    "print(c)  # Output: 3\n",
    "```\n",
    "\n",
    "### Immutable Nature:\n",
    "As mentioned earlier, tuples are immutable, meaning you cannot modify them after creation. You can't add, remove, or change elements in a tuple.\n",
    "\n",
    "```python\n",
    "my_tuple = (1, 2, 3)\n",
    "my_tuple[0] = 5  # This will raise a TypeError\n",
    "```\n",
    "\n",
    "### Types of Tuple:\n",
    "1. **Empty Tuple**:\n",
    "   ```python\n",
    "   empty_tuple = ()\n",
    "   ```\n",
    "\n",
    "2. **Single Element Tuple**:\n",
    "   To create a single element tuple, you need to include a comma after the element.\n",
    "   ```python\n",
    "   single_element_tuple = (5,)\n",
    "   ```\n",
    "\n",
    "3. **Nested Tuple**:\n",
    "   Tuples can contain other tuples as elements.\n",
    "   ```python\n",
    "   nested_tuple = ((1, 2), (3, 4), (5, 6))\n",
    "   ```\n",
    "\n",
    "4. **Mixed Data Type Tuple**:\n",
    "   Tuples can contain elements of different data types.\n",
    "   ```python\n",
    "   mixed_tuple = (1, 'hello', True, 3.14)\n",
    "   ```\n",
    "\n",
    "### Tuple Methods:\n",
    "Since tuples are immutable, they have fewer methods compared to lists. Some common methods include `count()` and `index()`.\n",
    "\n",
    "### Use Cases:\n",
    "Tuples are useful when you want to store a collection of items that shouldn't be changed, such as coordinates, configuration settings, or database records.\n",
    "\n",
    "```python\n",
    "coordinates = (10, 20)\n",
    "config_settings = ('debug', 'verbose')\n",
    "record = ('John', 30, 'john@example.com')\n",
    "```\n",
    "\n",
    "In summary, tuples are ordered collections of elements, similar to lists but immutable. They are created using parentheses and can contain any data type. Tuples are useful for representing fixed collections of items that shouldn't be changed."
   ]
  },
  {
   "cell_type": "markdown",
   "metadata": {},
   "source": [
    "# Slicing and Iteration in Tuples.\n",
    "\n",
    "# tuples are comma separated value..\n",
    "\n",
    "Certainly! Let's discuss slicing and iteration in tuples.\n",
    "\n",
    "### Slicing Tuples:\n",
    "Slicing allows you to access a subset of elements from a tuple. It's done by specifying a start index, an end index (exclusive), and an optional step size.\n",
    "\n",
    "```python\n",
    "my_tuple = (1, 2, 3, 4, 5)\n",
    "\n",
    "# Get elements from index 1 to 3 (exclusive)\n",
    "subset = my_tuple[1:3]\n",
    "print(subset)  # Output: (2, 3)\n",
    "\n",
    "# Get every second element\n",
    "every_second = my_tuple[::2]\n",
    "print(every_second)  # Output: (1, 3, 5)\n",
    "\n",
    "# Reverse the tuple\n",
    "reversed_tuple = my_tuple[::-1]\n",
    "print(reversed_tuple)  # Output: (5, 4, 3, 2, 1)\n",
    "```\n",
    "\n",
    "### Iterating Over Tuples:\n",
    "You can iterate over a tuple using a loop, just like with lists. This allows you to access each element of the tuple sequentially.\n",
    "\n",
    "```python\n",
    "my_tuple = (1, 2, 3, 4, 5)\n",
    "\n",
    "for element in my_tuple:\n",
    "    print(element)\n",
    "```\n",
    "\n",
    "You can also use tuple unpacking to iterate over tuples:\n",
    "\n",
    "```python\n",
    "coordinates = ((1, 2), (3, 4), (5, 6))\n",
    "\n",
    "for x, y in coordinates:\n",
    "    print(f\"x: {x}, y: {y}\")\n",
    "```\n",
    "\n",
    "### Use Cases:\n",
    "Slicing and iteration are handy tools when working with tuples:\n",
    "- **Slicing**: Useful for extracting specific subsets of data from a tuple.\n",
    "- **Iteration**: Helpful for processing each element of a tuple sequentially, such as performing calculations or applying operations.\n",
    "\n",
    "```python\n",
    "# Example: Calculate the sum of elements in a tuple\n",
    "my_tuple = (1, 2, 3, 4, 5)\n",
    "total = 0\n",
    "\n",
    "for num in my_tuple:\n",
    "    total += num\n",
    "\n",
    "print(total)  # Output: 15\n",
    "```\n",
    "\n",
    "In summary, slicing allows you to extract portions of a tuple, while iteration enables you to loop over each element of the tuple for processing. These features make tuples versatile data structures in Python."
   ]
  },
  {
   "cell_type": "code",
   "execution_count": 204,
   "metadata": {},
   "outputs": [
    {
     "name": "stdout",
     "output_type": "stream",
     "text": [
      "Index: 0, Value: a\n",
      "Index: 1, Value: b\n",
      "Index: 2, Value: c\n",
      "Index: 3, Value: d\n",
      "Index: 4, Value: e\n"
     ]
    }
   ],
   "source": [
    "my_tuple = ('a', 'b', 'c', 'd', 'e')\n",
    "\n",
    "for index, value in enumerate(my_tuple):\n",
    "    print(f\"Index: {index}, Value: {value}\")\n"
   ]
  },
  {
   "cell_type": "markdown",
   "metadata": {},
   "source": [
    "# Conversion of Tuples and Tuple Functions\n"
   ]
  },
  {
   "cell_type": "code",
   "execution_count": null,
   "metadata": {},
   "outputs": [],
   "source": []
  }
 ],
 "metadata": {
  "kernelspec": {
   "display_name": "Python 3",
   "language": "python",
   "name": "python3"
  },
  "language_info": {
   "codemirror_mode": {
    "name": "ipython",
    "version": 3
   },
   "file_extension": ".py",
   "mimetype": "text/x-python",
   "name": "python",
   "nbconvert_exporter": "python",
   "pygments_lexer": "ipython3",
   "version": "3.11.0"
  }
 },
 "nbformat": 4,
 "nbformat_minor": 2
}
